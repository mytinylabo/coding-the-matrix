{
 "cells": [
  {
   "cell_type": "code",
   "execution_count": 51,
   "metadata": {},
   "outputs": [],
   "source": [
    "# p395 7.7 ラボ：整数の素因数分解\n",
    "import random\n",
    "from vec import Vec\n",
    "from vecutil import *\n",
    "from matutil import *\n",
    "from GF2 import one\n",
    "from factoring_support import *\n",
    "from echelon import *"
   ]
  },
  {
   "cell_type": "code",
   "execution_count": 2,
   "metadata": {},
   "outputs": [
    {
     "name": "stdout",
     "output_type": "stream",
     "text": [
      "root_method( 55 ) =  5\n",
      "root_method( 77 ) =  1\n",
      "root_method( 146771 ) =  317\n"
     ]
    }
   ],
   "source": [
    "# 課題 7.7.1\n",
    "def root_method(N):\n",
    "    a = intsqrt(N) + 1\n",
    "    while True:\n",
    "        b = sqrt(a**2 - N)\n",
    "        if b.is_integer():\n",
    "            return a - int(b)\n",
    "        a += 1\n",
    "\n",
    "for n in [55, 77, 146771]: # 118 -> infinite loop\n",
    "    print('root_method(', n, ') = ', root_method(n))"
   ]
  },
  {
   "cell_type": "code",
   "execution_count": 3,
   "metadata": {},
   "outputs": [
    {
     "name": "stdout",
     "output_type": "stream",
     "text": [
      "342098021836 6955094996 1549364\n",
      "a % d =  0\n",
      "b % d =  0\n",
      "d >= s:  True 387341\n",
      "351443000992 42240525544 423256\n",
      "a % d =  0\n",
      "b % d =  0\n",
      "d >= s:  True 423256\n",
      "141876914418 43617576492 489942\n",
      "a % d =  0\n",
      "b % d =  0\n",
      "d >= s:  True 163314\n",
      "151341562536 173635368396 276204\n",
      "a % d =  0\n",
      "b % d =  0\n",
      "d >= s:  True 276204\n",
      "66828382848 374165212752 468432\n",
      "a % d =  0\n",
      "b % d =  0\n",
      "d >= s:  True 468432\n"
     ]
    }
   ],
   "source": [
    "# 課題 7.7.2\n",
    "def gcd(x, y):\n",
    "    return x if y == 0 else gcd(y, x % y)\n",
    "\n",
    "for i in range(5):\n",
    "    r, s, t = [random.randint(10000, 1000000) for j in range(3)]\n",
    "    a = r * s\n",
    "    b = s * t\n",
    "    d = gcd(a, b)\n",
    "    print(a, b, d)\n",
    "    print('a % d = ', a % d)\n",
    "    print('b % d = ', b % d)\n",
    "    print('d >= s: ', d >= s, s)"
   ]
  },
  {
   "cell_type": "code",
   "execution_count": 4,
   "metadata": {},
   "outputs": [
    {
     "name": "stdout",
     "output_type": "stream",
     "text": [
      "0\n",
      "19117318483477\n"
     ]
    }
   ],
   "source": [
    "# 課題 7.7.3\n",
    "N = 367160330145890434494322103\n",
    "a = 67469780066325164\n",
    "b = 9429601150488992\n",
    "\n",
    "print((a**2 - b**2) % N)\n",
    "print(gcd(N, a - b))"
   ]
  },
  {
   "cell_type": "code",
   "execution_count": 8,
   "metadata": {},
   "outputs": [
    {
     "name": "stdout",
     "output_type": "stream",
     "text": [
      "[(2, 2), (3, 1)]\n",
      "[(2, 1), (7, 1), (11, 1)]\n",
      "[(2, 1), (3, 3), (11, 2), (13, 1)]\n",
      "[]\n",
      "[]\n"
     ]
    }
   ],
   "source": [
    "# 課題 7.7.4\n",
    "primeset  = {2,3,5,7,11,13}\n",
    "for x in [12, 154, 2*3*3*3*11*11*13, 2*17, 2*3*5*7*19]:\n",
    "    print(dumb_factor(x, primeset))"
   ]
  },
  {
   "cell_type": "code",
   "execution_count": 14,
   "metadata": {},
   "outputs": [],
   "source": [
    "# 課題 7.7.5\n",
    "def int2GF2(i):\n",
    "    return one if i % 2 == 1 else 0\n",
    "\n",
    "assert int2GF2(3) == one\n",
    "assert int2GF2(100) == 0\n",
    "\n",
    "# 課題 7.7.6\n",
    "def make_Vec(primeset, factors):\n",
    "    return Vec(primeset, {p: int2GF2(a) for p, a in factors})\n",
    "\n",
    "assert make_Vec({2,3,11}, [(2,3), (3,2)]) == Vec({2,3,11},{2:one})"
   ]
  },
  {
   "cell_type": "code",
   "execution_count": 33,
   "metadata": {},
   "outputs": [
    {
     "name": "stdout",
     "output_type": "stream",
     "text": [
      "[9, 10, 11, 24, 26]\n",
      "\n",
      "   2   3   5 7\n",
      "--------------\n",
      " one one one 0\n",
      "\n",
      " 2 3 5 7\n",
      "--------\n",
      " 0 0 0 0\n"
     ]
    }
   ],
   "source": [
    "# 課題 7.7.7\n",
    "def find_candidates(N, primeset):\n",
    "    roots = []\n",
    "    rowlist = []\n",
    "    i = 2\n",
    "    sqrtN = intsqrt(N)\n",
    "    while len(roots) <= len(primeset):\n",
    "        x = sqrtN + i\n",
    "        factors = dumb_factor(x**2 - N, primeset)\n",
    "        if factors:\n",
    "            roots.append(x)\n",
    "            rowlist.append(make_Vec(primeset, factors))\n",
    "        i += 1\n",
    "    return (roots, rowlist)\n",
    "\n",
    "N = 51\n",
    "primeset = primes(intsqrt(N)+1)\n",
    "roots, rowlist = find_candidates(N, primeset)\n",
    "print(roots)\n",
    "print(rowlist[0])\n",
    "print(rowlist[1]) # 10**2 - 51 = 49 = 7**2 で指数が偶数だと0になるため、全体でゼロベクトル"
   ]
  },
  {
   "cell_type": "code",
   "execution_count": 48,
   "metadata": {},
   "outputs": [],
   "source": [
    "N = 2419\n",
    "primeset = primes(32)\n",
    "roots, rowlist = find_candidates(N, primeset)"
   ]
  },
  {
   "cell_type": "code",
   "execution_count": 49,
   "metadata": {},
   "outputs": [
    {
     "name": "stdout",
     "output_type": "stream",
     "text": [
      "\n",
      "        11  13 17 19   2 23 29   3 31   5 7\n",
      "      -------------------------------------\n",
      " 53  |   0 one  0  0 one  0  0 one  0 one 0\n",
      " 77  |   0 one  0  0 one  0  0 one  0 one 0\n",
      "\n"
     ]
    }
   ],
   "source": [
    "A = rowdict2mat({r: v for r, v in zip(roots, rowlist) if r in [53, 77]})\n",
    "print(A)"
   ]
  },
  {
   "cell_type": "code",
   "execution_count": 39,
   "metadata": {},
   "outputs": [
    {
     "data": {
      "text/plain": [
       "41"
      ]
     },
     "execution_count": 39,
     "metadata": {},
     "output_type": "execute_result"
    }
   ],
   "source": [
    "# 課題 7.7.8\n",
    "a = 53 * 77\n",
    "b = 2 * 3**2 * 5 * 13\n",
    "gcd(a - b, N)"
   ]
  },
  {
   "cell_type": "code",
   "execution_count": 46,
   "metadata": {},
   "outputs": [
    {
     "name": "stdout",
     "output_type": "stream",
     "text": [
      "\n",
      "        11 13 17  19   2  23 29   3 31   5 7\n",
      "      --------------------------------------\n",
      " 52  |   0  0  0 one   0   0  0 one  0 one 0\n",
      " 67  |   0  0  0   0 one one  0   0  0 one 0\n",
      " 71  |   0  0  0 one one one  0 one  0   0 0\n",
      "\n"
     ]
    },
    {
     "data": {
      "text/plain": [
       "2419"
      ]
     },
     "execution_count": 46,
     "metadata": {},
     "output_type": "execute_result"
    }
   ],
   "source": [
    "# 課題 7.7.9\n",
    "A = rowdict2mat({r: v for r, v in zip(roots, rowlist) if r in [52, 67, 71]})\n",
    "print(A)\n",
    "        \n",
    "a = 52 * 67 * 71\n",
    "b = 2 * 3**2 * 5 * 19 * 23\n",
    "gcd(a - b, N)"
   ]
  },
  {
   "cell_type": "code",
   "execution_count": 77,
   "metadata": {},
   "outputs": [
    {
     "name": "stdout",
     "output_type": "stream",
     "text": [
      "\n",
      "        11  13 17  19   2  23 29   3  31   5   7\n",
      "      ------------------------------------------\n",
      "  0  |   0 one  0   0 one   0  0   0   0   0 one\n",
      "  1  |   0   0  0 one   0   0  0 one   0 one   0\n",
      "  2  |   0 one  0   0 one   0  0 one   0 one   0\n",
      "  3  |   0   0  0   0   0   0  0 one   0 one one\n",
      "  4  |   0   0  0   0 one   0  0 one one   0 one\n",
      "  5  |   0   0  0 one   0   0  0 one   0   0   0\n",
      "  6  |   0   0  0   0 one   0  0   0 one   0   0\n",
      "  7  |   0   0  0   0 one one  0   0   0 one   0\n",
      "  8  |   0   0  0   0   0   0  0   0   0 one   0\n",
      "  9  |   0   0  0 one one one  0 one   0   0   0\n",
      " 10  |   0 one  0   0 one   0  0 one   0 one   0\n",
      " 11  |   0 one  0   0 one   0  0 one   0   0   0\n",
      "\n"
     ]
    }
   ],
   "source": [
    "A = rowdict2mat(rowlist)\n",
    "A.pp(sorted(A.D[0]), None)"
   ]
  },
  {
   "cell_type": "code",
   "execution_count": 84,
   "metadata": {},
   "outputs": [
    {
     "name": "stdout",
     "output_type": "stream",
     "text": [
      "[(0, 51), (1, 52), (2, 53), (3, 58), (4, 61), (5, 62), (6, 63), (7, 67), (8, 68), (9, 71), (10, 77), (11, 79)]\n",
      "\n",
      "          0   1   2   3   4   5   6   7   8   9  10  11\n",
      "      -------------------------------------------------\n",
      "  0  |  one   0   0   0   0   0   0   0   0   0   0   0\n",
      "  1  |    0 one   0   0   0   0   0   0   0   0   0   0\n",
      "  2  |    0   0   0   0 one   0   0   0   0   0   0   0\n",
      "  3  |    0   0   0   0 one   0   0 one   0   0   0   0\n",
      "  4  |  one   0 one   0   0   0   0   0   0   0   0   0\n",
      "  5  |    0 one   0   0   0 one   0   0   0   0   0   0\n",
      "  6  |  one   0 one one   0   0   0   0   0   0   0   0\n",
      "  7  |  one one one   0 one one one   0   0   0   0   0\n",
      "  8  |    0 one   0   0   0 one   0   0 one   0   0   0\n",
      "  9  |    0 one   0   0   0   0   0 one   0 one   0   0\n",
      " 10  |    0   0 one   0   0   0   0   0   0   0 one   0\n",
      " 11  |    0 one one   0   0 one   0   0   0   0   0 one\n",
      "\n",
      "\n",
      "        11  13 17  19   2  23 29   3  31   5   7\n",
      "      ------------------------------------------\n",
      "  0  |   0 one  0   0 one   0  0   0   0   0 one\n",
      "  1  |   0   0  0 one   0   0  0 one   0 one   0\n",
      "  2  |   0   0  0   0 one   0  0 one one   0 one\n",
      "  3  |   0   0  0   0   0 one  0 one one one one\n",
      "  4  |   0   0  0   0   0   0  0 one   0 one one\n",
      "  5  |   0   0  0   0   0   0  0   0   0 one   0\n",
      "  6  |   0   0  0   0   0   0  0   0   0   0   0\n",
      "  7  |   0   0  0   0   0   0  0   0   0   0   0\n",
      "  8  |   0   0  0   0   0   0  0   0   0   0   0\n",
      "  9  |   0   0  0   0   0   0  0   0   0   0   0\n",
      " 10  |   0   0  0   0   0   0  0   0   0   0   0\n",
      " 11  |   0   0  0   0   0   0  0   0   0   0   0\n",
      "\n"
     ]
    }
   ],
   "source": [
    "print(list(enumerate(roots)))\n",
    "\n",
    "M_rowlist = transformation_rows(rowlist)\n",
    "M = rowdict2mat(M_rowlist)\n",
    "M.pp(sorted(M.D[0]), sorted(M.D[1]))\n",
    "\n",
    "U = M * A\n",
    "U.pp(sorted(U.D[0]), None)"
   ]
  },
  {
   "cell_type": "code",
   "execution_count": 95,
   "metadata": {},
   "outputs": [
    {
     "name": "stdout",
     "output_type": "stream",
     "text": [
      "\n",
      "   0   1  10 11 2 3   4   5   6 7 8 9\n",
      "-------------------------------------\n",
      " one one one  0 0 0 one one one 0 0 0\n"
     ]
    },
    {
     "data": {
      "text/plain": [
       "True"
      ]
     },
     "execution_count": 95,
     "metadata": {},
     "output_type": "execute_result"
    }
   ],
   "source": [
    "print(M_rowlist[7] + M_rowlist[10])\n",
    "((M_rowlist[7] + M_rowlist[10]) * A).is_almost_zero()"
   ]
  }
 ],
 "metadata": {
  "kernelspec": {
   "display_name": "Python 3",
   "language": "python",
   "name": "python3"
  },
  "language_info": {
   "codemirror_mode": {
    "name": "ipython",
    "version": 3
   },
   "file_extension": ".py",
   "mimetype": "text/x-python",
   "name": "python",
   "nbconvert_exporter": "python",
   "pygments_lexer": "ipython3",
   "version": "3.6.8"
  }
 },
 "nbformat": 4,
 "nbformat_minor": 2
}
