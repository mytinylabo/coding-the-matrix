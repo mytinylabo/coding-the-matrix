{
 "cells": [
  {
   "cell_type": "code",
   "execution_count": 1,
   "metadata": {},
   "outputs": [
    {
     "data": {
      "text/plain": [
       "Vec({0, 1, 2},{0: 14, 1: 32, 2: 50})"
      ]
     },
     "execution_count": 1,
     "metadata": {},
     "output_type": "execute_result"
    }
   ],
   "source": [
    "from vec import Vec\n",
    "\n",
    "# p144 クイズ 3.1.7\n",
    "def lin_comb(vlist, clist):\n",
    "    return sum(c * v for v, c in zip(vlist, clist))\n",
    "\n",
    "d = {0, 1, 2}\n",
    "lin_comb([Vec(d, {0: 1, 1: 4, 2: 7})\n",
    "         ,Vec(d, {0: 2, 1: 5, 2: 8})\n",
    "         ,Vec(d, {0: 3, 1: 6, 2: 9})], [1, 2, 3])"
   ]
  },
  {
   "cell_type": "code",
   "execution_count": 2,
   "metadata": {},
   "outputs": [
    {
     "data": {
      "text/plain": [
       "[Vec({0, 1, 2, 3},{0: 1}),\n",
       " Vec({0, 1, 2, 3},{1: 1}),\n",
       " Vec({0, 1, 2, 3},{2: 1}),\n",
       " Vec({0, 1, 2, 3},{3: 1})]"
      ]
     },
     "execution_count": 2,
     "metadata": {},
     "output_type": "execute_result"
    }
   ],
   "source": [
    "# p151 クイズ 3.2.13\n",
    "def standard(D, one):\n",
    "    return [Vec(D, {k: one}) for k in D]\n",
    "\n",
    "standard(set(range(4)), 1)"
   ]
  },
  {
   "cell_type": "code",
   "execution_count": 3,
   "metadata": {},
   "outputs": [
    {
     "data": {
      "text/plain": [
       "[Vec({'foo', 'baz', 'bar'},{'foo': 1}),\n",
       " Vec({'foo', 'baz', 'bar'},{'baz': 1}),\n",
       " Vec({'foo', 'baz', 'bar'},{'bar': 1})]"
      ]
     },
     "execution_count": 3,
     "metadata": {},
     "output_type": "execute_result"
    }
   ],
   "source": [
    "standard({'foo','bar','baz'}, 1)"
   ]
  },
  {
   "cell_type": "code",
   "execution_count": 4,
   "metadata": {
    "scrolled": true
   },
   "outputs": [
    {
     "data": {
      "text/plain": [
       "Vec({0, 1, 2},{0: one, 1: one, 2: one})"
      ]
     },
     "execution_count": 4,
     "metadata": {},
     "output_type": "execute_result"
    }
   ],
   "source": [
    "import GF2\n",
    "\n",
    "sum(standard(set(range(3)), GF2.one))"
   ]
  },
  {
   "cell_type": "markdown",
   "metadata": {},
   "source": [
    "### p180 問題 3.8.4\n",
    "$z=ax+by$ は原点を通るフラットである。$x=1, y=0$ のとき $z=a$ なので点 $[1,0,a]$ はこのフラットに含まれる。また、$x=0, y=1$ のとき $z=b$ なので点 $[0,1,b]$ もこのフラットに含まれる。\n",
    "\n",
    "そこで $v_1=[1,0,a], v_2=[0,1,b]$ と置いてこの線形結合 $\\alpha v_1 + \\beta v_2$ を考える。\n",
    "\n",
    "$\\alpha v_1 + \\beta v_2 = [\\alpha, \\beta, a\\alpha+b\\beta]$\n",
    "\n",
    "線形包は $\\{[\\alpha, \\beta, a\\alpha+b\\beta]:\\alpha,\\beta \\in \\mathbb{R}\\}$ で、これは方程式 $z=ax+by$ を満たす点 $[x,y,z]$ の集合と一致する。"
   ]
  },
  {
   "cell_type": "markdown",
   "metadata": {},
   "source": [
    "問題 3.8.5 も考え方は同じで、アフィン結合になっているだけ。"
   ]
  }
 ],
 "metadata": {
  "kernelspec": {
   "display_name": "Python 3",
   "language": "python",
   "name": "python3"
  },
  "language_info": {
   "codemirror_mode": {
    "name": "ipython",
    "version": 3
   },
   "file_extension": ".py",
   "mimetype": "text/x-python",
   "name": "python",
   "nbconvert_exporter": "python",
   "pygments_lexer": "ipython3",
   "version": "3.7.3"
  }
 },
 "nbformat": 4,
 "nbformat_minor": 2
}
