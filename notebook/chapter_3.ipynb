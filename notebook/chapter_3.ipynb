{
 "cells": [
  {
   "cell_type": "code",
   "execution_count": 15,
   "metadata": {},
   "outputs": [
    {
     "data": {
      "text/plain": [
       "Vec({0, 1, 2},{0: 14, 1: 32, 2: 50})"
      ]
     },
     "execution_count": 15,
     "metadata": {},
     "output_type": "execute_result"
    }
   ],
   "source": [
    "from vec import Vec\n",
    "\n",
    "# p144 クイズ 3.1.7\n",
    "def lin_comb(vlist, clist):\n",
    "    return sum(c * v for v, c in zip(vlist, clist))\n",
    "\n",
    "d = {0, 1, 2}\n",
    "lin_comb([Vec(d, {0: 1, 1: 4, 2: 7})\n",
    "         ,Vec(d, {0: 2, 1: 5, 2: 8})\n",
    "         ,Vec(d, {0: 3, 1: 6, 2: 9})], [1, 2, 3])"
   ]
  },
  {
   "cell_type": "code",
   "execution_count": 24,
   "metadata": {},
   "outputs": [
    {
     "data": {
      "text/plain": [
       "[Vec({0, 1, 2, 3},{0: 1}),\n",
       " Vec({0, 1, 2, 3},{1: 1}),\n",
       " Vec({0, 1, 2, 3},{2: 1}),\n",
       " Vec({0, 1, 2, 3},{3: 1})]"
      ]
     },
     "execution_count": 24,
     "metadata": {},
     "output_type": "execute_result"
    }
   ],
   "source": [
    "# p151 クイズ 3.2.13\n",
    "def standard(D, one):\n",
    "    return [Vec(D, {k: one}) for k in D]\n",
    "\n",
    "standard(set(range(4)), 1)"
   ]
  },
  {
   "cell_type": "code",
   "execution_count": 25,
   "metadata": {},
   "outputs": [
    {
     "data": {
      "text/plain": [
       "[Vec({'foo', 'bar', 'baz'},{'foo': 1}),\n",
       " Vec({'foo', 'bar', 'baz'},{'bar': 1}),\n",
       " Vec({'foo', 'bar', 'baz'},{'baz': 1})]"
      ]
     },
     "execution_count": 25,
     "metadata": {},
     "output_type": "execute_result"
    }
   ],
   "source": [
    "standard({'foo','bar','baz'}, 1)"
   ]
  },
  {
   "cell_type": "code",
   "execution_count": 26,
   "metadata": {},
   "outputs": [
    {
     "data": {
      "text/plain": [
       "Vec({0, 1, 2},{0: one, 1: one, 2: one})"
      ]
     },
     "execution_count": 26,
     "metadata": {},
     "output_type": "execute_result"
    }
   ],
   "source": [
    "import GF2\n",
    "\n",
    "sum(standard(set(range(3)), GF2.one))"
   ]
  }
 ],
 "metadata": {
  "kernelspec": {
   "display_name": "Python 3",
   "language": "python",
   "name": "python3"
  },
  "language_info": {
   "codemirror_mode": {
    "name": "ipython",
    "version": 3
   },
   "file_extension": ".py",
   "mimetype": "text/x-python",
   "name": "python",
   "nbconvert_exporter": "python",
   "pygments_lexer": "ipython3",
   "version": "3.7.5"
  }
 },
 "nbformat": 4,
 "nbformat_minor": 2
}
