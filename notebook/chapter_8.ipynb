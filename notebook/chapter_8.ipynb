{
 "cells": [
  {
   "cell_type": "code",
   "execution_count": 8,
   "metadata": {},
   "outputs": [],
   "source": [
    "import math\n",
    "from vecutil import *\n",
    "from matutil import *"
   ]
  },
  {
   "cell_type": "code",
   "execution_count": 5,
   "metadata": {},
   "outputs": [
    {
     "data": {
      "text/plain": [
       "Vec({0, 1},{0: 1.0, 1: 0.0})"
      ]
     },
     "execution_count": 5,
     "metadata": {},
     "output_type": "execute_result"
    }
   ],
   "source": [
    "# クイズ 8.3.12\n",
    "\n",
    "def project_along(b, v):\n",
    "    return (((b*v) / (v*v)) if not v.is_almost_zero() else 0) * v\n",
    "\n",
    "b = list2vec([1, 1])\n",
    "v = list2vec([2, 0])\n",
    "project_along(b, v)"
   ]
  },
  {
   "cell_type": "code",
   "execution_count": 14,
   "metadata": {},
   "outputs": [
    {
     "data": {
      "text/plain": [
       "True"
      ]
     },
     "execution_count": 14,
     "metadata": {},
     "output_type": "execute_result"
    }
   ],
   "source": [
    "b = list2vec([1, math.sqrt(3)])\n",
    "v = list2vec([math.sqrt(3), 1])\n",
    "(project_along(b, v) - list2vec([1.5, math.sqrt(3)/2])).is_almost_zero()"
   ]
  },
  {
   "cell_type": "code",
   "execution_count": 16,
   "metadata": {},
   "outputs": [
    {
     "data": {
      "text/plain": [
       "True"
      ]
     },
     "execution_count": 16,
     "metadata": {},
     "output_type": "execute_result"
    }
   ],
   "source": [
    "# クイズ 8.3.13\n",
    "\n",
    "def project_orthogonal_1(b, v):\n",
    "    return b - project_along(b, v) if not v.is_almost_zero() else b\n",
    "\n",
    "(project_orthogonal_1(b, v) - list2vec([-0.5, math.sqrt(3)/2])).is_almost_zero()"
   ]
  },
  {
   "cell_type": "code",
   "execution_count": 21,
   "metadata": {},
   "outputs": [
    {
     "name": "stdout",
     "output_type": "stream",
     "text": [
      "最も近い点 \n",
      " 0 1\n",
      "----\n",
      " 3 1\n",
      "距離 3.1622776601683795\n"
     ]
    },
    {
     "data": {
      "text/plain": [
       "0.0"
      ]
     },
     "execution_count": 21,
     "metadata": {},
     "output_type": "execute_result"
    }
   ],
   "source": [
    "# 消防車問題の解\n",
    "b = list2vec([2, 4])\n",
    "v = list2vec([6, 2])\n",
    "\n",
    "print('最も近い点', project_along(b, v))\n",
    "\n",
    "dvec = project_orthogonal_1(b, v)\n",
    "d = math.sqrt(dvec * dvec)\n",
    "print('距離', d)\n",
    "d - math.sqrt(10)"
   ]
  },
  {
   "cell_type": "code",
   "execution_count": 37,
   "metadata": {},
   "outputs": [
    {
     "name": "stdout",
     "output_type": "stream",
     "text": [
      "\n",
      " 0 1\n",
      "----\n",
      " 3 1\n"
     ]
    }
   ],
   "source": [
    "# 問題 8.3.15\n",
    "\n",
    "def projection_matrix(v):\n",
    "    if v.is_almost_zero():\n",
    "        return Mat((v.D, v.D), {})\n",
    "    return (1/(v*v))*(coldict2mat([v])*rowdict2mat([v]))\n",
    "\n",
    "M = projection_matrix(v)\n",
    "M*b == project_along(b, v)\n",
    "\n",
    "print((1/(v*v))*(coldict2mat([v]) * (rowdict2mat([v])*b)))"
   ]
  },
  {
   "cell_type": "code",
   "execution_count": 38,
   "metadata": {},
   "outputs": [],
   "source": [
    "# 問題 8.3.16\n",
    "\n",
    "# v = (v1, ..., vn) の縦ベクトルとし、\n",
    "# a = 1/(v*v)\n",
    "# M = a*v*v^T のとき、v の i 番目の要素を vi、M の i 行目を Mi とすると\n",
    "# Mi = a*vi*v^T\n",
    "# a*vi はスカラであり、v^T は 1*n 行列なので、\n",
    "# M の各行は全て v^T のスカラ倍を行ベクトルとみなしたものとなる。\n",
    "# よって rank M = 1。\n",
    "\n",
    "# v に沿った射影は Span{v} に属するので、v がゼロベクトルでないなら\n",
    "# その次元は常に 1 になる、ということ。"
   ]
  },
  {
   "cell_type": "code",
   "execution_count": 39,
   "metadata": {},
   "outputs": [],
   "source": [
    "# 問題 8.3.17\n",
    "\n",
    "# 1. n^2\n",
    "\n",
    "# 2.\n",
    "# 問題 8.3.16 より M1 = a*v, M2 = v^T とする。\n",
    "# M2*x はドット積になるので n 回の乗算。この結果を M2x とすると\n",
    "# M1*M2x はベクトルのスカラ倍なので n 回の乗算。\n",
    "# 合計 2n 回の乗算で M*x を計算できる。"
   ]
  }
 ],
 "metadata": {
  "kernelspec": {
   "display_name": "Python 3",
   "language": "python",
   "name": "python3"
  },
  "language_info": {
   "codemirror_mode": {
    "name": "ipython",
    "version": 3
   },
   "file_extension": ".py",
   "mimetype": "text/x-python",
   "name": "python",
   "nbconvert_exporter": "python",
   "pygments_lexer": "ipython3",
   "version": "3.6.8"
  }
 },
 "nbformat": 4,
 "nbformat_minor": 2
}
