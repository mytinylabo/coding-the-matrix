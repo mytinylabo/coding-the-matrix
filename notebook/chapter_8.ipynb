{
 "cells": [
  {
   "cell_type": "code",
   "execution_count": 2,
   "metadata": {},
   "outputs": [],
   "source": [
    "import math\n",
    "from vec import Vec\n",
    "from mat import Mat\n",
    "from vecutil import *\n",
    "from matutil import *"
   ]
  },
  {
   "cell_type": "code",
   "execution_count": 5,
   "metadata": {},
   "outputs": [
    {
     "data": {
      "text/plain": [
       "Vec({0, 1},{0: 1.0, 1: 0.0})"
      ]
     },
     "execution_count": 5,
     "metadata": {},
     "output_type": "execute_result"
    }
   ],
   "source": [
    "# クイズ 8.3.12\n",
    "\n",
    "def project_along(b, v):\n",
    "    return (((b*v) / (v*v)) if not v.is_almost_zero() else 0) * v\n",
    "\n",
    "b = list2vec([1, 1])\n",
    "v = list2vec([2, 0])\n",
    "project_along(b, v)"
   ]
  },
  {
   "cell_type": "code",
   "execution_count": 14,
   "metadata": {},
   "outputs": [
    {
     "data": {
      "text/plain": [
       "True"
      ]
     },
     "execution_count": 14,
     "metadata": {},
     "output_type": "execute_result"
    }
   ],
   "source": [
    "b = list2vec([1, math.sqrt(3)])\n",
    "v = list2vec([math.sqrt(3), 1])\n",
    "(project_along(b, v) - list2vec([1.5, math.sqrt(3)/2])).is_almost_zero()"
   ]
  },
  {
   "cell_type": "code",
   "execution_count": 16,
   "metadata": {},
   "outputs": [
    {
     "data": {
      "text/plain": [
       "True"
      ]
     },
     "execution_count": 16,
     "metadata": {},
     "output_type": "execute_result"
    }
   ],
   "source": [
    "# クイズ 8.3.13\n",
    "\n",
    "def project_orthogonal_1(b, v):\n",
    "    return b - project_along(b, v) if not v.is_almost_zero() else b\n",
    "\n",
    "(project_orthogonal_1(b, v) - list2vec([-0.5, math.sqrt(3)/2])).is_almost_zero()"
   ]
  },
  {
   "cell_type": "code",
   "execution_count": 21,
   "metadata": {},
   "outputs": [
    {
     "name": "stdout",
     "output_type": "stream",
     "text": [
      "最も近い点 \n",
      " 0 1\n",
      "----\n",
      " 3 1\n",
      "距離 3.1622776601683795\n"
     ]
    },
    {
     "data": {
      "text/plain": [
       "0.0"
      ]
     },
     "execution_count": 21,
     "metadata": {},
     "output_type": "execute_result"
    }
   ],
   "source": [
    "# 消防車問題の解\n",
    "b = list2vec([2, 4])\n",
    "v = list2vec([6, 2])\n",
    "\n",
    "print('最も近い点', project_along(b, v))\n",
    "\n",
    "dvec = project_orthogonal_1(b, v)\n",
    "d = math.sqrt(dvec * dvec)\n",
    "print('距離', d)\n",
    "d - math.sqrt(10)"
   ]
  },
  {
   "cell_type": "code",
   "execution_count": 37,
   "metadata": {},
   "outputs": [
    {
     "name": "stdout",
     "output_type": "stream",
     "text": [
      "\n",
      " 0 1\n",
      "----\n",
      " 3 1\n"
     ]
    }
   ],
   "source": [
    "# 問題 8.3.15\n",
    "\n",
    "def projection_matrix(v):\n",
    "    if v.is_almost_zero():\n",
    "        return Mat((v.D, v.D), {})\n",
    "    return (1/(v*v))*(coldict2mat([v])*rowdict2mat([v]))\n",
    "\n",
    "M = projection_matrix(v)\n",
    "M*b == project_along(b, v)\n",
    "\n",
    "print((1/(v*v))*(coldict2mat([v]) * (rowdict2mat([v])*b)))"
   ]
  },
  {
   "cell_type": "code",
   "execution_count": 38,
   "metadata": {},
   "outputs": [],
   "source": [
    "# 問題 8.3.16\n",
    "\n",
    "# v = (v1, ..., vn) の縦ベクトルとし、\n",
    "# a = 1/(v*v)\n",
    "# M = a*v*v^T のとき、v の i 番目の要素を vi、M の i 行目を Mi とすると\n",
    "# Mi = a*vi*v^T\n",
    "# a*vi はスカラであり、v^T は 1*n 行列なので、\n",
    "# M の各行は全て v^T のスカラ倍を行ベクトルとみなしたものとなる。\n",
    "# よって rank M = 1。\n",
    "\n",
    "# v に沿った射影は Span{v} に属するので、v がゼロベクトルでないなら\n",
    "# その次元は常に 1 になる、ということ。"
   ]
  },
  {
   "cell_type": "code",
   "execution_count": 39,
   "metadata": {},
   "outputs": [],
   "source": [
    "# 問題 8.3.17\n",
    "\n",
    "# 1. n^2\n",
    "\n",
    "# 2.\n",
    "# 問題 8.3.16 より M1 = a*v, M2 = v^T とする。\n",
    "# M2*x はドット積になるので n 回の乗算。この結果を M2x とすると\n",
    "# M1*M2x はベクトルのスカラ倍なので n 回の乗算。\n",
    "# 合計 2n 回の乗算で M*x を計算できる。"
   ]
  },
  {
   "cell_type": "code",
   "execution_count": 30,
   "metadata": {},
   "outputs": [],
   "source": [
    "# 課題 8.4.12\n",
    "\n",
    "from mat import *\n",
    "from vec import *\n",
    "from cancer_data import *\n",
    "\n",
    "def signum(u):\n",
    "    return Vec(u.D, {k: 1 if u[k] >= 0 else -1 for k in u.D})\n",
    "\n",
    "def fraction_wrong(A, b, w):\n",
    "    score = signum(A * w) * b\n",
    "    return 0.5 - score / (len(b.D) * 2)\n",
    "\n",
    "def loss(A, b, w):\n",
    "    v = A * w - b\n",
    "    return v * v\n",
    "\n",
    "def find_grad(A, b, w):\n",
    "    return 2 * ((A * w - b) * A)\n",
    "\n",
    "def gradient_descent_step(A, b, w, sigma):\n",
    "    return w - sigma * find_grad(A, b, w)\n",
    "\n",
    "def gradient_descent(A, b, w, sigma, T, dump_step=30):\n",
    "    v = w\n",
    "    for i in range(T):\n",
    "        if i % dump_step == 0:\n",
    "            print(f'i={i}, loss={loss(A, b, v)}, wrong={fraction_wrong(A, b, v)}')\n",
    "        v = gradient_descent_step(A, b, v, sigma)\n",
    "\n",
    "    print(f'{T} done, loss={loss(A, b, v)}, wrong={fraction_wrong(A, b, v)}')\n",
    "    return v"
   ]
  },
  {
   "cell_type": "code",
   "execution_count": 7,
   "metadata": {},
   "outputs": [],
   "source": [
    "A, b = read_training_data('train.data')"
   ]
  },
  {
   "cell_type": "code",
   "execution_count": 26,
   "metadata": {},
   "outputs": [
    {
     "name": "stdout",
     "output_type": "stream",
     "text": [
      "i=0, loss=1461169191.191652, wrong=0.5133333333333333\n",
      "i=30, loss=31801400738350.234, wrong=0.5133333333333333\n",
      "i=60, loss=6.932905202113073e+17, wrong=0.5133333333333333\n",
      "i=90, loss=1.5114169719634417e+22, wrong=0.5133333333333333\n",
      "i=120, loss=3.2949841322603435e+26, wrong=0.5133333333333333\n",
      "i=150, loss=7.183272805083952e+30, wrong=0.5133333333333333\n",
      "i=180, loss=1.565998685306609e+35, wrong=0.5133333333333333\n",
      "i=210, loss=3.413975702894656e+39, wrong=0.5133333333333333\n",
      "i=240, loss=7.442681918773817e+43, wrong=0.5133333333333333\n",
      "i=270, loss=1.6225515048942935e+48, wrong=0.5133333333333333\n",
      "i=300, loss=3.5372644092096974e+52, wrong=0.5133333333333333\n",
      "i=330, loss=7.711459058722956e+56, wrong=0.5133333333333333\n",
      "i=360, loss=1.6811466131717904e+61, wrong=0.5133333333333333\n",
      "i=390, loss=3.6650054334167194e+65, wrong=0.5133333333333333\n",
      "i=420, loss=7.98994253191978e+69, wrong=0.5133333333333333\n",
      "i=450, loss=1.7418577631920875e+74, wrong=0.5133333333333333\n",
      "i=480, loss=3.797359561813358e+78, wrong=0.5133333333333333\n",
      "500 done, loss=2.963428203400823e+81, wrong=0.5133333333333333\n",
      "\n",
      "                                      0\n",
      "                             ----------\n",
      "                area(mean)  |  1.32E+36\n",
      "              area(stderr)  |  9.67E+34\n",
      "               area(worst)  |   1.9E+36\n",
      "         compactness(mean)  |  1.91E+32\n",
      "       compactness(stderr)  |  4.42E+31\n",
      "        compactness(worst)  |  4.75E+32\n",
      "      concave points(mean)  |  1.08E+32\n",
      "    concave points(stderr)  |  2.03E+31\n",
      "     concave points(worst)  |  2.28E+32\n",
      "           concavity(mean)  |  1.95E+32\n",
      "         concavity(stderr)  |  5.59E+31\n",
      "          concavity(worst)  |  5.45E+32\n",
      "   fractal dimension(mean)  |  9.31E+31\n",
      " fractal dimension(stderr)  |  5.91E+30\n",
      "  fractal dimension(worst)  |   1.3E+32\n",
      "           perimeter(mean)  |  1.62E+35\n",
      "         perimeter(stderr)  |  5.88E+33\n",
      "          perimeter(worst)  |  1.96E+35\n",
      "              radius(mean)  |  2.46E+34\n",
      "            radius(stderr)  |   8.3E+32\n",
      "             radius(worst)  |  2.94E+34\n",
      "          smoothness(mean)  |  1.49E+32\n",
      "        smoothness(stderr)  |  1.02E+31\n",
      "         smoothness(worst)  |  2.07E+32\n",
      "            symmetry(mean)  |  2.82E+32\n",
      "          symmetry(stderr)  |  3.11E+31\n",
      "           symmetry(worst)  |  4.62E+32\n",
      "             texture(mean)  |  3.06E+34\n",
      "           texture(stderr)  |   1.8E+33\n",
      "            texture(worst)  |  4.12E+34\n",
      "\n"
     ]
    }
   ],
   "source": [
    "# All 1, 2*1e-9\n",
    "x1 = gradient_descent(A, b, Vec(A.D[1], {k: 1 for k in A.D[1]}), 2*1e-9, 500)\n",
    "print(coldict2mat([x1]))"
   ]
  },
  {
   "cell_type": "code",
   "execution_count": 27,
   "metadata": {},
   "outputs": [
    {
     "name": "stdout",
     "output_type": "stream",
     "text": [
      "i=0, loss=1461169191.191652, wrong=0.5133333333333333\n",
      "i=100, loss=1200437.5831500383, wrong=0.71\n",
      "i=200, loss=867605.9418958277, wrong=0.71\n",
      "i=300, loss=734611.2175125659, wrong=0.7066666666666667\n",
      "i=400, loss=651904.0770459623, wrong=0.6933333333333334\n",
      "i=500, loss=586598.9200006454, wrong=0.69\n",
      "i=600, loss=530744.4617764842, wrong=0.6799999999999999\n",
      "i=700, loss=481833.0340890291, wrong=0.6799999999999999\n",
      "i=800, loss=438640.38833418116, wrong=0.67\n",
      "i=900, loss=400322.0766236512, wrong=0.67\n",
      "i=1000, loss=366204.2204522164, wrong=0.6633333333333333\n",
      "i=1100, loss=335724.5101971076, wrong=0.66\n",
      "i=1200, loss=308407.5033339742, wrong=0.6533333333333333\n",
      "i=1300, loss=283849.2194462378, wrong=0.64\n",
      "i=1400, loss=261705.38941127117, wrong=0.6366666666666667\n",
      "i=1500, loss=241681.8801563154, wrong=0.63\n",
      "i=1600, loss=223526.74711269882, wrong=0.63\n",
      "i=1700, loss=207023.60331847766, wrong=0.6233333333333333\n",
      "i=1800, loss=191986.07709661484, wrong=0.6233333333333333\n",
      "i=1900, loss=178253.17506169234, wrong=0.6166666666666667\n",
      "i=2000, loss=165685.39935656052, wrong=0.6166666666666667\n",
      "i=2100, loss=154161.4936680812, wrong=0.62\n",
      "i=2200, loss=143575.71367091732, wrong=0.61\n",
      "i=2300, loss=133835.53504847383, wrong=0.6\n",
      "i=2400, loss=124859.72678572826, wrong=0.5966666666666667\n",
      "i=2500, loss=116576.72952581961, wrong=0.5966666666666667\n",
      "i=2600, loss=108923.28884511473, wrong=0.5933333333333334\n",
      "i=2700, loss=101843.30167308498, wrong=0.59\n",
      "i=2800, loss=95286.84104862867, wrong=0.59\n",
      "i=2900, loss=89209.33020028284, wrong=0.59\n",
      "3000 done, loss=83570.84176099946, wrong=0.5833333333333334\n",
      "\n",
      "                                      0\n",
      "                             ----------\n",
      "                area(mean)  |   -0.0918\n",
      "              area(stderr)  |      0.46\n",
      "               area(worst)  |   0.00584\n",
      "         compactness(mean)  |     0.998\n",
      "       compactness(stderr)  |     0.999\n",
      "        compactness(worst)  |     0.996\n",
      "      concave points(mean)  |         1\n",
      "    concave points(stderr)  |         1\n",
      "     concave points(worst)  |     0.999\n",
      "           concavity(mean)  |     0.999\n",
      "         concavity(stderr)  |     0.999\n",
      "          concavity(worst)  |     0.996\n",
      "   fractal dimension(mean)  |     0.999\n",
      " fractal dimension(stderr)  |         1\n",
      "  fractal dimension(worst)  |     0.998\n",
      "           perimeter(mean)  |  -0.00996\n",
      "         perimeter(stderr)  |     0.943\n",
      "          perimeter(worst)  |    -0.148\n",
      "              radius(mean)  |     0.842\n",
      "            radius(stderr)  |     0.992\n",
      "             radius(worst)  |     0.823\n",
      "          smoothness(mean)  |     0.998\n",
      "        smoothness(stderr)  |         1\n",
      "         smoothness(worst)  |     0.997\n",
      "            symmetry(mean)  |     0.996\n",
      "          symmetry(stderr)  |     0.999\n",
      "           symmetry(worst)  |     0.994\n",
      "             texture(mean)  |     0.637\n",
      "           texture(stderr)  |     0.967\n",
      "            texture(worst)  |     0.514\n",
      "\n"
     ]
    }
   ],
   "source": [
    "# All 1, 1e-9\n",
    "x2 = gradient_descent(A, b, Vec(A.D[1], {k: 1 for k in A.D[1]}), 1e-9, 3000, 100)\n",
    "print(coldict2mat([x2]))"
   ]
  },
  {
   "cell_type": "code",
   "execution_count": 28,
   "metadata": {},
   "outputs": [
    {
     "name": "stdout",
     "output_type": "stream",
     "text": [
      "i=0, loss=83570.84176099946, wrong=0.5833333333333334\n",
      "i=100, loss=78335.50194250671, wrong=0.58\n",
      "i=200, loss=73470.98283587144, wrong=0.5766666666666667\n",
      "i=300, loss=68948.06878690509, wrong=0.5766666666666667\n",
      "i=400, loss=64740.28511160789, wrong=0.58\n",
      "i=500, loss=60823.57934621399, wrong=0.5733333333333334\n",
      "i=600, loss=57176.046833619104, wrong=0.5733333333333334\n",
      "i=700, loss=53777.69378719296, wrong=0.5733333333333334\n",
      "i=800, loss=50610.23208917595, wrong=0.5733333333333334\n",
      "i=900, loss=47656.90101147218, wrong=0.5733333333333334\n",
      "i=1000, loss=44902.3118228049, wrong=0.5766666666666667\n",
      "i=1100, loss=42332.31189377148, wrong=0.5733333333333334\n",
      "i=1200, loss=39933.86545187179, wrong=0.5766666666666667\n",
      "i=1300, loss=37694.948589981555, wrong=0.5766666666666667\n",
      "i=1400, loss=35604.45650891392, wrong=0.5766666666666667\n",
      "i=1500, loss=33652.12129003715, wrong=0.5766666666666667\n",
      "i=1600, loss=31828.438757727952, wrong=0.5766666666666667\n",
      "i=1700, loss=30124.60321229571, wrong=0.5766666666666667\n",
      "i=1800, loss=28532.44899907619, wrong=0.5766666666666667\n",
      "i=1900, loss=27044.39803459071, wrong=0.5733333333333334\n",
      "i=2000, loss=25653.412540954265, wrong=0.5733333333333334\n",
      "i=2100, loss=24352.952349211184, wrong=0.5666666666666667\n",
      "i=2200, loss=23136.936224406025, wrong=0.5633333333333334\n",
      "i=2300, loss=21999.70674281976, wrong=0.5566666666666666\n",
      "i=2400, loss=20935.998317294634, wrong=0.5566666666666666\n",
      "i=2500, loss=19940.908021918833, wrong=0.5566666666666666\n",
      "i=2600, loss=19009.868914193994, wrong=0.56\n",
      "i=2700, loss=18138.625592546072, wrong=0.5566666666666666\n",
      "i=2800, loss=17323.21176080735, wrong=0.5633333333333334\n",
      "i=2900, loss=16559.929600056614, wrong=0.56\n",
      "3000 done, loss=15845.330772753594, wrong=0.5566666666666666\n",
      "\n",
      "                                     0\n",
      "                             ---------\n",
      "                area(mean)  |  -0.0188\n",
      "              area(stderr)  |    0.142\n",
      "               area(worst)  |   0.0078\n",
      "         compactness(mean)  |    0.998\n",
      "       compactness(stderr)  |    0.999\n",
      "        compactness(worst)  |    0.995\n",
      "      concave points(mean)  |        1\n",
      "    concave points(stderr)  |        1\n",
      "     concave points(worst)  |    0.999\n",
      "           concavity(mean)  |    0.999\n",
      "         concavity(stderr)  |    0.999\n",
      "          concavity(worst)  |    0.996\n",
      "   fractal dimension(mean)  |    0.998\n",
      " fractal dimension(stderr)  |        1\n",
      "  fractal dimension(worst)  |    0.998\n",
      "           perimeter(mean)  |   -0.166\n",
      "         perimeter(stderr)  |    0.922\n",
      "          perimeter(worst)  |   -0.329\n",
      "              radius(mean)  |    0.818\n",
      "            radius(stderr)  |    0.989\n",
      "             radius(worst)  |    0.795\n",
      "          smoothness(mean)  |    0.998\n",
      "        smoothness(stderr)  |        1\n",
      "         smoothness(worst)  |    0.997\n",
      "            symmetry(mean)  |    0.995\n",
      "          symmetry(stderr)  |    0.999\n",
      "           symmetry(worst)  |    0.993\n",
      "             texture(mean)  |     0.55\n",
      "           texture(stderr)  |    0.958\n",
      "            texture(worst)  |    0.399\n",
      "\n"
     ]
    }
   ],
   "source": [
    "# All 1, 1e-9 続き\n",
    "x2_2 = gradient_descent(A, b, x2, 1e-9, 3000, 100)\n",
    "print(coldict2mat([x2_2]))"
   ]
  },
  {
   "cell_type": "code",
   "execution_count": 29,
   "metadata": {},
   "outputs": [
    {
     "name": "stdout",
     "output_type": "stream",
     "text": [
      "i=0, loss=15845.330772753594, wrong=0.5566666666666666\n",
      "i=100, loss=15176.19890510975, wrong=0.5533333333333333\n",
      "i=200, loss=14549.533411662995, wrong=0.5533333333333333\n",
      "i=300, loss=13962.534541527377, wrong=0.5533333333333333\n",
      "i=400, loss=13412.589539170487, wrong=0.56\n",
      "i=500, loss=12897.259824148285, wrong=0.55\n",
      "i=600, loss=12414.269104280436, wrong=0.5466666666666666\n",
      "i=700, loss=11961.49234550399, wrong=0.54\n",
      "i=800, loss=11536.945529293393, wrong=0.5366666666666666\n",
      "i=900, loss=11138.776135243617, wrong=0.53\n",
      "i=1000, loss=10765.254292313997, wrong=0.5266666666666666\n",
      "i=1100, loss=10414.764547440103, wrong=0.5233333333333333\n",
      "i=1200, loss=10085.798204835983, wrong=0.5233333333333333\n",
      "i=1300, loss=9776.946193409785, wrong=0.52\n",
      "i=1400, loss=9486.892423373547, wrong=0.5133333333333333\n",
      "i=1500, loss=9214.407596399195, wrong=0.5133333333333333\n",
      "i=1600, loss=8958.343436608926, wrong=0.51\n",
      "i=1700, loss=8717.627312331386, wrong=0.51\n",
      "i=1800, loss=8491.257220939855, wrong=0.5033333333333333\n",
      "i=1900, loss=8278.29711124954, wrong=0.5\n",
      "i=2000, loss=8077.872519910222, wrong=0.5\n",
      "i=2100, loss=7889.166500014912, wrong=0.5\n",
      "i=2200, loss=7711.415821770752, wrong=0.5033333333333333\n",
      "i=2300, loss=7543.907426565727, wrong=0.5033333333333333\n",
      "i=2400, loss=7385.975117125974, wrong=0.49666666666666665\n",
      "i=2500, loss=7236.996467707067, wrong=0.49666666666666665\n",
      "i=2600, loss=7096.38993941144, wrong=0.5\n",
      "i=2700, loss=6963.612186780414, wrong=0.49666666666666665\n",
      "i=2800, loss=6838.15554278371, wrong=0.49333333333333335\n",
      "i=2900, loss=6719.545670228679, wrong=0.49\n",
      "3000 done, loss=6607.339368442844, wrong=0.49\n",
      "\n",
      "                                     0\n",
      "                             ---------\n",
      "                area(mean)  |   0.0044\n",
      "              area(stderr)  |   0.0178\n",
      "               area(worst)  |  0.00873\n",
      "         compactness(mean)  |    0.998\n",
      "       compactness(stderr)  |    0.999\n",
      "        compactness(worst)  |    0.995\n",
      "      concave points(mean)  |        1\n",
      "    concave points(stderr)  |        1\n",
      "     concave points(worst)  |    0.999\n",
      "           concavity(mean)  |    0.999\n",
      "         concavity(stderr)  |    0.999\n",
      "          concavity(worst)  |    0.996\n",
      "   fractal dimension(mean)  |    0.998\n",
      " fractal dimension(stderr)  |        1\n",
      "  fractal dimension(worst)  |    0.998\n",
      "           perimeter(mean)  |   -0.211\n",
      "         perimeter(stderr)  |    0.914\n",
      "          perimeter(worst)  |   -0.375\n",
      "              radius(mean)  |    0.811\n",
      "            radius(stderr)  |    0.988\n",
      "             radius(worst)  |    0.787\n",
      "          smoothness(mean)  |    0.997\n",
      "        smoothness(stderr)  |        1\n",
      "         smoothness(worst)  |    0.997\n",
      "            symmetry(mean)  |    0.995\n",
      "          symmetry(stderr)  |    0.999\n",
      "           symmetry(worst)  |    0.993\n",
      "             texture(mean)  |    0.506\n",
      "           texture(stderr)  |    0.953\n",
      "            texture(worst)  |    0.341\n",
      "\n"
     ]
    }
   ],
   "source": [
    "# All 1, 1e-9 さらに続き\n",
    "x2_3 = gradient_descent(A, b, x2_2, 1e-9, 3000, 100)\n",
    "print(coldict2mat([x2_3]))"
   ]
  },
  {
   "cell_type": "code",
   "execution_count": 31,
   "metadata": {},
   "outputs": [
    {
     "name": "stdout",
     "output_type": "stream",
     "text": [
      "i=0, loss=300.0, wrong=0.5133333333333333\n",
      "i=30, loss=687920.1827152984, wrong=0.4866666666666667\n",
      "i=60, loss=14991878023.402096, wrong=0.4866666666666667\n",
      "i=90, loss=326832372361377.7, wrong=0.4866666666666667\n",
      "i=120, loss=7.125151436138961e+18, wrong=0.4866666666666667\n",
      "i=150, loss=1.5533278610422704e+23, wrong=0.4866666666666667\n",
      "i=180, loss=3.3863525084565287e+27, wrong=0.4866666666666667\n",
      "i=210, loss=7.382461616207157e+31, wrong=0.4866666666666667\n",
      "i=240, loss=1.6094230998890663e+36, wrong=0.4866666666666667\n",
      "i=270, loss=3.508643659954849e+40, wrong=0.4866666666666667\n",
      "i=300, loss=7.649064023866762e+44, wrong=0.4866666666666667\n",
      "i=330, loss=1.6675441028390076e+49, wrong=0.4866666666666667\n",
      "i=360, loss=3.6353511047061142e+53, wrong=0.4866666666666667\n",
      "i=390, loss=7.925294228793064e+57, wrong=0.4866666666666667\n",
      "i=420, loss=1.7277640261935147e+62, wrong=0.4866666666666667\n",
      "i=450, loss=3.76663432805198e+66, wrong=0.4866666666666667\n",
      "i=480, loss=8.211499919069692e+70, wrong=0.4866666666666667\n",
      "500 done, loss=6.408187072170361e+73, wrong=0.4866666666666667\n",
      "\n",
      "                                       0\n",
      "                             -----------\n",
      "                area(mean)  |  -1.94E+32\n",
      "              area(stderr)  |  -1.42E+31\n",
      "               area(worst)  |  -2.79E+32\n",
      "         compactness(mean)  |   -2.8E+28\n",
      "       compactness(stderr)  |  -6.51E+27\n",
      "        compactness(worst)  |  -6.98E+28\n",
      "      concave points(mean)  |  -1.59E+28\n",
      "    concave points(stderr)  |  -2.98E+27\n",
      "     concave points(worst)  |  -3.36E+28\n",
      "           concavity(mean)  |  -2.86E+28\n",
      "         concavity(stderr)  |  -8.21E+27\n",
      "          concavity(worst)  |  -8.01E+28\n",
      "   fractal dimension(mean)  |  -1.37E+28\n",
      " fractal dimension(stderr)  |  -8.69E+26\n",
      "  fractal dimension(worst)  |  -1.91E+28\n",
      "           perimeter(mean)  |  -2.38E+31\n",
      "         perimeter(stderr)  |  -8.65E+29\n",
      "          perimeter(worst)  |  -2.88E+31\n",
      "              radius(mean)  |  -3.62E+30\n",
      "            radius(stderr)  |  -1.22E+29\n",
      "             radius(worst)  |  -4.33E+30\n",
      "          smoothness(mean)  |  -2.19E+28\n",
      "        smoothness(stderr)  |  -1.51E+27\n",
      "         smoothness(worst)  |  -3.04E+28\n",
      "            symmetry(mean)  |  -4.15E+28\n",
      "          symmetry(stderr)  |  -4.57E+27\n",
      "           symmetry(worst)  |  -6.79E+28\n",
      "             texture(mean)  |  -4.51E+30\n",
      "           texture(stderr)  |  -2.65E+29\n",
      "            texture(worst)  |  -6.06E+30\n",
      "\n"
     ]
    }
   ],
   "source": [
    "# Zero vector, 2*1e-9\n",
    "x3 = gradient_descent(A, b, Vec(A.D[1], {}), 2*1e-9, 500)\n",
    "print(coldict2mat([x3]))"
   ]
  },
  {
   "cell_type": "code",
   "execution_count": 34,
   "metadata": {},
   "outputs": [
    {
     "name": "stdout",
     "output_type": "stream",
     "text": [
      "i=0, loss=300.0, wrong=0.5133333333333333\n",
      "i=100, loss=229.04464980482425, wrong=0.3666666666666667\n",
      "i=200, loss=215.9321566674608, wrong=0.10666666666666669\n",
      "i=300, loss=209.14922459274112, wrong=0.08000000000000002\n",
      "i=400, loss=204.33588167152004, wrong=0.08333333333333331\n",
      "i=500, loss=200.46428591058637, wrong=0.08666666666666667\n",
      "i=600, loss=197.2306711665276, wrong=0.09000000000000002\n",
      "i=700, loss=194.49916588063013, wrong=0.09333333333333332\n",
      "i=800, loss=192.18140190900087, wrong=0.10333333333333333\n",
      "i=900, loss=190.20897977677325, wrong=0.11333333333333334\n",
      "i=1000, loss=188.52596897953046, wrong=0.11333333333333334\n",
      "i=1100, loss=187.08593773210663, wrong=0.11666666666666664\n",
      "i=1200, loss=185.8501756382151, wrong=0.12\n",
      "i=1300, loss=184.78636234904124, wrong=0.12333333333333335\n",
      "i=1400, loss=183.86749125109026, wrong=0.12666666666666665\n",
      "i=1500, loss=183.07098065159857, wrong=0.13\n",
      "i=1600, loss=182.37793566977817, wrong=0.13\n",
      "i=1700, loss=181.7725343503473, wrong=0.13333333333333336\n",
      "i=1800, loss=181.24151685085045, wrong=0.13333333333333336\n",
      "i=1900, loss=180.77376030346892, wrong=0.13333333333333336\n",
      "i=2000, loss=180.35992492345747, wrong=0.13333333333333336\n",
      "i=2100, loss=179.99215937588724, wrong=0.13333333333333336\n",
      "i=2200, loss=179.66385543406744, wrong=0.13333333333333336\n",
      "i=2300, loss=179.3694436424801, wrong=0.13666666666666666\n",
      "i=2400, loss=179.10422309309246, wrong=0.13666666666666666\n",
      "i=2500, loss=178.8642195845475, wrong=0.13666666666666666\n",
      "i=2600, loss=178.64606739872363, wrong=0.13666666666666666\n",
      "i=2700, loss=178.44691073146402, wrong=0.13666666666666666\n",
      "i=2800, loss=178.26432148139267, wrong=0.13666666666666666\n",
      "i=2900, loss=178.096230655407, wrong=0.13666666666666666\n",
      "3000 done, loss=177.94087111063675, wrong=0.13333333333333336\n",
      "\n",
      "                                       0\n",
      "                             -----------\n",
      "                area(mean)  |  -0.000263\n",
      "              area(stderr)  |      0.001\n",
      "               area(worst)  |    0.00184\n",
      "         compactness(mean)  |   1.15E-05\n",
      "       compactness(stderr)  |   9.03E-07\n",
      "        compactness(worst)  |   5.87E-05\n",
      "      concave points(mean)  |   1.43E-05\n",
      "    concave points(stderr)  |  -1.15E-07\n",
      "     concave points(worst)  |   2.48E-05\n",
      "           concavity(mean)  |   2.87E-05\n",
      "         concavity(stderr)  |   -3.4E-07\n",
      "          concavity(worst)  |      8E-05\n",
      "   fractal dimension(mean)  |  -1.23E-05\n",
      " fractal dimension(stderr)  |  -5.55E-07\n",
      "  fractal dimension(worst)  |   -8.2E-06\n",
      "           perimeter(mean)  |    -0.0076\n",
      "         perimeter(stderr)  |   1.61E-05\n",
      "          perimeter(worst)  |   -0.00633\n",
      "              radius(mean)  |   -0.00135\n",
      "            radius(stderr)  |  -1.23E-05\n",
      "             radius(worst)  |   -0.00123\n",
      "          smoothness(mean)  |  -1.47E-05\n",
      "        smoothness(stderr)  |  -1.56E-06\n",
      "         smoothness(worst)  |  -1.65E-05\n",
      "            symmetry(mean)  |  -2.82E-05\n",
      "          symmetry(stderr)  |   -4.2E-06\n",
      "           symmetry(worst)  |  -2.57E-05\n",
      "             texture(mean)  |   -0.00201\n",
      "           texture(stderr)  |  -0.000254\n",
      "            texture(worst)  |   -0.00217\n",
      "\n"
     ]
    }
   ],
   "source": [
    "# Zero vector, 1e-9\n",
    "x4 = gradient_descent(A, b, Vec(A.D[1], {}), 1e-9, 3000, 100)\n",
    "print(coldict2mat([x4]))"
   ]
  },
  {
   "cell_type": "code",
   "execution_count": 37,
   "metadata": {},
   "outputs": [
    {
     "name": "stdout",
     "output_type": "stream",
     "text": [
      "i=0, loss=177.94087111063675, wrong=0.13333333333333336\n",
      "i=100, loss=177.796729736169, wrong=0.13\n",
      "i=200, loss=177.6625074967214, wrong=0.13\n",
      "i=300, loss=177.53708602561798, wrong=0.13\n",
      "i=400, loss=177.4194996749329, wrong=0.13\n",
      "i=500, loss=177.30891211405074, wrong=0.13\n",
      "i=600, loss=177.20459672038444, wrong=0.13\n",
      "i=700, loss=177.10592013283923, wrong=0.13\n",
      "i=800, loss=177.01232844408418, wrong=0.13666666666666666\n",
      "i=900, loss=176.92333559545207, wrong=0.13666666666666666\n",
      "i=1000, loss=176.8385136112513, wrong=0.13666666666666666\n",
      "i=1100, loss=176.75748437000973, wrong=0.14\n",
      "i=1200, loss=176.6799126606572, wrong=0.14\n",
      "i=1300, loss=176.60550031369618, wrong=0.14\n",
      "i=1400, loss=176.53398123236184, wrong=0.14\n",
      "i=1500, loss=176.4651171778856, wrong=0.14\n",
      "i=1600, loss=176.39869418718337, wrong=0.14\n",
      "i=1700, loss=176.3345195214554, wrong=0.14\n",
      "i=1800, loss=176.27241906096793, wrong=0.14\n",
      "i=1900, loss=176.2122350752553, wrong=0.1433333333333333\n",
      "i=2000, loss=176.15382430963106, wrong=0.1433333333333333\n",
      "i=2100, loss=176.09705633857712, wrong=0.1433333333333333\n",
      "i=2200, loss=176.04181214467158, wrong=0.14666666666666667\n",
      "i=2300, loss=175.98798288843903, wrong=0.14666666666666667\n",
      "i=2400, loss=175.93546884012468, wrong=0.14666666666666667\n",
      "i=2500, loss=175.88417844907272, wrong=0.15000000000000002\n",
      "i=2600, loss=175.83402753029497, wrong=0.15333333333333332\n",
      "i=2700, loss=175.78493855107638, wrong=0.15333333333333332\n",
      "i=2800, loss=175.73684000318184, wrong=0.15333333333333332\n",
      "i=2900, loss=175.6896658485106, wrong=0.15666666666666668\n",
      "3000 done, loss=175.64335502793713, wrong=0.15666666666666668\n",
      "\n",
      "                                       0\n",
      "                             -----------\n",
      "                area(mean)  |   0.000173\n",
      "              area(stderr)  |  -0.000107\n",
      "               area(worst)  |     0.0018\n",
      "         compactness(mean)  |   3.17E-05\n",
      "       compactness(stderr)  |    4.4E-06\n",
      "        compactness(worst)  |   0.000142\n",
      "      concave points(mean)  |   2.91E-05\n",
      "    concave points(stderr)  |   8.58E-07\n",
      "     concave points(worst)  |    5.6E-05\n",
      "           concavity(mean)  |   5.94E-05\n",
      "         concavity(stderr)  |   2.39E-06\n",
      "          concavity(worst)  |   0.000179\n",
      "   fractal dimension(mean)  |   -1.7E-05\n",
      " fractal dimension(stderr)  |  -6.23E-07\n",
      "  fractal dimension(worst)  |  -6.28E-06\n",
      "           perimeter(mean)  |   -0.00972\n",
      "         perimeter(stderr)  |   9.77E-05\n",
      "          perimeter(worst)  |    -0.0065\n",
      "              radius(mean)  |   -0.00184\n",
      "            radius(stderr)  |  -1.33E-05\n",
      "             radius(worst)  |    -0.0015\n",
      "          smoothness(mean)  |  -1.86E-05\n",
      "        smoothness(stderr)  |  -2.28E-06\n",
      "         smoothness(worst)  |  -1.77E-05\n",
      "            symmetry(mean)  |   -3.6E-05\n",
      "          symmetry(stderr)  |  -5.94E-06\n",
      "           symmetry(worst)  |  -1.78E-05\n",
      "             texture(mean)  |   -0.00216\n",
      "           texture(stderr)  |   -0.00037\n",
      "            texture(worst)  |   -0.00179\n",
      "\n"
     ]
    }
   ],
   "source": [
    "# Zero vector, 1e-9 続き\n",
    "x4_2 = gradient_descent(A, b, x4, 1e-9, 3000, 100)\n",
    "print(coldict2mat([x4_2]))"
   ]
  },
  {
   "cell_type": "code",
   "execution_count": 52,
   "metadata": {},
   "outputs": [],
   "source": [
    "# 最初の仮説ベクトルをランダムにしてみる\n",
    "import random\n",
    "w_list = [Vec(A.D[1], {k: random.random() * 0.0005 - 0.00025 for k in A.D[1]}) for i in range(100)]"
   ]
  },
  {
   "cell_type": "code",
   "execution_count": 53,
   "metadata": {},
   "outputs": [
    {
     "name": "stdout",
     "output_type": "stream",
     "text": [
      "i=0, loss=275.67852597334945, wrong=0.5133333333333333\n",
      "i=1, loss=284.6890095197496, wrong=0.5133333333333333\n",
      "i=2, loss=334.11909974369746, wrong=0.4866666666666667\n",
      "i=3, loss=271.4226674572629, wrong=0.5133333333333333\n",
      "i=4, loss=286.96980040062857, wrong=0.5133333333333333\n",
      "i=5, loss=356.41577338095914, wrong=0.4866666666666667\n",
      "i=6, loss=271.0433835047664, wrong=0.5133333333333333\n",
      "i=7, loss=270.98414610001845, wrong=0.5133333333333333\n",
      "i=8, loss=270.11189157099733, wrong=0.5133333333333333\n",
      "i=9, loss=281.6176067827461, wrong=0.5133333333333333\n",
      "i=10, loss=270.62055090255177, wrong=0.5133333333333333\n",
      "i=11, loss=313.8224623416332, wrong=0.4866666666666667\n",
      "i=12, loss=283.58808959391075, wrong=0.5166666666666667\n",
      "i=13, loss=271.3205842901576, wrong=0.5133333333333333\n",
      "i=14, loss=317.8071651544157, wrong=0.85\n",
      "i=15, loss=273.92811627723404, wrong=0.5133333333333333\n",
      "i=16, loss=279.72531976943, wrong=0.5133333333333333\n",
      "i=17, loss=307.99239339034517, wrong=0.4866666666666667\n",
      "i=18, loss=311.2000292719042, wrong=0.78\n",
      "i=19, loss=266.8426041921406, wrong=0.5133333333333333\n",
      "i=20, loss=314.6446228332934, wrong=0.4866666666666667\n",
      "i=21, loss=274.78669554489915, wrong=0.5133333333333333\n",
      "i=22, loss=265.70629534229425, wrong=0.5133333333333333\n",
      "i=23, loss=279.7275619544882, wrong=0.5133333333333333\n",
      "i=24, loss=313.8723820564706, wrong=0.4766666666666667\n",
      "i=25, loss=303.9443905749764, wrong=0.5733333333333334\n",
      "i=26, loss=345.41571896786377, wrong=0.4866666666666667\n",
      "i=27, loss=272.72366680442195, wrong=0.5133333333333333\n",
      "i=28, loss=298.4974363571286, wrong=0.33333333333333337\n",
      "i=29, loss=266.4716961210364, wrong=0.5133333333333333\n",
      "i=30, loss=347.48188766853747, wrong=0.4866666666666667\n",
      "i=31, loss=333.3620024899455, wrong=0.4866666666666667\n",
      "i=32, loss=324.16120139899084, wrong=0.4866666666666667\n",
      "i=33, loss=287.63752755263266, wrong=0.49\n",
      "i=34, loss=310.9253836534485, wrong=0.9033333333333333\n",
      "i=35, loss=326.05691096884885, wrong=0.4866666666666667\n",
      "i=36, loss=341.97538047846115, wrong=0.4866666666666667\n",
      "i=37, loss=269.728932976893, wrong=0.5133333333333333\n",
      "i=38, loss=338.10482158490834, wrong=0.4866666666666667\n",
      "i=39, loss=288.15699614000204, wrong=0.5133333333333333\n",
      "i=40, loss=288.20805191711185, wrong=0.5133333333333333\n",
      "i=41, loss=310.87226344951955, wrong=0.4866666666666667\n",
      "i=42, loss=270.59724601701, wrong=0.5133333333333333\n",
      "i=43, loss=357.84386588203654, wrong=0.4866666666666667\n",
      "i=44, loss=272.7178912457093, wrong=0.5133333333333333\n",
      "i=45, loss=287.0743055390188, wrong=0.5133333333333333\n",
      "i=46, loss=291.1442500209393, wrong=0.5133333333333333\n",
      "i=47, loss=306.5184511867634, wrong=0.78\n",
      "i=48, loss=356.27653641923183, wrong=0.4866666666666667\n",
      "i=49, loss=264.11306112494304, wrong=0.5133333333333333\n",
      "i=50, loss=310.1740822553095, wrong=0.6266666666666667\n",
      "i=51, loss=271.45654376094586, wrong=0.5133333333333333\n",
      "i=52, loss=342.3294653547146, wrong=0.4866666666666667\n",
      "i=53, loss=354.0721415020993, wrong=0.4866666666666667\n",
      "i=54, loss=271.0989333678973, wrong=0.5133333333333333\n",
      "i=55, loss=396.9872056733058, wrong=0.4866666666666667\n",
      "i=56, loss=286.66389273876587, wrong=0.5133333333333333\n",
      "i=57, loss=317.54674886866803, wrong=0.4866666666666667\n",
      "i=58, loss=266.36096329045523, wrong=0.5133333333333333\n",
      "i=59, loss=281.65965351918203, wrong=0.5133333333333333\n",
      "i=60, loss=353.32154964313145, wrong=0.4866666666666667\n",
      "i=61, loss=271.29090232303105, wrong=0.5133333333333333\n",
      "i=62, loss=270.7223527379444, wrong=0.5133333333333333\n",
      "i=63, loss=276.63580583129664, wrong=0.5133333333333333\n",
      "i=64, loss=284.6934962013482, wrong=0.5133333333333333\n",
      "i=65, loss=271.4667085642419, wrong=0.5133333333333333\n",
      "i=66, loss=269.26896749549934, wrong=0.5133333333333333\n",
      "i=67, loss=378.25733961660893, wrong=0.4866666666666667\n",
      "i=68, loss=275.3210374341328, wrong=0.5133333333333333\n",
      "i=69, loss=294.4201679212467, wrong=0.5133333333333333\n",
      "i=70, loss=271.95930467843357, wrong=0.5133333333333333\n",
      "i=71, loss=268.71291886067786, wrong=0.5133333333333333\n",
      "i=72, loss=309.47276435684216, wrong=0.4866666666666667\n",
      "i=73, loss=312.1487257856287, wrong=0.4866666666666667\n",
      "i=74, loss=274.8044085586111, wrong=0.5133333333333333\n",
      "i=75, loss=270.9508202751627, wrong=0.5133333333333333\n",
      "i=76, loss=302.85644899199366, wrong=0.4866666666666667\n",
      "i=77, loss=288.8853979132917, wrong=0.5133333333333333\n",
      "i=78, loss=277.8129751173873, wrong=0.5133333333333333\n",
      "i=79, loss=348.66401057876465, wrong=0.4866666666666667\n",
      "i=80, loss=300.1374167976807, wrong=0.41000000000000003\n",
      "i=81, loss=325.75835633645175, wrong=0.4866666666666667\n",
      "i=82, loss=351.53439760319566, wrong=0.4866666666666667\n",
      "i=83, loss=340.76939209537545, wrong=0.4866666666666667\n",
      "i=84, loss=322.72335621347554, wrong=0.4866666666666667\n",
      "i=85, loss=286.28461445541285, wrong=0.52\n",
      "i=86, loss=309.8279087235447, wrong=0.4866666666666667\n",
      "i=87, loss=281.24606310790136, wrong=0.5133333333333333\n",
      "i=88, loss=326.6993102037091, wrong=0.4866666666666667\n",
      "i=89, loss=325.6217437357622, wrong=0.4866666666666667\n",
      "i=90, loss=271.44111814061034, wrong=0.5133333333333333\n",
      "i=91, loss=296.77653950696794, wrong=0.53\n",
      "i=92, loss=304.158223551418, wrong=0.44666666666666666\n",
      "i=93, loss=266.316580547803, wrong=0.5133333333333333\n",
      "i=94, loss=267.72806515228234, wrong=0.5133333333333333\n",
      "i=95, loss=296.0599266872364, wrong=0.52\n",
      "i=96, loss=269.9571972070321, wrong=0.5133333333333333\n",
      "i=97, loss=287.0523188401146, wrong=0.5133333333333333\n",
      "i=98, loss=268.4185253243307, wrong=0.5133333333333333\n",
      "i=99, loss=284.6306518724911, wrong=0.5233333333333333\n"
     ]
    }
   ],
   "source": [
    "for i, w in enumerate(w_list):\n",
    "    print(f'i={i}, loss={loss(A, b, w)}, wrong={fraction_wrong(A, b, w)}')"
   ]
  },
  {
   "cell_type": "code",
   "execution_count": 62,
   "metadata": {},
   "outputs": [
    {
     "name": "stdout",
     "output_type": "stream",
     "text": [
      "i=0, loss=266.4716961210364, wrong=0.5133333333333333\n",
      "i=30, loss=245.55898309482095, wrong=0.5133333333333333\n",
      "i=60, loss=233.12374530656626, wrong=0.47\n",
      "i=90, loss=225.22267558952458, wrong=0.2633333333333333\n",
      "i=120, loss=219.86891944423184, wrong=0.16999999999999998\n",
      "i=150, loss=215.97302277175487, wrong=0.10666666666666669\n",
      "180 done, loss=212.93572727447744, wrong=0.08000000000000002\n"
     ]
    }
   ],
   "source": [
    "y = gradient_descent(A, b, w_list[29], 1.3*1e-9, 180, 30)"
   ]
  },
  {
   "cell_type": "code",
   "execution_count": 69,
   "metadata": {},
   "outputs": [
    {
     "name": "stdout",
     "output_type": "stream",
     "text": [
      "i=0, loss=212.93572727447744, wrong=0.08000000000000002\n",
      "i=30, loss=212.9042691563414, wrong=0.08000000000000002\n",
      "i=60, loss=212.872878810965, wrong=0.07666666666666666\n",
      "i=90, loss=212.8415558837361, wrong=0.07666666666666666\n",
      "i=120, loss=212.81030002240632, wrong=0.07666666666666666\n",
      "i=150, loss=212.77911087707415, wrong=0.07666666666666666\n",
      "i=180, loss=212.74798810016972, wrong=0.07666666666666666\n",
      "i=210, loss=212.7169313464378, wrong=0.07666666666666666\n",
      "i=240, loss=212.68594027292266, wrong=0.07666666666666666\n",
      "i=270, loss=212.65501453895095, wrong=0.07666666666666666\n",
      "i=300, loss=212.62415380611807, wrong=0.07666666666666666\n",
      "i=330, loss=212.59335773827007, wrong=0.07666666666666666\n",
      "i=360, loss=212.56262600148912, wrong=0.07666666666666666\n",
      "i=390, loss=212.53195826408, wrong=0.07666666666666666\n",
      "i=420, loss=212.5013541965514, wrong=0.07666666666666666\n",
      "i=450, loss=212.47081347160332, wrong=0.07666666666666666\n",
      "i=480, loss=212.440335764111, wrong=0.07666666666666666\n",
      "500 done, loss=212.42005214256943, wrong=0.07666666666666666\n"
     ]
    }
   ],
   "source": [
    "y2 = gradient_descent(A, b, y, 1.5*1e-11, 500, 30)"
   ]
  },
  {
   "cell_type": "code",
   "execution_count": 70,
   "metadata": {},
   "outputs": [
    {
     "name": "stdout",
     "output_type": "stream",
     "text": [
      "\n",
      "                                       0\n",
      "                             -----------\n",
      "                area(mean)  |   -0.00166\n",
      "              area(stderr)  |   0.000693\n",
      "               area(worst)  |    0.00173\n",
      "         compactness(mean)  |   0.000105\n",
      "       compactness(stderr)  |   0.000144\n",
      "        compactness(worst)  |   8.69E-05\n",
      "      concave points(mean)  |  -0.000209\n",
      "    concave points(stderr)  |   4.42E-05\n",
      "     concave points(worst)  |  -0.000225\n",
      "           concavity(mean)  |   6.79E-05\n",
      "         concavity(stderr)  |  -0.000178\n",
      "          concavity(worst)  |   0.000154\n",
      "   fractal dimension(mean)  |  -0.000177\n",
      " fractal dimension(stderr)  |    8.7E-05\n",
      "  fractal dimension(worst)  |   9.24E-05\n",
      "           perimeter(mean)  |   -0.00171\n",
      "         perimeter(stderr)  |  -0.000182\n",
      "          perimeter(worst)  |   -0.00137\n",
      "              radius(mean)  |  -0.000464\n",
      "            radius(stderr)  |   6.61E-05\n",
      "             radius(worst)  |  -3.91E-05\n",
      "          smoothness(mean)  |  -3.99E-05\n",
      "        smoothness(stderr)  |    0.00016\n",
      "         smoothness(worst)  |    5.8E-05\n",
      "            symmetry(mean)  |    0.00013\n",
      "          symmetry(stderr)  |   0.000212\n",
      "           symmetry(worst)  |  -0.000229\n",
      "             texture(mean)  |  -0.000628\n",
      "           texture(stderr)  |  -0.000132\n",
      "            texture(worst)  |  -0.000447\n",
      "\n"
     ]
    }
   ],
   "source": [
    "print(coldict2mat([y2]))"
   ]
  },
  {
   "cell_type": "code",
   "execution_count": 72,
   "metadata": {},
   "outputs": [],
   "source": [
    "A_valid, b_valid = read_training_data('validate.data')"
   ]
  },
  {
   "cell_type": "code",
   "execution_count": 78,
   "metadata": {},
   "outputs": [
    {
     "name": "stdout",
     "output_type": "stream",
     "text": [
      "212.42005214256943 0.07666666666666666\n",
      "210.58617237099492 0.1423076923076923\n"
     ]
    }
   ],
   "source": [
    "print(loss(A, b, y2), fraction_wrong(A, b, y2))\n",
    "print(loss(A_valid, b_valid, y2), fraction_wrong(A_valid, b_valid, y2))"
   ]
  },
  {
   "cell_type": "code",
   "execution_count": 80,
   "metadata": {},
   "outputs": [
    {
     "name": "stdout",
     "output_type": "stream",
     "text": [
      "145.39084026133915 0.04999999999999999\n"
     ]
    }
   ],
   "source": [
    "# print(loss(A, b, x4), fraction_wrong(A, b, x4))\n",
    "print(loss(A_valid, b_valid, x4), fraction_wrong(A_valid, b_valid, x4))"
   ]
  },
  {
   "cell_type": "code",
   "execution_count": 82,
   "metadata": {},
   "outputs": [
    {
     "name": "stdout",
     "output_type": "stream",
     "text": [
      "\n",
      "                                       0\n",
      "                             -----------\n",
      "                area(mean)  |    -0.0014\n",
      "              area(stderr)  |  -0.000312\n",
      "               area(worst)  |  -0.000111\n",
      "         compactness(mean)  |   9.37E-05\n",
      "       compactness(stderr)  |   0.000143\n",
      "        compactness(worst)  |   2.82E-05\n",
      "      concave points(mean)  |  -0.000223\n",
      "    concave points(stderr)  |   4.43E-05\n",
      "     concave points(worst)  |   -0.00025\n",
      "           concavity(mean)  |   3.92E-05\n",
      "         concavity(stderr)  |  -0.000178\n",
      "          concavity(worst)  |   7.43E-05\n",
      "   fractal dimension(mean)  |  -0.000165\n",
      " fractal dimension(stderr)  |   8.76E-05\n",
      "  fractal dimension(worst)  |   0.000101\n",
      "           perimeter(mean)  |    0.00589\n",
      "         perimeter(stderr)  |  -0.000198\n",
      "          perimeter(worst)  |    0.00496\n",
      "              radius(mean)  |    0.00089\n",
      "            radius(stderr)  |   7.83E-05\n",
      "             radius(worst)  |    0.00119\n",
      "          smoothness(mean)  |  -2.52E-05\n",
      "        smoothness(stderr)  |   0.000162\n",
      "         smoothness(worst)  |   7.45E-05\n",
      "            symmetry(mean)  |   0.000158\n",
      "          symmetry(stderr)  |   0.000216\n",
      "           symmetry(worst)  |  -0.000203\n",
      "             texture(mean)  |    0.00138\n",
      "           texture(stderr)  |   0.000122\n",
      "            texture(worst)  |    0.00172\n",
      "\n"
     ]
    }
   ],
   "source": [
    "print(coldict2mat([y2 - x4]))"
   ]
  }
 ],
 "metadata": {
  "kernelspec": {
   "display_name": "Python 3",
   "language": "python",
   "name": "python3"
  },
  "language_info": {
   "codemirror_mode": {
    "name": "ipython",
    "version": 3
   },
   "file_extension": ".py",
   "mimetype": "text/x-python",
   "name": "python",
   "nbconvert_exporter": "python",
   "pygments_lexer": "ipython3",
   "version": "3.6.8"
  }
 },
 "nbformat": 4,
 "nbformat_minor": 2
}
