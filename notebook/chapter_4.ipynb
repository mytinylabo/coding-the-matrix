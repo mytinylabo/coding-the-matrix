{
 "cells": [
  {
   "cell_type": "code",
   "execution_count": 2,
   "metadata": {},
   "outputs": [
    {
     "data": {
      "text/plain": [
       "[[0, 0, 0, 0], [0, 0, 0, 0], [0, 0, 0, 0]]"
      ]
     },
     "execution_count": 2,
     "metadata": {},
     "output_type": "execute_result"
    }
   ],
   "source": [
    "# p184 クイズ 4.1.1\n",
    "[[0 for j in range(0, 4)] for i in range(0, 3)]"
   ]
  },
  {
   "cell_type": "code",
   "execution_count": 7,
   "metadata": {},
   "outputs": [
    {
     "data": {
      "text/plain": [
       "[[0, 1, 2], [-1, 0, 1], [-2, -1, 0], [-3, -2, -1]]"
      ]
     },
     "execution_count": 7,
     "metadata": {},
     "output_type": "execute_result"
    }
   ],
   "source": [
    "# p184 クイズ 4.1.2\n",
    "[[j - i for j in range(3)] for i in range(4)]"
   ]
  },
  {
   "cell_type": "code",
   "execution_count": 9,
   "metadata": {},
   "outputs": [
    {
     "data": {
      "text/plain": [
       "Vec({'b', 'a'},{'a': 3, 'b': 30})"
      ]
     },
     "execution_count": 9,
     "metadata": {},
     "output_type": "execute_result"
    }
   ],
   "source": [
    "# p186 クイズ 4.1.4\n",
    "from vec import Vec\n",
    "Vec({'a', 'b'}, {'a': 3, 'b': 30})"
   ]
  },
  {
   "cell_type": "code",
   "execution_count": 11,
   "metadata": {},
   "outputs": [
    {
     "data": {
      "text/plain": [
       "{'@': Vec({'b', 'a'},{'a': 1, 'b': 10}),\n",
       " '#': Vec({'b', 'a'},{'a': 2, 'b': 20}),\n",
       " '?': Vec({'b', 'a'},{'a': 3, 'b': 30})}"
      ]
     },
     "execution_count": 11,
     "metadata": {},
     "output_type": "execute_result"
    }
   ],
   "source": [
    "# p186 クイズ 4.1.5\n",
    "{'@': Vec({'a', 'b'}, {'a': 1, 'b': 10}),\n",
    " '#': Vec({'a', 'b'}, {'a': 2, 'b': 20}),\n",
    " '?': Vec({'a', 'b'}, {'a': 3, 'b': 30})}"
   ]
  },
  {
   "cell_type": "code",
   "execution_count": 24,
   "metadata": {},
   "outputs": [],
   "source": [
    "class Mat:\n",
    "    def __init__(self, labels, function):\n",
    "        self.D = labels\n",
    "        self.f = function\n",
    "\n",
    "    def __repr__(self):\n",
    "        \"evaluatable representation\"\n",
    "        return \"Mat(\" + str(self.D) +\", \" + str(self.f) + \")\""
   ]
  },
  {
   "cell_type": "code",
   "execution_count": 26,
   "metadata": {},
   "outputs": [
    {
     "data": {
      "text/plain": [
       "Mat(({'c', 'b', 'a'}, {'c', 'b', 'a'}), {('a', 'a'): 1, ('b', 'b'): 1, ('c', 'c'): 1})"
      ]
     },
     "execution_count": 26,
     "metadata": {},
     "output_type": "execute_result"
    }
   ],
   "source": [
    "# p188 クイズ 4.1.7\n",
    "Mat(({'a', 'b', 'c'}, {'a', 'b', 'c'}), {('a', 'a'): 1, ('b', 'b'): 1, ('c', 'c'): 1})"
   ]
  },
  {
   "cell_type": "code",
   "execution_count": 27,
   "metadata": {},
   "outputs": [
    {
     "data": {
      "text/plain": [
       "Mat(({'y', 'z', 'x'}, {'y', 'z', 'x'}), {('y', 'y'): 1, ('z', 'z'): 1, ('x', 'x'): 1})"
      ]
     },
     "execution_count": 27,
     "metadata": {},
     "output_type": "execute_result"
    }
   ],
   "source": [
    "# p188 クイズ 4.1.8\n",
    "def identity(D):\n",
    "    return Mat((D, D), {(k, k): 1 for k in D})\n",
    "\n",
    "identity({'x', 'y', 'z'})"
   ]
  },
  {
   "cell_type": "code",
   "execution_count": 36,
   "metadata": {},
   "outputs": [],
   "source": [
    "# p188 クイズ 4.1.9\n",
    "def mat2rowdict(M):\n",
    "    return {r: Vec(M.D[1], {c: M.f[r, c] for c in M.D[1]}) for r in M.D[0]}"
   ]
  },
  {
   "cell_type": "code",
   "execution_count": 37,
   "metadata": {},
   "outputs": [
    {
     "data": {
      "text/plain": [
       "{'b': Vec({'@', '?', '#'},{'@': 10, '?': 30, '#': 20}),\n",
       " 'a': Vec({'@', '?', '#'},{'@': 1, '?': 3, '#': 2})}"
      ]
     },
     "execution_count": 37,
     "metadata": {},
     "output_type": "execute_result"
    }
   ],
   "source": [
    "m = Mat(({'a', 'b'}, {'@', '#', '?'}), {\n",
    "    ('a', '@'): 1,  ('a', '#'): 2,  ('a', '?'): 3,\n",
    "    ('b', '@'): 10, ('b', '#'): 20, ('b', '?'): 30,\n",
    "})\n",
    "mat2rowdict(m)"
   ]
  },
  {
   "cell_type": "code",
   "execution_count": 39,
   "metadata": {},
   "outputs": [
    {
     "data": {
      "text/plain": [
       "{'@': Vec({'b', 'a'},{'b': 10, 'a': 1}),\n",
       " '?': Vec({'b', 'a'},{'b': 30, 'a': 3}),\n",
       " '#': Vec({'b', 'a'},{'b': 20, 'a': 2})}"
      ]
     },
     "execution_count": 39,
     "metadata": {},
     "output_type": "execute_result"
    }
   ],
   "source": [
    "# p189 クイズ 4.1.10\n",
    "def mat2coldict(M):\n",
    "    return {c: Vec(M.D[0], {r: M.f[r, c] for r in M.D[0]}) for c in M.D[1]}\n",
    "\n",
    "mat2coldict(m)"
   ]
  },
  {
   "cell_type": "code",
   "execution_count": 42,
   "metadata": {},
   "outputs": [
    {
     "name": "stdout",
     "output_type": "stream",
     "text": [
      "\n",
      " ('a', '#') ('a', '?') ('a', '@') ('b', '#') ('b', '?') ('b', '@')\n",
      "------------------------------------------------------------------\n",
      "          2          3          1         20         30         10\n"
     ]
    }
   ],
   "source": [
    "# p190 クイズ 4.3.1\n",
    "def mat2vec(M):\n",
    "    D = {(r, c) for r in M.D[0] for c in M.D[1]}\n",
    "    return Vec(D, M.f.copy())\n",
    "\n",
    "print(mat2vec(m))"
   ]
  },
  {
   "cell_type": "code",
   "execution_count": 44,
   "metadata": {},
   "outputs": [
    {
     "name": "stdout",
     "output_type": "stream",
     "text": [
      "\n",
      " concrete electricity metal plastic water\n",
      "-----------------------------------------\n",
      "      312         356    51     215   373\n"
     ]
    }
   ],
   "source": [
    "# p194 例 4.5.10\n",
    "D = {'metal', 'concrete', 'plastic', 'water', 'electricity'}\n",
    "v_gnome = Vec(D, {'concrete': 1.3, 'plastic': 0.2, 'water': 0.8, 'electricity': 0.4})\n",
    "v_hoop = Vec(D, {'plastic': 1.5, 'water': 0.4, 'electricity': 0.3})\n",
    "v_slinky = Vec(D, {'metal': 0.25, 'water': 0.2, 'electricity': 0.7})\n",
    "v_putty = Vec(D, {'plastic': 0.3, 'water': 0.7, 'electricity': 0.5})\n",
    "v_shooter = Vec(D, {'metal': 0.15, 'plastic': 0.5, 'water': 0.4, 'electricity': 0.8})\n",
    "\n",
    "print(240*v_gnome + 55*v_hoop + 150*v_slinky + 133*v_putty + 90*v_shooter)"
   ]
  },
  {
   "cell_type": "code",
   "execution_count": 47,
   "metadata": {},
   "outputs": [
    {
     "name": "stdout",
     "output_type": "stream",
     "text": [
      "\n",
      "             concrete electricity metal plastic water\n",
      "           ------------------------------------------\n",
      "   gnome  |       1.3         0.4     0     0.2   0.8\n",
      "    hoop  |         0         0.3     0     1.5   0.4\n",
      "   putty  |         0         0.5     0     0.3   0.7\n",
      " shooter  |         0         0.8  0.15     0.5   0.4\n",
      "  slinky  |         0         0.7  0.25       0   0.2\n",
      "\n"
     ]
    }
   ],
   "source": [
    "from mat import Mat\n",
    "from matutil import *\n",
    "rowdict = {'gnome': v_gnome, 'hoop': v_hoop, 'slinky': v_slinky, 'putty': v_putty, 'shooter': v_shooter}\n",
    "M = rowdict2mat(rowdict)\n",
    "print(M)"
   ]
  },
  {
   "cell_type": "code",
   "execution_count": 51,
   "metadata": {},
   "outputs": [
    {
     "name": "stdout",
     "output_type": "stream",
     "text": [
      "\n",
      " concrete electricity metal plastic water\n",
      "-----------------------------------------\n",
      "      312         356    51     215   373\n"
     ]
    }
   ],
   "source": [
    "R = {'gnome', 'hoop', 'slinky', 'putty', 'shooter'}\n",
    "u = Vec(R, {'gnome': 240, 'hoop': 55, 'slinky': 150, 'putty': 133, 'shooter': 90})\n",
    "print(u*M)"
   ]
  },
  {
   "cell_type": "code",
   "execution_count": 52,
   "metadata": {},
   "outputs": [
    {
     "ename": "ImportError",
     "evalue": "Unsupported Python version",
     "output_type": "error",
     "traceback": [
      "\u001b[0;31m---------------------------------------------------------------------------\u001b[0m",
      "\u001b[0;31mImportError\u001b[0m                               Traceback (most recent call last)",
      "\u001b[0;32m<ipython-input-52-e33bc066a29b>\u001b[0m in \u001b[0;36m<module>\u001b[0;34m\u001b[0m\n\u001b[1;32m      1\u001b[0m \u001b[0;31m# p197 例 4.5.15\u001b[0m\u001b[0;34m\u001b[0m\u001b[0;34m\u001b[0m\u001b[0;34m\u001b[0m\u001b[0m\n\u001b[0;32m----> 2\u001b[0;31m \u001b[0;32mfrom\u001b[0m \u001b[0msolver\u001b[0m \u001b[0;32mimport\u001b[0m \u001b[0;34m*\u001b[0m\u001b[0;34m\u001b[0m\u001b[0;34m\u001b[0m\u001b[0m\n\u001b[0m\u001b[1;32m      3\u001b[0m \u001b[0mC\u001b[0m \u001b[0;34m=\u001b[0m \u001b[0;34m{\u001b[0m\u001b[0;34m'metal'\u001b[0m\u001b[0;34m,\u001b[0m \u001b[0;34m'concrete'\u001b[0m\u001b[0;34m,\u001b[0m \u001b[0;34m'plastic'\u001b[0m\u001b[0;34m,\u001b[0m \u001b[0;34m'water'\u001b[0m\u001b[0;34m,\u001b[0m \u001b[0;34m'electricity'\u001b[0m\u001b[0;34m}\u001b[0m\u001b[0;34m\u001b[0m\u001b[0;34m\u001b[0m\u001b[0m\n\u001b[1;32m      4\u001b[0m \u001b[0mb\u001b[0m \u001b[0;34m=\u001b[0m \u001b[0mVec\u001b[0m\u001b[0;34m(\u001b[0m\u001b[0mC\u001b[0m\u001b[0;34m,\u001b[0m \u001b[0;34m{\u001b[0m\u001b[0;34m'metal'\u001b[0m\u001b[0;34m:\u001b[0m \u001b[0;36m51.0\u001b[0m\u001b[0;34m,\u001b[0m \u001b[0;34m'concrete'\u001b[0m\u001b[0;34m:\u001b[0m \u001b[0;36m312.0\u001b[0m\u001b[0;34m,\u001b[0m \u001b[0;34m'plastic'\u001b[0m\u001b[0;34m:\u001b[0m \u001b[0;36m215.4\u001b[0m\u001b[0;34m,\u001b[0m \u001b[0;34m'water'\u001b[0m\u001b[0;34m:\u001b[0m \u001b[0;36m373.1\u001b[0m\u001b[0;34m,\u001b[0m \u001b[0;34m'electricity'\u001b[0m\u001b[0;34m:\u001b[0m \u001b[0;36m356.0\u001b[0m\u001b[0;34m}\u001b[0m\u001b[0;34m)\u001b[0m\u001b[0;34m\u001b[0m\u001b[0;34m\u001b[0m\u001b[0m\n\u001b[1;32m      5\u001b[0m \u001b[0msolution\u001b[0m\u001b[0;34m(\u001b[0m\u001b[0msolve\u001b[0m\u001b[0;34m(\u001b[0m\u001b[0mM\u001b[0m\u001b[0;34m.\u001b[0m\u001b[0mtranspose\u001b[0m\u001b[0;34m(\u001b[0m\u001b[0;34m)\u001b[0m\u001b[0;34m,\u001b[0m \u001b[0mb\u001b[0m\u001b[0;34m)\u001b[0m\u001b[0;34m)\u001b[0m\u001b[0;34m\u001b[0m\u001b[0;34m\u001b[0m\u001b[0m\n",
      "\u001b[0;32m/mnt/d/linux/study/coding-the-matrix/notebook/solver.py\u001b[0m in \u001b[0;36m<module>\u001b[0;34m\u001b[0m\n\u001b[1;32m     27\u001b[0m         \u001b[0;32mraise\u001b[0m \u001b[0mImportError\u001b[0m\u001b[0;34m(\u001b[0m\u001b[0;34m\"Could not read .pyc data\"\u001b[0m\u001b[0;34m)\u001b[0m\u001b[0;34m\u001b[0m\u001b[0;34m\u001b[0m\u001b[0m\n\u001b[1;32m     28\u001b[0m \u001b[0;34m\u001b[0m\u001b[0m\n\u001b[0;32m---> 29\u001b[0;31m \u001b[0mexec\u001b[0m\u001b[0;34m(\u001b[0m\u001b[0m_get_module\u001b[0m\u001b[0;34m(\u001b[0m\u001b[0;34m)\u001b[0m\u001b[0;34m)\u001b[0m\u001b[0;34m\u001b[0m\u001b[0;34m\u001b[0m\u001b[0m\n\u001b[0m",
      "\u001b[0;32m/mnt/d/linux/study/coding-the-matrix/notebook/solver.py\u001b[0m in \u001b[0;36m_get_module\u001b[0;34m()\u001b[0m\n\u001b[1;32m     16\u001b[0m         \u001b[0moffset\u001b[0m \u001b[0;34m=\u001b[0m \u001b[0;36m12\u001b[0m\u001b[0;34m\u001b[0m\u001b[0;34m\u001b[0m\u001b[0m\n\u001b[1;32m     17\u001b[0m     \u001b[0;32melse\u001b[0m\u001b[0;34m:\u001b[0m\u001b[0;34m\u001b[0m\u001b[0;34m\u001b[0m\u001b[0m\n\u001b[0;32m---> 18\u001b[0;31m         \u001b[0;32mraise\u001b[0m \u001b[0mImportError\u001b[0m\u001b[0;34m(\u001b[0m\u001b[0;34m\"Unsupported Python version\"\u001b[0m\u001b[0;34m)\u001b[0m\u001b[0;34m\u001b[0m\u001b[0;34m\u001b[0m\u001b[0m\n\u001b[0m\u001b[1;32m     19\u001b[0m \u001b[0;34m\u001b[0m\u001b[0m\n\u001b[1;32m     20\u001b[0m     \u001b[0mpycData\u001b[0m \u001b[0;34m=\u001b[0m \u001b[0mbase64\u001b[0m\u001b[0;34m.\u001b[0m\u001b[0mdecodebytes\u001b[0m\u001b[0;34m(\u001b[0m\u001b[0mpycData\u001b[0m\u001b[0;34m)\u001b[0m\u001b[0;34m\u001b[0m\u001b[0;34m\u001b[0m\u001b[0m\n",
      "\u001b[0;31mImportError\u001b[0m: Unsupported Python version"
     ]
    }
   ],
   "source": [
    "# p197 例 4.5.15\n",
    "from solver import *\n",
    "C = {'metal', 'concrete', 'plastic', 'water', 'electricity'}\n",
    "b = Vec(C, {'metal': 51.0, 'concrete': 312.0, 'plastic': 215.4, 'water': 373.1, 'electricity': 356.0})\n",
    "solution(solve(M.transpose(), b))"
   ]
  }
 ],
 "metadata": {
  "kernelspec": {
   "display_name": "Python 3",
   "language": "python",
   "name": "python3"
  },
  "language_info": {
   "codemirror_mode": {
    "name": "ipython",
    "version": 3
   },
   "file_extension": ".py",
   "mimetype": "text/x-python",
   "name": "python",
   "nbconvert_exporter": "python",
   "pygments_lexer": "ipython3",
   "version": "3.7.3"
  }
 },
 "nbformat": 4,
 "nbformat_minor": 2
}
