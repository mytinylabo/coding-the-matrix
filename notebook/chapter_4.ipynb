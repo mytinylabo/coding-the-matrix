{
 "cells": [
  {
   "cell_type": "code",
   "execution_count": 1,
   "metadata": {},
   "outputs": [
    {
     "data": {
      "text/plain": [
       "[[0, 0, 0, 0], [0, 0, 0, 0], [0, 0, 0, 0]]"
      ]
     },
     "execution_count": 1,
     "metadata": {},
     "output_type": "execute_result"
    }
   ],
   "source": [
    "# p184 クイズ 4.1.1\n",
    "[[0 for j in range(0, 4)] for i in range(0, 3)]"
   ]
  },
  {
   "cell_type": "code",
   "execution_count": 2,
   "metadata": {},
   "outputs": [
    {
     "data": {
      "text/plain": [
       "[[0, 1, 2], [-1, 0, 1], [-2, -1, 0], [-3, -2, -1]]"
      ]
     },
     "execution_count": 2,
     "metadata": {},
     "output_type": "execute_result"
    }
   ],
   "source": [
    "# p184 クイズ 4.1.2\n",
    "[[j - i for j in range(3)] for i in range(4)]"
   ]
  },
  {
   "cell_type": "code",
   "execution_count": 3,
   "metadata": {},
   "outputs": [
    {
     "data": {
      "text/plain": [
       "Vec({'a', 'b'},{'a': 3, 'b': 30})"
      ]
     },
     "execution_count": 3,
     "metadata": {},
     "output_type": "execute_result"
    }
   ],
   "source": [
    "# p186 クイズ 4.1.4\n",
    "from vec import Vec\n",
    "Vec({'a', 'b'}, {'a': 3, 'b': 30})"
   ]
  },
  {
   "cell_type": "code",
   "execution_count": 4,
   "metadata": {},
   "outputs": [
    {
     "data": {
      "text/plain": [
       "{'@': Vec({'a', 'b'},{'a': 1, 'b': 10}),\n",
       " '#': Vec({'a', 'b'},{'a': 2, 'b': 20}),\n",
       " '?': Vec({'a', 'b'},{'a': 3, 'b': 30})}"
      ]
     },
     "execution_count": 4,
     "metadata": {},
     "output_type": "execute_result"
    }
   ],
   "source": [
    "# p186 クイズ 4.1.5\n",
    "{'@': Vec({'a', 'b'}, {'a': 1, 'b': 10}),\n",
    " '#': Vec({'a', 'b'}, {'a': 2, 'b': 20}),\n",
    " '?': Vec({'a', 'b'}, {'a': 3, 'b': 30})}"
   ]
  },
  {
   "cell_type": "code",
   "execution_count": 5,
   "metadata": {},
   "outputs": [],
   "source": [
    "class Mat:\n",
    "    def __init__(self, labels, function):\n",
    "        self.D = labels\n",
    "        self.f = function\n",
    "\n",
    "    def __repr__(self):\n",
    "        \"evaluatable representation\"\n",
    "        return \"Mat(\" + str(self.D) +\", \" + str(self.f) + \")\""
   ]
  },
  {
   "cell_type": "code",
   "execution_count": 6,
   "metadata": {},
   "outputs": [
    {
     "data": {
      "text/plain": [
       "Mat(({'a', 'c', 'b'}, {'a', 'c', 'b'}), {('a', 'a'): 1, ('b', 'b'): 1, ('c', 'c'): 1})"
      ]
     },
     "execution_count": 6,
     "metadata": {},
     "output_type": "execute_result"
    }
   ],
   "source": [
    "# p188 クイズ 4.1.7\n",
    "Mat(({'a', 'b', 'c'}, {'a', 'b', 'c'}), {('a', 'a'): 1, ('b', 'b'): 1, ('c', 'c'): 1})"
   ]
  },
  {
   "cell_type": "code",
   "execution_count": 7,
   "metadata": {},
   "outputs": [
    {
     "data": {
      "text/plain": [
       "Mat(({'z', 'y', 'x'}, {'z', 'y', 'x'}), {('z', 'z'): 1, ('y', 'y'): 1, ('x', 'x'): 1})"
      ]
     },
     "execution_count": 7,
     "metadata": {},
     "output_type": "execute_result"
    }
   ],
   "source": [
    "# p188 クイズ 4.1.8\n",
    "def identity(D):\n",
    "    return Mat((D, D), {(k, k): 1 for k in D})\n",
    "\n",
    "identity({'x', 'y', 'z'})"
   ]
  },
  {
   "cell_type": "code",
   "execution_count": 8,
   "metadata": {},
   "outputs": [],
   "source": [
    "# p188 クイズ 4.1.9\n",
    "def mat2rowdict(M):\n",
    "    return {r: Vec(M.D[1], {c: M.f[r, c] for c in M.D[1]}) for r in M.D[0]}"
   ]
  },
  {
   "cell_type": "code",
   "execution_count": 9,
   "metadata": {},
   "outputs": [
    {
     "data": {
      "text/plain": [
       "{'a': Vec({'?', '@', '#'},{'?': 3, '@': 1, '#': 2}),\n",
       " 'b': Vec({'?', '@', '#'},{'?': 30, '@': 10, '#': 20})}"
      ]
     },
     "execution_count": 9,
     "metadata": {},
     "output_type": "execute_result"
    }
   ],
   "source": [
    "m = Mat(({'a', 'b'}, {'@', '#', '?'}), {\n",
    "    ('a', '@'): 1,  ('a', '#'): 2,  ('a', '?'): 3,\n",
    "    ('b', '@'): 10, ('b', '#'): 20, ('b', '?'): 30,\n",
    "})\n",
    "mat2rowdict(m)"
   ]
  },
  {
   "cell_type": "code",
   "execution_count": 10,
   "metadata": {},
   "outputs": [
    {
     "data": {
      "text/plain": [
       "{'?': Vec({'a', 'b'},{'a': 3, 'b': 30}),\n",
       " '@': Vec({'a', 'b'},{'a': 1, 'b': 10}),\n",
       " '#': Vec({'a', 'b'},{'a': 2, 'b': 20})}"
      ]
     },
     "execution_count": 10,
     "metadata": {},
     "output_type": "execute_result"
    }
   ],
   "source": [
    "# p189 クイズ 4.1.10\n",
    "def mat2coldict(M):\n",
    "    return {c: Vec(M.D[0], {r: M.f[r, c] for r in M.D[0]}) for c in M.D[1]}\n",
    "\n",
    "mat2coldict(m)"
   ]
  },
  {
   "cell_type": "code",
   "execution_count": 11,
   "metadata": {},
   "outputs": [
    {
     "name": "stdout",
     "output_type": "stream",
     "text": [
      "\n",
      " ('a', '#') ('a', '?') ('a', '@') ('b', '#') ('b', '?') ('b', '@')\n",
      "------------------------------------------------------------------\n",
      "          2          3          1         20         30         10\n"
     ]
    }
   ],
   "source": [
    "# p190 クイズ 4.3.1\n",
    "def mat2vec(M):\n",
    "    D = {(r, c) for r in M.D[0] for c in M.D[1]}\n",
    "    return Vec(D, M.f.copy())\n",
    "\n",
    "print(mat2vec(m))"
   ]
  },
  {
   "cell_type": "code",
   "execution_count": 12,
   "metadata": {},
   "outputs": [
    {
     "name": "stdout",
     "output_type": "stream",
     "text": [
      "\n",
      " concrete electricity metal plastic water\n",
      "-----------------------------------------\n",
      "      312         356    51     215   373\n"
     ]
    }
   ],
   "source": [
    "# p194 例 4.5.10\n",
    "D = {'metal', 'concrete', 'plastic', 'water', 'electricity'}\n",
    "v_gnome = Vec(D, {'concrete': 1.3, 'plastic': 0.2, 'water': 0.8, 'electricity': 0.4})\n",
    "v_hoop = Vec(D, {'plastic': 1.5, 'water': 0.4, 'electricity': 0.3})\n",
    "v_slinky = Vec(D, {'metal': 0.25, 'water': 0.2, 'electricity': 0.7})\n",
    "v_putty = Vec(D, {'plastic': 0.3, 'water': 0.7, 'electricity': 0.5})\n",
    "v_shooter = Vec(D, {'metal': 0.15, 'plastic': 0.5, 'water': 0.4, 'electricity': 0.8})\n",
    "\n",
    "print(240*v_gnome + 55*v_hoop + 150*v_slinky + 133*v_putty + 90*v_shooter)"
   ]
  },
  {
   "cell_type": "code",
   "execution_count": 13,
   "metadata": {},
   "outputs": [
    {
     "name": "stdout",
     "output_type": "stream",
     "text": [
      "\n",
      "             concrete electricity metal plastic water\n",
      "           ------------------------------------------\n",
      "   gnome  |       1.3         0.4     0     0.2   0.8\n",
      "    hoop  |         0         0.3     0     1.5   0.4\n",
      "   putty  |         0         0.5     0     0.3   0.7\n",
      " shooter  |         0         0.8  0.15     0.5   0.4\n",
      "  slinky  |         0         0.7  0.25       0   0.2\n",
      "\n"
     ]
    }
   ],
   "source": [
    "from mat import Mat\n",
    "from matutil import *\n",
    "rowdict = {'gnome': v_gnome, 'hoop': v_hoop, 'slinky': v_slinky, 'putty': v_putty, 'shooter': v_shooter}\n",
    "M = rowdict2mat(rowdict)\n",
    "print(M)"
   ]
  },
  {
   "cell_type": "code",
   "execution_count": 14,
   "metadata": {},
   "outputs": [
    {
     "name": "stdout",
     "output_type": "stream",
     "text": [
      "\n",
      " concrete electricity metal plastic water\n",
      "-----------------------------------------\n",
      "      312         356    51     215   373\n"
     ]
    }
   ],
   "source": [
    "R = {'gnome', 'hoop', 'slinky', 'putty', 'shooter'}\n",
    "u = Vec(R, {'gnome': 240, 'hoop': 55, 'slinky': 150, 'putty': 133, 'shooter': 90})\n",
    "print(u*M)"
   ]
  },
  {
   "cell_type": "code",
   "execution_count": 15,
   "metadata": {},
   "outputs": [
    {
     "name": "stdout",
     "output_type": "stream",
     "text": [
      "\n",
      " gnome hoop putty shooter slinky\n",
      "--------------------------------\n",
      "   240   55   133      90    150\n"
     ]
    }
   ],
   "source": [
    "# p197 例 4.5.15\n",
    "from solver import *\n",
    "C = {'metal', 'concrete', 'plastic', 'water', 'electricity'}\n",
    "b = Vec(C, {'metal': 51.0, 'concrete': 312.0, 'plastic': 215.4, 'water': 373.1, 'electricity': 356.0})\n",
    "\n",
    "solution = solve(M.transpose(), b)\n",
    "print(solution)"
   ]
  },
  {
   "cell_type": "code",
   "execution_count": 16,
   "metadata": {},
   "outputs": [
    {
     "name": "stdout",
     "output_type": "stream",
     "text": [
      "\n",
      " concrete electricity     metal  plastic    water\n",
      "-------------------------------------------------\n",
      " 5.68E-14    2.27E-13 -4.55E-13 2.84E-14 5.68E-14\n"
     ]
    }
   ],
   "source": [
    "residual = b - solution*M\n",
    "print(residual)"
   ]
  },
  {
   "cell_type": "code",
   "execution_count": 17,
   "metadata": {},
   "outputs": [
    {
     "data": {
      "text/plain": [
       "2.65764083525338e-25"
      ]
     },
     "execution_count": 17,
     "metadata": {},
     "output_type": "execute_result"
    }
   ],
   "source": [
    "residual * residual"
   ]
  },
  {
   "cell_type": "code",
   "execution_count": 18,
   "metadata": {},
   "outputs": [
    {
     "name": "stdout",
     "output_type": "stream",
     "text": [
      "...#.\n",
      "..###\n",
      "...#.\n",
      ".....\n",
      ".....\n"
     ]
    }
   ],
   "source": [
    "# p195 例 4.5.12\n",
    "from GF2 import one\n",
    "def button_vectors(n):\n",
    "    D = {(i, j) for i in range(n) for j in range(n)}\n",
    "    vecdict = {(i, j):\n",
    "              Vec(D, dict([((x, j), one) for x in range(max(i-1, 0), min(i+2, n))]\n",
    "                         +[((i, y), one) for y in range(max(j-1, 0), min(j+2, n))]))\n",
    "                         for (i, j) in D}\n",
    "    return vecdict\n",
    "\n",
    "B = coldict2mat(button_vectors(5))\n",
    "\n",
    "# ボタン (1,3) のベクトルを確認\n",
    "import sys\n",
    "for x in range(5):\n",
    "    for y in range(5):\n",
    "        if B[(1, 3), (x, y)] == one:\n",
    "            sys.stdout.write('#')\n",
    "        else:\n",
    "            sys.stdout.write('.')\n",
    "    print()"
   ]
  },
  {
   "cell_type": "code",
   "execution_count": 19,
   "metadata": {},
   "outputs": [
    {
     "name": "stdout",
     "output_type": "stream",
     "text": [
      ".##.#\n",
      "#...#\n",
      "#.##.\n",
      "..#..\n",
      "##...\n"
     ]
    }
   ],
   "source": [
    "# p198 例 4.5.16\n",
    "s = Vec(B.D[0], {(2, 2): one})\n",
    "sol = solve(B, s)\n",
    "\n",
    "# 押すボタンの位置を確認\n",
    "for x in range(5):\n",
    "    for y in range(5):\n",
    "        if sol[x, y] == one:\n",
    "            sys.stdout.write('#')\n",
    "        else:\n",
    "            sys.stdout.write('.')\n",
    "    print()"
   ]
  },
  {
   "cell_type": "code",
   "execution_count": 20,
   "metadata": {},
   "outputs": [
    {
     "data": {
      "text/plain": [
       "True"
      ]
     },
     "execution_count": 20,
     "metadata": {},
     "output_type": "execute_result"
    }
   ],
   "source": [
    "B*sol == s"
   ]
  },
  {
   "cell_type": "code",
   "execution_count": 21,
   "metadata": {},
   "outputs": [
    {
     "data": {
      "image/png": "[encoded data removed]",
      "text/plain": [
       "<Figure size 256x256 with 1 Axes>"
      ]
     },
     "metadata": {
      "needs_background": "light"
     },
     "output_type": "display_data"
    }
   ],
   "source": [
    "# p199 例 4.6.4 をNumpyでやってみる\n",
    "\n",
    "%matplotlib inline\n",
    "from PIL import Image\n",
    "import matplotlib.pyplot as plt\n",
    "import numpy as np\n",
    "\n",
    "# 元画像の読み込み＆表示（256px*256px）\n",
    "im_org = np.array(Image.open('image/Lenna.bmp', 'r'))\n",
    "dpi = 80\n",
    "xpixels, ypixels = 256, 256\n",
    "\n",
    "figsize = ypixels / dpi, xpixels / dpi\n",
    "\n",
    "fig = plt.figure(figsize=figsize, dpi=dpi)\n",
    "ax = fig.add_axes([0, 0, 1, 1])\n",
    "\n",
    "ax.imshow(im_org)\n",
    "plt.show()"
   ]
  },
  {
   "cell_type": "code",
   "execution_count": 22,
   "metadata": {},
   "outputs": [
    {
     "data": {
      "text/plain": [
       "array([[226, 137, 125],\n",
       "       [223, 137, 133],\n",
       "       [226, 138, 120],\n",
       "       ...,\n",
       "       [162,  68,  80],\n",
       "       [177,  66,  77],\n",
       "       [181,  71,  81]], dtype=uint8)"
      ]
     },
     "execution_count": 22,
     "metadata": {},
     "output_type": "execute_result"
    }
   ],
   "source": [
    "# 画像をベクトル（1次元配列）として扱う\n",
    "vec_org = im_org.reshape([256*256, 3])\n",
    "vec_org"
   ]
  },
  {
   "cell_type": "code",
   "execution_count": 23,
   "metadata": {},
   "outputs": [],
   "source": [
    "# ダウンサンプリングの行列を作成する（64px*64pxに縮小する）\n",
    "mat_ds = np.zeros((64**2, 256**2))\n",
    "for j in range(64):\n",
    "    for i in range(64):\n",
    "        for m in range(4):\n",
    "            for n in range(4):\n",
    "                mat_ds[j*64 + i, (j*4+m)*256 + i*4+n] = 1/16\n",
    "\n",
    "# 元画像ベクトルの左から作成した行列を掛ける\n",
    "# ・要素レベルではRGB画素（int[3]）と重み（float）の乗算になるが、NumPyがベクトルのスカラ倍として計算してくれる\n",
    "# ・vec_org が列ベクトルじゃないけど計算できているのもNumPyの賢さ（np.matrix だと厳密にやる必要がある？）\n",
    "vec_small = mat_ds.dot(vec_org).astype(np.int)\n",
    "\n",
    "# 縮小画像ベクトルを2次元配列として解釈\n",
    "im_small = vec_small.reshape((64, 64, 3))"
   ]
  },
  {
   "cell_type": "code",
   "execution_count": 24,
   "metadata": {},
   "outputs": [
    {
     "data": {
      "image/png": "[encoded data removed]",
      "text/plain": [
       "<Figure size 256x256 with 1 Axes>"
      ]
     },
     "metadata": {
      "needs_background": "light"
     },
     "output_type": "display_data"
    }
   ],
   "source": [
    "# 縮小した画像を表示する\n",
    "dpi = 80\n",
    "xpixels, ypixels = 256, 256 # 原寸表示だとmatplotlibが縮小したのか区別しにくいので拡大表示する\n",
    "\n",
    "figsize = ypixels / dpi, xpixels / dpi\n",
    "\n",
    "fig = plt.figure(figsize=figsize, dpi=dpi)\n",
    "ax = fig.add_axes([0, 0, 1, 1])\n",
    "\n",
    "ax.imshow(im_small)\n",
    "plt.show()"
   ]
  },
  {
   "cell_type": "code",
   "execution_count": 25,
   "metadata": {},
   "outputs": [
    {
     "data": {
      "text/plain": [
       "Mat(({0, 1, 2, 3, 4}, {'sensor', 'memory', 'radio', 'CPU'}), {(0, 'sensor'): 0, (0, 'memory'): 0, (0, 'radio'): 0.1, (0, 'CPU'): 0.3, (1, 'sensor'): 0.2, (1, 'memory'): 0, (1, 'radio'): 0, (1, 'CPU'): 0.4, (2, 'sensor'): 0, (2, 'memory'): 0.3, (2, 'radio'): 0, (2, 'CPU'): 0.1, (3, 'sensor'): 0, (3, 'memory'): 0.5, (3, 'radio'): 0, (3, 'CPU'): 0.4, (4, 'sensor'): 0, (4, 'memory'): 0, (4, 'radio'): 0.2, (4, 'CPU'): 0.5})"
      ]
     },
     "execution_count": 25,
     "metadata": {},
     "output_type": "execute_result"
    }
   ],
   "source": [
    "# p202 例 2.9.7\n",
    "D = {'radio', 'sensor', 'memory', 'CPU'}\n",
    "v0 = Vec(D, {'radio': 0.1, 'CPU': 0.3})\n",
    "v1 = Vec(D, {'sensor': 0.2, 'CPU': 0.4})\n",
    "v2 = Vec(D, {'memory': 0.3, 'CPU': 0.1})\n",
    "v3 = Vec(D, {'memory': 0.5, 'CPU': 0.4})\n",
    "v4 = Vec(D, {'radio': 0.2, 'CPU': 0.5})\n",
    "\n",
    "b = Vec({0, 1, 2, 3, 4}, {0: 140, 1: 170, 2: 60, 3: 170, 4: 250})\n",
    "A = rowdict2mat([v0, v1, v2, v3, v4])\n",
    "A"
   ]
  },
  {
   "cell_type": "code",
   "execution_count": 26,
   "metadata": {},
   "outputs": [
    {
     "data": {
      "text/plain": [
       "Vec({'sensor', 'memory', 'radio', 'CPU'},{'sensor': 250.0000000000009, 'radio': 500.0000000000011, 'memory': 100.00000000000034, 'CPU': 299.99999999999955})"
      ]
     },
     "execution_count": 26,
     "metadata": {},
     "output_type": "execute_result"
    }
   ],
   "source": [
    "rate = solve(A, b)\n",
    "rate"
   ]
  },
  {
   "cell_type": "code",
   "execution_count": 27,
   "metadata": {},
   "outputs": [
    {
     "data": {
      "text/plain": [
       "True"
      ]
     },
     "execution_count": 27,
     "metadata": {},
     "output_type": "execute_result"
    }
   ],
   "source": [
    "r = b - A*rate\n",
    "r*r < sys.float_info.epsilon"
   ]
  },
  {
   "cell_type": "code",
   "execution_count": 28,
   "metadata": {},
   "outputs": [
    {
     "data": {
      "text/plain": [
       "Vec({0},{0: 0})"
      ]
     },
     "execution_count": 28,
     "metadata": {},
     "output_type": "execute_result"
    }
   ],
   "source": [
    "# p206 問題 4.7.3\n",
    "def l2v(L):\n",
    "    D = set(range(len(L)))\n",
    "    return Vec(D, {k: v for k, v in enumerate(L)})\n",
    "            \n",
    "# 1.\n",
    "A = rowdict2mat([l2v([1, 0, 1])])\n",
    "v = l2v([1, 0, -1])\n",
    "A*v"
   ]
  },
  {
   "cell_type": "code",
   "execution_count": 29,
   "metadata": {
    "scrolled": true
   },
   "outputs": [
    {
     "data": {
      "text/plain": [
       "Vec({0, 1},{0: 0, 1: 0})"
      ]
     },
     "execution_count": 29,
     "metadata": {},
     "output_type": "execute_result"
    }
   ],
   "source": [
    "# 2.\n",
    "A = rowdict2mat([l2v([2, 0, 0]), l2v([0, 1, 1])])\n",
    "v = l2v([0, 1, -1])\n",
    "A*v"
   ]
  },
  {
   "cell_type": "code",
   "execution_count": 30,
   "metadata": {
    "scrolled": true
   },
   "outputs": [
    {
     "data": {
      "text/plain": [
       "Vec({0, 1, 2},{0: 0, 1: 0, 2: 0})"
      ]
     },
     "execution_count": 30,
     "metadata": {},
     "output_type": "execute_result"
    }
   ],
   "source": [
    "# 3.\n",
    "A = rowdict2mat([l2v([1, 0, 0]), l2v([0, 0, 0]), l2v([0, 0, 1])])\n",
    "v = l2v([0, 1, 0])\n",
    "A*v"
   ]
  },
  {
   "cell_type": "code",
   "execution_count": 31,
   "metadata": {},
   "outputs": [
    {
     "data": {
      "text/plain": [
       "Vec({0, 1, 2},{0: 0, 1: one, 2: one})"
      ]
     },
     "execution_count": 31,
     "metadata": {},
     "output_type": "execute_result"
    }
   ],
   "source": [
    "# ハミングコード\n",
    "H = rowdict2mat([\n",
    "    l2v([0,0,0,one,one,one,one]),\n",
    "    l2v([0,one,one,0,0,one,one]),\n",
    "    l2v([one,0,one,0,one,0,one])])\n",
    "e = l2v([0,0,one,0,0,0,0])\n",
    "H*e"
   ]
  },
  {
   "cell_type": "code",
   "execution_count": 32,
   "metadata": {},
   "outputs": [
    {
     "data": {
      "text/plain": [
       "True"
      ]
     },
     "execution_count": 32,
     "metadata": {},
     "output_type": "execute_result"
    }
   ],
   "source": [
    "# p210 クイズ 4.7.10\n",
    "e1 = l2v([0,0,one,one,0,0,0])\n",
    "e2 = l2v([0,one,0,0,one,0,0])\n",
    "H*e1 == H*e2"
   ]
  },
  {
   "cell_type": "code",
   "execution_count": 33,
   "metadata": {},
   "outputs": [
    {
     "data": {
      "text/plain": [
       "Mat(({0, 1, 2}, {0, 1, 2}), {(0, 0): 'a', (1, 1): 'b', (2, 2): 'c'})"
      ]
     },
     "execution_count": 33,
     "metadata": {},
     "output_type": "execute_result"
    }
   ],
   "source": [
    "# p221 クイズ 4.10.21\n",
    "def diag(D, entries):\n",
    "    return Mat((D, D), {(d, d): entries[d] for d in D})\n",
    "\n",
    "diag({0, 1, 2}, {0: 'a', 1:'b', 2:'c'})"
   ]
  },
  {
   "cell_type": "code",
   "execution_count": 34,
   "metadata": {},
   "outputs": [
    {
     "name": "stdout",
     "output_type": "stream",
     "text": [
      "\n",
      "       1 2 3 4\n",
      "     ---------\n",
      " 1  |  0 1 0 1\n",
      " 2  |  1 0 2 1\n",
      " 3  |  0 2 0 0\n",
      " 4  |  1 1 0 0\n",
      "\n",
      "\n",
      "       1 2 3 4\n",
      "     ---------\n",
      " 1  |  2 1 2 1\n",
      " 2  |  1 6 0 1\n",
      " 3  |  2 0 4 2\n",
      " 4  |  1 1 2 2\n",
      "\n",
      "\n",
      "       1  2  3 4\n",
      "     -----------\n",
      " 1  |  2  7  2 3\n",
      " 2  |  7  2 12 7\n",
      " 3  |  2 12  0 2\n",
      " 4  |  3  7  2 2\n",
      "\n"
     ]
    }
   ],
   "source": [
    "D = {1, 2, 3, 4}\n",
    "A = Mat((D, D), {\n",
    "    (1,2): 1, (1,4): 1,\n",
    "    (2,1): 1, (2,3): 2, (2,4): 1,\n",
    "    (3,2): 2,\n",
    "    (4,1):1, (4,2):1\n",
    "})\n",
    "\n",
    "print(A)\n",
    "print(A*A)\n",
    "print(A*A*A)"
   ]
  },
  {
   "cell_type": "code",
   "execution_count": 36,
   "metadata": {},
   "outputs": [
    {
     "name": "stdout",
     "output_type": "stream",
     "text": [
      "\n",
      " 0 1   2   3 4 5   6\n",
      "--------------------\n",
      " 0 0 one one 0 0 one\n"
     ]
    }
   ],
   "source": [
    "# p244 課題 4.14.1\n",
    "from GF2 import one\n",
    "from matutil import listlist2mat\n",
    "from vecutil import list2vec\n",
    "\n",
    "G = listlist2mat([[one,0,one,one],[one,one,0,one],[0,0,0,one],[one,one,one,0],[0,0,one,0],[0,one,0,0],[one,0,0,0]])\n",
    "msg = list2vec([one,0,0,one])\n",
    "\n",
    "print(G * msg)"
   ]
  },
  {
   "cell_type": "code",
   "execution_count": 37,
   "metadata": {},
   "outputs": [
    {
     "name": "stdout",
     "output_type": "stream",
     "text": [
      "\n",
      "   0 1 2   3\n",
      "------------\n",
      " one 0 0 one\n",
      "\n",
      "         0   1   2   3\n",
      "     -----------------\n",
      " 0  |  one   0   0   0\n",
      " 1  |    0 one   0   0\n",
      " 2  |    0   0 one   0\n",
      " 3  |    0   0   0 one\n",
      "\n"
     ]
    }
   ],
   "source": [
    "# p244 課題 4.14.3\n",
    "R = listlist2mat([[0, 0, 0, 0, 0, 0, one], [0, 0, 0, 0, 0, one, 0], [0, 0, 0, 0, one, 0, 0], [0, 0, one, 0, 0, 0, 0]])\n",
    "\n",
    "print(R*(G*msg))\n",
    "print(R*G)"
   ]
  },
  {
   "cell_type": "code",
   "execution_count": 38,
   "metadata": {},
   "outputs": [
    {
     "name": "stdout",
     "output_type": "stream",
     "text": [
      "\n",
      "       0 1 2 3\n",
      "     ---------\n",
      " 0  |  0 0 0 0\n",
      " 1  |  0 0 0 0\n",
      " 2  |  0 0 0 0\n",
      "\n"
     ]
    }
   ],
   "source": [
    "# p245 課題 4.14.4\n",
    "H = listlist2mat([[0, 0, 0, one, one, one, one], [0, one, one, 0, 0, one, one], [one, 0, one, 0, one, 0, one]])\n",
    "\n",
    "print(H*G)"
   ]
  },
  {
   "cell_type": "code",
   "execution_count": 53,
   "metadata": {},
   "outputs": [
    {
     "name": "stdout",
     "output_type": "stream",
     "text": [
      "\n",
      "   0 1 2 3 4 5 6\n",
      "----------------\n",
      " one 0 0 0 0 0 0\n",
      "\n",
      " 0   1 2 3 4 5 6\n",
      "----------------\n",
      " 0 one 0 0 0 0 0\n",
      "\n",
      " 0 1   2 3 4 5 6\n",
      "----------------\n",
      " 0 0 one 0 0 0 0\n",
      "\n",
      " 0 1 2   3 4 5 6\n",
      "----------------\n",
      " 0 0 0 one 0 0 0\n",
      "\n",
      " 0 1 2 3   4 5 6\n",
      "----------------\n",
      " 0 0 0 0 one 0 0\n",
      "\n",
      " 0 1 2 3 4   5 6\n",
      "----------------\n",
      " 0 0 0 0 0 one 0\n",
      "\n",
      " 0 1 2 3 4 5   6\n",
      "----------------\n",
      " 0 0 0 0 0 0 one\n",
      "\n",
      " 0 1 2 3 4 5 6\n",
      "--------------\n",
      " 0 0 0 0 0 0 0\n"
     ]
    }
   ],
   "source": [
    "# p245 課題 4.14.5\n",
    "def find_error(syndrome):\n",
    "    n = sum([2**i if syndrome[2 - i] == one else 0 for i in range(3)])\n",
    "    return Vec(set(range(7)), {n-1: one} if n > 0 else dict())\n",
    "\n",
    "from vecutil import list2vec\n",
    "\n",
    "syndromes = [\n",
    "    list2vec([0,0,one]),\n",
    "    list2vec([0,one,0]),\n",
    "    list2vec([0,one,one]),\n",
    "    list2vec([one,0,0]),\n",
    "    list2vec([one,0,one]),\n",
    "    list2vec([one,one,0]),\n",
    "    list2vec([one,one,one]),\n",
    "    Vec({0,1,2}, {})\n",
    "]\n",
    "for s in syndromes:\n",
    "    print(find_error(s))"
   ]
  },
  {
   "cell_type": "code",
   "execution_count": 60,
   "metadata": {},
   "outputs": [
    {
     "name": "stdout",
     "output_type": "stream",
     "text": [
      "\n",
      "   0 1   2   3 4   5   6\n",
      "------------------------\n",
      " one 0 one one 0 one one\n",
      "\n",
      " 0 1 2 3 4 5   6\n",
      "----------------\n",
      " 0 0 0 0 0 0 one\n",
      "\n",
      "   0 1   2   3 4   5 6\n",
      "----------------------\n",
      " one 0 one one 0 one 0\n",
      "\n",
      " 0   1 2   3\n",
      "------------\n",
      " 0 one 0 one\n"
     ]
    }
   ],
   "source": [
    "# p245 課題 4.14.6\n",
    "non_codeword = Vec({0, 1, 2, 3, 4, 5, 6}, {0: one, 1: 0, 2: one, 3: one, 4: 0, 5: one, 6: one})\n",
    "\n",
    "error_vector = find_error(H * non_codeword)\n",
    "code_word = non_codeword + error_vector\n",
    "original = R * code_word\n",
    "\n",
    "print(non_codeword)\n",
    "print(error_vector)\n",
    "print(code_word)\n",
    "print(original)"
   ]
  },
  {
   "cell_type": "code",
   "execution_count": 92,
   "metadata": {},
   "outputs": [
    {
     "name": "stdout",
     "output_type": "stream",
     "text": [
      "\n",
      "       0   1   2   3\n",
      "     ---------------\n",
      " 0  |  0 one one one\n",
      " 1  |  0 one   0   0\n",
      " 2  |  0   0   0 one\n",
      "\n",
      "\n",
      "       0   1   2   3\n",
      "     ---------------\n",
      " 0  |  0   0   0   0\n",
      " 1  |  0   0   0   0\n",
      " 2  |  0   0   0   0\n",
      " 3  |  0   0 one   0\n",
      " 4  |  0   0   0 one\n",
      " 5  |  0 one   0   0\n",
      " 6  |  0   0   0   0\n",
      "\n"
     ]
    },
    {
     "data": {
      "text/plain": [
       "True"
      ]
     },
     "execution_count": 92,
     "metadata": {},
     "output_type": "execute_result"
    }
   ],
   "source": [
    "# p245 課題 4.14.7\n",
    "def find_error_matrix(S):\n",
    "    return coldict2mat({col: find_error(s) for col, s in sorted(mat2coldict(S).items(), key=lambda p: p[0])})\n",
    "\n",
    "S = listlist2mat([[0,one,one,one],[0,one,0,0],[0,0,0,one]])\n",
    "print(S)\n",
    "\n",
    "print(find_error_matrix(S))\n",
    "find_error_matrix(S) == Mat(({0, 1, 2, 3, 4, 5, 6}, {0, 1, 2, 3}), {(1, 3): 0, (3, 0): 0, (2, 1): 0, (6, 2): 0, (5, 1): one, (0, 3): 0, (4, 0): 0, (1, 2): 0, (3, 3): 0, (6, 3): 0, (5, 0): 0, (2, 2): 0, (4, 1): 0, (1, 1): 0, (3, 2): one, (0, 0): 0, (6, 0): 0, (2, 3): 0, (4, 2): 0, (1, 0): 0, (5, 3): 0, (0, 1): 0, (6, 1): 0, (3, 1): 0, (2, 0): 0, (4, 3): one, (5, 2): 0, (0, 2): 0})"
   ]
  },
  {
   "cell_type": "code",
   "execution_count": 76,
   "metadata": {},
   "outputs": [
    {
     "name": "stdout",
     "output_type": "stream",
     "text": [
      "\u0000\u0001\u0002\u0003\u0004\u0005\u0006\u0007\b\t\n",
      "\u000b",
      "\f",
      "\r",
      "\u000e\u000f\u0010\u0011\u0012\u0013\u0014\u0015\u0016\u0017\u0018\u0019\u001a\u001b\u001c",
      "\u001d",
      "\u001e",
      "\u001f !\"#$%&'()*+,-./0123456789:;<=>?@ABCDEFGHIJKLMNOPQRSTUVWXYZ[\\]^_`abcdefghijklmnopqrstuvwxyz{|}~",
      " ¡¢£¤¥¦§¨©ª«¬­®¯°±²³´µ¶·¸¹º»¼½¾¿ÀÁÂÃÄÅÆÇÈÉÊËÌÍÎÏÐÑÒÓÔÕÖ×ØÙÚÛÜÝÞßàáâãäåæçèéêëìíîïðñòóôõö÷øùúûüýþÿ\n"
     ]
    },
    {
     "data": {
      "text/plain": [
       "True"
      ]
     },
     "execution_count": 76,
     "metadata": {},
     "output_type": "execute_result"
    }
   ],
   "source": [
    "# p246 課題 4.14.8\n",
    "s = ''.join([chr(i) for i in range(256)])\n",
    "print(s)\n",
    "\n",
    "from bitutil import str2bits, bits2str\n",
    "\n",
    "bits2str(str2bits(s)) == s"
   ]
  },
  {
   "cell_type": "code",
   "execution_count": 79,
   "metadata": {},
   "outputs": [
    {
     "name": "stdout",
     "output_type": "stream",
     "text": [
      "\u0000\u0001\u0002\u0003\u0004\u0005\u0006\u0007\b\t\n",
      "\u000b",
      "\f",
      "\r",
      "\u000e\u000f\u0010\u0011\u0012\u0013\u0014\u0015\u0016\u0017\u0018\u0019\u001a\u001b\u001c",
      "\u001d",
      "\u001e",
      "\u001f !\"#$%&'()*+,-./0123456789:;<=>?@ABCDEFGHIJKLMNOPQRSTUVWXYZ[\\]^_`abcdefghijklmnopqrstuvwxyz{|}~",
      " ¡¢£¤¥¦§¨©ª«¬­®¯°±²³´µ¶·¸¹º»¼½¾¿ÀÁÂÃÄÅÆÇÈÉÊËÌÍÎÏÐÑÒÓÔÕÖ×ØÙÚÛÜÝÞßàáâãäåæçèéêëìíîïðñòóôõö÷øùúûüýþÿ\n"
     ]
    }
   ],
   "source": [
    "# p246 課題 4.14.9\n",
    "from bitutil import bits2mat, mat2bits\n",
    "\n",
    "print(bits2str(mat2bits(bits2mat(str2bits(s)))))"
   ]
  },
  {
   "cell_type": "code",
   "execution_count": 84,
   "metadata": {},
   "outputs": [
    {
     "data": {
      "text/plain": [
       "\"A'm trying to fred your minf, Nmo. Cut I can only$sho÷`}oõ the door. You%re&the one that0has to vqlk throvgh it.\""
      ]
     },
     "execution_count": 84,
     "metadata": {},
     "output_type": "execute_result"
    }
   ],
   "source": [
    "# p247 課題 4.14.11\n",
    "from bitutil import noise\n",
    "\n",
    "s = \"I'm trying to free your mind, Neo. But I can only show you the door. You're the one that has to walk through it.\"\n",
    "P = bits2mat(str2bits(s))\n",
    "E = noise(P, 0.02)\n",
    "\n",
    "bits2str(mat2bits(P + E))"
   ]
  },
  {
   "cell_type": "code",
   "execution_count": 87,
   "metadata": {},
   "outputs": [
    {
     "data": {
      "text/plain": [
       "\"I'm trying to free your mind, Neo. But I can only show you the door. You're the one that has to walk through it.\""
      ]
     },
     "execution_count": 87,
     "metadata": {},
     "output_type": "execute_result"
    }
   ],
   "source": [
    "# p247 課題 4.14.12\n",
    "C = G * P\n",
    "bits2str(mat2bits(R * C))"
   ]
  },
  {
   "cell_type": "code",
   "execution_count": 90,
   "metadata": {},
   "outputs": [
    {
     "data": {
      "text/plain": [
       "'A\\'m trying to free$youb mind, Neo. Hut I can onL{ show {ou the door. You\\'re the\"one thát has to walk through it.'"
      ]
     },
     "execution_count": 90,
     "metadata": {},
     "output_type": "execute_result"
    }
   ],
   "source": [
    "# p247 課題 4.14.13\n",
    "CTILDE = C + noise(C, 0.02)\n",
    "bits2str(mat2bits(R * CTILDE))"
   ]
  },
  {
   "cell_type": "code",
   "execution_count": 95,
   "metadata": {},
   "outputs": [
    {
     "data": {
      "text/plain": [
       "\"I'm trying to free your mind, Neo. Lut I can onLy show you the door. You're the one that has to walk through it.\""
      ]
     },
     "execution_count": 95,
     "metadata": {},
     "output_type": "execute_result"
    }
   ],
   "source": [
    "# p248 課題 4.14.15\n",
    "def correct(A):\n",
    "    return A + find_error_matrix(H * A)\n",
    "\n",
    "# コードワードに2bit以上のノイズが乗ると正しく復元できない\n",
    "bits2str(mat2bits(R * correct(CTILDE)))"
   ]
  },
  {
   "cell_type": "code",
   "execution_count": 143,
   "metadata": {},
   "outputs": [
    {
     "name": "stdout",
     "output_type": "stream",
     "text": [
      "I'm 4ryi~g\"tO fruå\u0001yowr\u0000m)nä,0Nuo. \u0002tt\"Y can on\f",
      "Y show you(tÈe dkor. Yoe'òe 4he ze that hes vk!waIk\u0000thrnqoh i|.\n",
      "I'm trying to free ymur\u0000mind, Neo. But I can ony show you te dkor. Yoe're 4he o>e that haS to waik through it.\n",
      "False\n",
      "[0, 0, 0, 0, 0, 1, 0, 0, 1, 1, 0, 0, 0, 0, 0, 0, 1, 1, 0, 1, 1, 0, 1, 0, 0, 1, 0, 1, 0, 0, 0, 0, 0, 1, 0, 1, 1, 1, 0, 0, 2, 0, 1, 0, 0, 0, 0, 2, 0, 1, 0, 1, 0, 0, 1, 1, 0, 0, 0, 1, 0, 0, 0, 1, 0, 0, 0, 0, 0, 1, 0, 1, 1, 0, 1, 0, 1, 0, 0, 1, 0, 0, 0, 0, 0, 0, 0, 1, 0, 0, 0, 0, 0, 0, 0, 2, 0, 1, 0, 0, 0, 1, 0, 0, 1, 0, 0, 0, 0, 1, 0, 0, 1, 0, 0, 0, 1, 0, 0, 0, 0, 2, 1, 0, 0, 1, 0, 1, 2, 0, 0, 0, 0, 0, 0, 0, 0, 0, 0, 0, 0, 0, 1, 3, 0, 0, 0, 1, 0, 0, 0, 0, 0, 2, 0, 0, 0, 0, 0, 0, 0, 1, 1, 2, 0, 0, 0, 1, 0, 0, 0, 1, 0, 0, 0, 0, 1, 0, 0, 0, 1, 1, 0, 2, 0, 0, 1, 0, 1, 0, 1, 0, 1, 0, 0, 0, 2, 1, 0, 0, 0, 1, 0, 0, 0, 1, 0, 0, 1, 0, 1, 0, 1, 0, 0, 0, 0, 0, 0, 0, 1, 0, 0, 0]\n"
     ]
    }
   ],
   "source": [
    "# p248 課題 4.14.16\n",
    "E = noise(C, 0.05)\n",
    "CTILDE = C + E\n",
    "decoded = bits2str(mat2bits(R * correct(CTILDE)))\n",
    "\n",
    "print(bits2str(mat2bits(R * CTILDE)))\n",
    "print(decoded)\n",
    "print(decoded == s)\n",
    "print([list(e.f.values()).count(one) for e in mat2coldict(E).values()])"
   ]
  }
 ],
 "metadata": {
  "kernelspec": {
   "display_name": "Python 3",
   "language": "python",
   "name": "python3"
  },
  "language_info": {
   "codemirror_mode": {
    "name": "ipython",
    "version": 3
   },
   "file_extension": ".py",
   "mimetype": "text/x-python",
   "name": "python",
   "nbconvert_exporter": "python",
   "pygments_lexer": "ipython3",
   "version": "3.6.8"
  }
 },
 "nbformat": 4,
 "nbformat_minor": 2
}
