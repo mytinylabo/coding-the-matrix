{
 "cells": [
  {
   "cell_type": "code",
   "execution_count": 17,
   "metadata": {},
   "outputs": [],
   "source": [
    "# p261 問題 4.17.18\n",
    "# NumPyでやる版\n",
    "\n",
    "import numpy as np\n",
    "from vec import Vec\n",
    "from mat import Mat\n",
    "from vecutil import *\n",
    "from matutil import *"
   ]
  },
  {
   "cell_type": "code",
   "execution_count": 8,
   "metadata": {},
   "outputs": [
    {
     "data": {
      "text/plain": [
       "(206, 5211)"
      ]
     },
     "execution_count": 8,
     "metadata": {},
     "output_type": "execute_result"
    }
   ],
   "source": [
    "countries = []\n",
    "voting_data = []\n",
    "for country, *votes in [line.split(' ') for line in open('UN_voting_data.txt').readlines()]:\n",
    "    countries.append(country)\n",
    "    voting_data.append(list(map(int, votes)))\n",
    "\n",
    "(len(voting_data), len(voting_data[0]))"
   ]
  },
  {
   "cell_type": "code",
   "execution_count": 9,
   "metadata": {},
   "outputs": [],
   "source": [
    "At = np.matrix(voting_data)"
   ]
  },
  {
   "cell_type": "code",
   "execution_count": 14,
   "metadata": {},
   "outputs": [],
   "source": [
    "A = At.transpose()"
   ]
  },
  {
   "cell_type": "code",
   "execution_count": 15,
   "metadata": {},
   "outputs": [
    {
     "name": "stdout",
     "output_type": "stream",
     "text": [
      "CPU times: user 156 ms, sys: 0 ns, total: 156 ms\n",
      "Wall time: 152 ms\n"
     ]
    }
   ],
   "source": [
    "%time M = At * A"
   ]
  },
  {
   "cell_type": "code",
   "execution_count": 16,
   "metadata": {},
   "outputs": [
    {
     "data": {
      "text/plain": [
       "42436"
      ]
     },
     "execution_count": 16,
     "metadata": {},
     "output_type": "execute_result"
    }
   ],
   "source": [
    "M.size"
   ]
  },
  {
   "cell_type": "code",
   "execution_count": 21,
   "metadata": {},
   "outputs": [],
   "source": [
    "rowdict = {country: Vec(set(countries), dict(zip(countries, votes))) for country, votes in zip(countries, M.tolist())}\n",
    "M2 = rowdict2mat(rowdict)"
   ]
  },
  {
   "cell_type": "code",
   "execution_count": 28,
   "metadata": {},
   "outputs": [],
   "source": [
    "from operator import itemgetter\n",
    "\n",
    "agree_scores = {frozenset(pair): score for pair, score in M2.f.items() if pair[0] != pair[1]}\n",
    "agree_ranking = sorted(agree_scores.items(), key=itemgetter(1), reverse=True)"
   ]
  },
  {
   "cell_type": "code",
   "execution_count": 33,
   "metadata": {},
   "outputs": [
    {
     "data": {
      "text/plain": [
       "[(frozenset({'Philippines', 'Thailand'}), 4229),\n",
       " (frozenset({'Mexico', 'Venezuela'}), 4164),\n",
       " (frozenset({'Egypt', 'Indonesia'}), 4159),\n",
       " (frozenset({'Egypt', 'Saudi_Arabia'}), 4140),\n",
       " (frozenset({'Ecuador', 'Venezuela'}), 4120),\n",
       " (frozenset({'Poland', 'Ukraine'}), 4106),\n",
       " (frozenset({'Philippines', 'Venezuela'}), 4102),\n",
       " (frozenset({'Mexico', 'Philippines'}), 4099),\n",
       " (frozenset({'Ecuador', 'Mexico'}), 4066),\n",
       " (frozenset({'Belarus', 'Ukraine'}), 4063)]"
      ]
     },
     "execution_count": 33,
     "metadata": {},
     "output_type": "execute_result"
    }
   ],
   "source": [
    "agree_ranking[:10]"
   ]
  },
  {
   "cell_type": "code",
   "execution_count": 34,
   "metadata": {},
   "outputs": [
    {
     "data": {
      "text/plain": [
       "[(frozenset({'Sudan', 'United_States_of_America'}), -1582),\n",
       " (frozenset({'Mali', 'United_States_of_America'}), -1605),\n",
       " (frozenset({'Mongolia', 'United_States_of_America'}), -1615),\n",
       " (frozenset({'Guinea', 'United_States_of_America'}), -1616),\n",
       " (frozenset({'Libya', 'United_States_of_America'}), -1665),\n",
       " (frozenset({'United_States_of_America', 'Viet_Nam'}), -1740),\n",
       " (frozenset({'Algeria', 'United_States_of_America'}), -1742),\n",
       " (frozenset({'Cuba', 'United_States_of_America'}), -1807),\n",
       " (frozenset({'Syria', 'United_States_of_America'}), -1861),\n",
       " (frozenset({'Belarus', 'United_States_of_America'}), -1927)]"
      ]
     },
     "execution_count": 34,
     "metadata": {},
     "output_type": "execute_result"
    }
   ],
   "source": [
    "agree_ranking[-10:]"
   ]
  }
 ],
 "metadata": {
  "kernelspec": {
   "display_name": "Python 3",
   "language": "python",
   "name": "python3"
  },
  "language_info": {
   "codemirror_mode": {
    "name": "ipython",
    "version": 3
   },
   "file_extension": ".py",
   "mimetype": "text/x-python",
   "name": "python",
   "nbconvert_exporter": "python",
   "pygments_lexer": "ipython3",
   "version": "3.6.8"
  }
 },
 "nbformat": 4,
 "nbformat_minor": 2
}
