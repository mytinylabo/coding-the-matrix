{
 "cells": [
  {
   "cell_type": "code",
   "execution_count": 1,
   "metadata": {},
   "outputs": [],
   "source": [
    "# p261 問題 4.17.18\n",
    "from vec import Vec\n",
    "from mat import Mat\n",
    "from vecutil import *\n",
    "from matutil import *"
   ]
  },
  {
   "cell_type": "code",
   "execution_count": 2,
   "metadata": {},
   "outputs": [
    {
     "data": {
      "text/plain": [
       "(5211, 206)"
      ]
     },
     "execution_count": 2,
     "metadata": {},
     "output_type": "execute_result"
    }
   ],
   "source": [
    "voting_data = {country: list(map(int, votes)) for country, *votes in [line.split(' ') for line in open('UN_voting_data.txt').readlines()]}\n",
    "countries = set(voting_data.keys())\n",
    "vote_ids = set(range(len(next(iter(voting_data.values())))))\n",
    "(len(vote_ids), len(countries))"
   ]
  },
  {
   "cell_type": "code",
   "execution_count": 3,
   "metadata": {},
   "outputs": [
    {
     "data": {
      "text/plain": [
       "(5211, 206, 609232)"
      ]
     },
     "execution_count": 3,
     "metadata": {},
     "output_type": "execute_result"
    }
   ],
   "source": [
    "A = Mat((vote_ids, countries), {})\n",
    "for c in countries:\n",
    "    for i, v in enumerate(voting_data[c]):\n",
    "        if v != 0:\n",
    "            A[i, c] = v\n",
    "\n",
    "(len(A.D[0]), len(A.D[1]), len(A.f.items()))"
   ]
  },
  {
   "cell_type": "code",
   "execution_count": 4,
   "metadata": {},
   "outputs": [],
   "source": [
    "At = A.transpose()"
   ]
  },
  {
   "cell_type": "code",
   "execution_count": 5,
   "metadata": {},
   "outputs": [
    {
     "name": "stdout",
     "output_type": "stream",
     "text": [
      "CPU times: user 5min 24s, sys: 7min 7s, total: 12min 31s\n",
      "Wall time: 12min 55s\n"
     ]
    }
   ],
   "source": [
    "# CPU times: user 4h 8min 45s, sys: 1min 59s, total: 4h 10min 45s\n",
    "# Wall time: 4h 13min 27s\n",
    "\n",
    "%time M = At * A"
   ]
  },
  {
   "cell_type": "code",
   "execution_count": 6,
   "metadata": {},
   "outputs": [
    {
     "data": {
      "text/plain": [
       "[(frozenset({'Philippines', 'Thailand'}), 4229),\n",
       " (frozenset({'Mexico', 'Venezuela'}), 4164),\n",
       " (frozenset({'Egypt', 'Indonesia'}), 4159),\n",
       " (frozenset({'Egypt', 'Saudi_Arabia'}), 4140),\n",
       " (frozenset({'Ecuador', 'Venezuela'}), 4120),\n",
       " (frozenset({'Poland', 'Ukraine'}), 4106),\n",
       " (frozenset({'Philippines', 'Venezuela'}), 4102),\n",
       " (frozenset({'Mexico', 'Philippines'}), 4099),\n",
       " (frozenset({'Ecuador', 'Mexico'}), 4066),\n",
       " (frozenset({'Belarus', 'Ukraine'}), 4063)]"
      ]
     },
     "execution_count": 6,
     "metadata": {},
     "output_type": "execute_result"
    }
   ],
   "source": [
    "from operator import itemgetter\n",
    "\n",
    "agree_scores = {frozenset(pair): score for pair, score in M.f.items() if pair[0] != pair[1]}\n",
    "agree_ranking = sorted(agree_scores.items(), key=itemgetter(1), reverse=True)\n",
    "\n",
    "agree_ranking[:10]"
   ]
  },
  {
   "cell_type": "code",
   "execution_count": 7,
   "metadata": {},
   "outputs": [
    {
     "data": {
      "text/plain": [
       "[(frozenset({'Sudan', 'United_States_of_America'}), -1582),\n",
       " (frozenset({'Mali', 'United_States_of_America'}), -1605),\n",
       " (frozenset({'Mongolia', 'United_States_of_America'}), -1615),\n",
       " (frozenset({'Guinea', 'United_States_of_America'}), -1616),\n",
       " (frozenset({'Libya', 'United_States_of_America'}), -1665),\n",
       " (frozenset({'United_States_of_America', 'Viet_Nam'}), -1740),\n",
       " (frozenset({'Algeria', 'United_States_of_America'}), -1742),\n",
       " (frozenset({'Cuba', 'United_States_of_America'}), -1807),\n",
       " (frozenset({'Syria', 'United_States_of_America'}), -1861),\n",
       " (frozenset({'Belarus', 'United_States_of_America'}), -1927)]"
      ]
     },
     "execution_count": 7,
     "metadata": {},
     "output_type": "execute_result"
    }
   ],
   "source": [
    "agree_ranking[-10:]"
   ]
  },
  {
   "cell_type": "code",
   "execution_count": 9,
   "metadata": {},
   "outputs": [
    {
     "name": "stdout",
     "output_type": "stream",
     "text": [
      "CPU times: user 3min 34s, sys: 12min 25s, total: 15min 59s\n",
      "Wall time: 21min 1s\n"
     ]
    }
   ],
   "source": [
    "def matrix_matrix_mul(A, B):\n",
    "    # pairs = [[(s, u), [((s, t), (t, u)) for t in A.D[1] if (s, t) in A.f and (t, u) in B.f]] for s in A.D[0] for u in B.D[1]]\n",
    "    pairs = []\n",
    "    for s in A.D[0]:\n",
    "        for u in B.D[1]:\n",
    "            for t in A.D[1]:\n",
    "                if (s, t) in A.f and (t, u) in B.f:\n",
    "                    pairs.append([(s, u), [(s, t), (t, u)]])\n",
    "\n",
    "# CPU times: user 3min 9s, sys: 4min 19s, total: 7min 29s\n",
    "# Wall time: 7min 49s\n",
    "    \n",
    "%time matrix_matrix_mul(At, A)"
   ]
  }
 ],
 "metadata": {
  "kernelspec": {
   "display_name": "Python 3",
   "language": "python",
   "name": "python3"
  },
  "language_info": {
   "codemirror_mode": {
    "name": "ipython",
    "version": 3
   },
   "file_extension": ".py",
   "mimetype": "text/x-python",
   "name": "python",
   "nbconvert_exporter": "python",
   "pygments_lexer": "ipython3",
   "version": "3.6.8"
  }
 },
 "nbformat": 4,
 "nbformat_minor": 2
}
