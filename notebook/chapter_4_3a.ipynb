{
 "cells": [
  {
   "cell_type": "code",
   "execution_count": 1,
   "metadata": {},
   "outputs": [],
   "source": [
    "# p261 問題 4.17.18\n",
    "from vec import Vec\n",
    "from mat import Mat\n",
    "from vecutil import *\n",
    "from matutil import *"
   ]
  },
  {
   "cell_type": "code",
   "execution_count": 2,
   "metadata": {},
   "outputs": [
    {
     "data": {
      "text/plain": [
       "(5211, 206)"
      ]
     },
     "execution_count": 2,
     "metadata": {},
     "output_type": "execute_result"
    }
   ],
   "source": [
    "voting_data = {country: list(map(int, votes)) for country, *votes in [line.split(' ') for line in open('UN_voting_data.txt').readlines()]}\n",
    "countries = set(voting_data.keys())\n",
    "vote_ids = set(range(len(next(iter(voting_data.values())))))\n",
    "(len(vote_ids), len(countries))"
   ]
  },
  {
   "cell_type": "code",
   "execution_count": 3,
   "metadata": {},
   "outputs": [
    {
     "data": {
      "text/plain": [
       "(5211, 206, 609232)"
      ]
     },
     "execution_count": 3,
     "metadata": {},
     "output_type": "execute_result"
    }
   ],
   "source": [
    "A = Mat((vote_ids, countries), {})\n",
    "for c in countries:\n",
    "    for i, v in enumerate(voting_data[c]):\n",
    "        if v != 0:\n",
    "            A[i, c] = v\n",
    "\n",
    "(len(A.D[0]), len(A.D[1]), len(A.f.items()))"
   ]
  },
  {
   "cell_type": "code",
   "execution_count": 4,
   "metadata": {},
   "outputs": [],
   "source": [
    "At = A.transpose()"
   ]
  },
  {
   "cell_type": "code",
   "execution_count": 5,
   "metadata": {},
   "outputs": [
    {
     "name": "stdout",
     "output_type": "stream",
     "text": [
      "CPU times: user 5min 43s, sys: 7min 8s, total: 12min 51s\n",
      "Wall time: 13min 14s\n"
     ]
    }
   ],
   "source": [
    "# CPU times: user 4h 8min 45s, sys: 1min 59s, total: 4h 10min 45s\n",
    "# Wall time: 4h 13min 27s\n",
    "\n",
    "%time M = At * A"
   ]
  },
  {
   "cell_type": "code",
   "execution_count": 6,
   "metadata": {},
   "outputs": [
    {
     "name": "stdout",
     "output_type": "stream",
     "text": [
      "[(frozenset({'Philippines', 'Thailand'}), 4229), (frozenset({'Venezuela', 'Mexico'}), 4164), (frozenset({'Indonesia', 'Egypt'}), 4159), (frozenset({'Egypt', 'Saudi_Arabia'}), 4140), (frozenset({'Venezuela', 'Ecuador'}), 4120), (frozenset({'Poland', 'Ukraine'}), 4106), (frozenset({'Venezuela', 'Philippines'}), 4102), (frozenset({'Philippines', 'Mexico'}), 4099), (frozenset({'Mexico', 'Ecuador'}), 4066), (frozenset({'Belarus', 'Ukraine'}), 4063)]\n",
      "[(frozenset({'Sudan', 'United_States_of_America'}), -1582), (frozenset({'United_States_of_America', 'Mali'}), -1605), (frozenset({'Mongolia', 'United_States_of_America'}), -1615), (frozenset({'United_States_of_America', 'Guinea'}), -1616), (frozenset({'United_States_of_America', 'Libya'}), -1665), (frozenset({'United_States_of_America', 'Viet_Nam'}), -1740), (frozenset({'United_States_of_America', 'Algeria'}), -1742), (frozenset({'United_States_of_America', 'Cuba'}), -1807), (frozenset({'United_States_of_America', 'Syria'}), -1861), (frozenset({'Belarus', 'United_States_of_America'}), -1927)]\n"
     ]
    }
   ],
   "source": [
    "from operator import itemgetter\n",
    "\n",
    "agree_scores = {frozenset(pair): score for pair, score in M.f.items() if pair[0] != pair[1]}\n",
    "agree_ranking = sorted(agree_scores.items(), key=itemgetter(1), reverse=True)\n",
    "\n",
    "print(agree_ranking[:10])\n",
    "print(agree_ranking[-10:])"
   ]
  }
 ],
 "metadata": {
  "kernelspec": {
   "display_name": "Python 3",
   "language": "python",
   "name": "python3"
  },
  "language_info": {
   "codemirror_mode": {
    "name": "ipython",
    "version": 3
   },
   "file_extension": ".py",
   "mimetype": "text/x-python",
   "name": "python",
   "nbconvert_exporter": "python",
   "pygments_lexer": "ipython3",
   "version": "3.6.8"
  }
 },
 "nbformat": 4,
 "nbformat_minor": 2
}
