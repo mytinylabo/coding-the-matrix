{
 "cells": [
  {
   "cell_type": "code",
   "execution_count": 54,
   "metadata": {},
   "outputs": [],
   "source": [
    "from vecutil import *\n",
    "from matutil import *\n",
    "from GF2 import one\n",
    "\n",
    "def list2veclist(*args):\n",
    "    return [list2vec(l) for l in args]"
   ]
  },
  {
   "cell_type": "code",
   "execution_count": 52,
   "metadata": {},
   "outputs": [],
   "source": [
    "def my_row_reduce(L):\n",
    "    rowlist = L.copy()\n",
    "    col_label_list = sorted(rowlist[0].D, key=hash)\n",
    "\n",
    "    new_rowlist = []\n",
    "    rows_left = set(range(len(rowlist)))\n",
    "\n",
    "    for c in col_label_list:\n",
    "        rows_with_nonzero = [r for r in rows_left if rowlist[r][c] != 0]\n",
    "        if len(rows_with_nonzero) == 0:\n",
    "            continue\n",
    "        pivot = rows_with_nonzero[0]\n",
    "        new_rowlist.append(rowlist[pivot])\n",
    "        rows_left.remove(pivot)\n",
    "        \n",
    "        for r in rows_with_nonzero[1:]:\n",
    "            rate = rowlist[r][c] / rowlist[pivot][c]\n",
    "            rowlist[r] -= rate * rowlist[pivot]\n",
    "    \n",
    "    return new_rowlist + [rowlist[r] for r in rows_left]"
   ]
  },
  {
   "cell_type": "code",
   "execution_count": 47,
   "metadata": {},
   "outputs": [
    {
     "name": "stdout",
     "output_type": "stream",
     "text": [
      "\n",
      "       0 1 2 3 4\n",
      "     -----------\n",
      " 0  |  0 2 3 4 5\n",
      " 1  |  0 0 0 3 2\n",
      " 2  |  1 2 3 4 5\n",
      " 3  |  0 0 0 6 7\n",
      " 4  |  0 0 0 9 8\n",
      "\n",
      "\n",
      "       0 1 2 3 4\n",
      "     -----------\n",
      " 0  |  1 2 3 4 5\n",
      " 1  |  0 2 3 4 5\n",
      " 2  |  0 0 0 3 2\n",
      " 3  |  0 0 0 0 3\n",
      " 4  |  0 0 0 0 0\n",
      "\n"
     ]
    }
   ],
   "source": [
    "# list2veclist([4,1,3,0], [0,3,0,1], [0,0,1,7], [0,0,0,9])\n",
    "\n",
    "rowlist = list2veclist([0,2,3,4,5],[0,0,0,3,2],[1,2,3,4,5],[0,0,0,6,7],[0,0,0,9,8])\n",
    "print(rowdict2mat(rowlist))\n",
    "\n",
    "print(rowdict2mat(my_row_reduce(rowlist)))"
   ]
  },
  {
   "cell_type": "code",
   "execution_count": 53,
   "metadata": {},
   "outputs": [
    {
     "name": "stdout",
     "output_type": "stream",
     "text": [
      "\n",
      "           0     1      2\n",
      "     --------------------\n",
      " 0  |  1E-20     0      1\n",
      " 1  |      0 1E+20 -1E+20\n",
      " 2  |      0     0      0\n",
      "\n"
     ]
    }
   ],
   "source": [
    "rowlist = list2veclist([10**-20, 0, 1], [1, 10**20, 1], [0, 1, -1])\n",
    "print(rowdict2mat(my_row_reduce(rowlist)))"
   ]
  },
  {
   "cell_type": "code",
   "execution_count": 56,
   "metadata": {},
   "outputs": [
    {
     "name": "stdout",
     "output_type": "stream",
     "text": [
      "\n",
      "         0   1   2   3\n",
      "     -----------------\n",
      " 0  |  one   0 one one\n",
      " 1  |    0 one   0   0\n",
      " 2  |    0   0 one one\n",
      " 3  |    0   0   0 one\n",
      "\n"
     ]
    }
   ],
   "source": [
    "rowlist = list2veclist([0,0,one,one], [one,0,one,one], [one,0,0,one], [one,one,one,one])\n",
    "print(rowdict2mat(my_row_reduce(rowlist)))"
   ]
  },
  {
   "cell_type": "code",
   "execution_count": 85,
   "metadata": {},
   "outputs": [],
   "source": [
    "def my_transformation(A, unit=1):\n",
    "    rowlist = A.copy()\n",
    "    n = len(rowlist)\n",
    "    M_rowlist = [list2vec([unit if i == j else 0 for j in range(n)]) for i in range(n)]\n",
    "    \n",
    "    col_label_list = sorted(rowlist[0].D, key=hash)\n",
    "    rows_left = set(range(len(rowlist)))\n",
    "    \n",
    "    sorted_M_rowlist = []\n",
    "\n",
    "    for c in col_label_list:\n",
    "        rows_with_nonzero = [r for r in rows_left if rowlist[r][c] != 0]\n",
    "        if len(rows_with_nonzero) == 0:\n",
    "            continue\n",
    "        pivot = rows_with_nonzero[0]\n",
    "        sorted_M_rowlist.append(M_rowlist[pivot])\n",
    "        rows_left.remove(pivot)\n",
    "        \n",
    "        for r in rows_with_nonzero[1:]:\n",
    "            rate = rowlist[r][c] / rowlist[pivot][c]\n",
    "            rowlist[r] -= rate * rowlist[pivot]\n",
    "            M_rowlist[r] -= rate * M_rowlist[pivot]\n",
    "    \n",
    "    return sorted_M_rowlist + [M_rowlist[r] for r in rows_left]"
   ]
  },
  {
   "cell_type": "code",
   "execution_count": 79,
   "metadata": {},
   "outputs": [
    {
     "name": "stdout",
     "output_type": "stream",
     "text": [
      "\n",
      "       0 1 2 3 4\n",
      "     -----------\n",
      " 0  |  0 2 3 4 5\n",
      " 1  |  0 0 0 3 2\n",
      " 2  |  1 2 3 4 5\n",
      " 3  |  0 0 0 6 7\n",
      " 4  |  0 0 0 9 8\n",
      "\n",
      "\n",
      "       0     1 2      3 4\n",
      "     --------------------\n",
      " 0  |  0     0 1      0 0\n",
      " 1  |  1     0 0      0 0\n",
      " 2  |  0     1 0      0 0\n",
      " 3  |  0    -2 0      1 0\n",
      " 4  |  0 -1.67 0 -0.667 1\n",
      "\n",
      "\n",
      "       0 1 2 3 4\n",
      "     -----------\n",
      " 0  |  1 2 3 4 5\n",
      " 1  |  0 2 3 4 5\n",
      " 2  |  0 0 0 3 2\n",
      " 3  |  0 0 0 0 3\n",
      " 4  |  0 0 0 0 0\n",
      "\n"
     ]
    }
   ],
   "source": [
    "rowlist = list2veclist([0,2,3,4,5],[0,0,0,3,2],[1,2,3,4,5],[0,0,0,6,7],[0,0,0,9,8])\n",
    "A = rowdict2mat(rowlist)\n",
    "print(A)\n",
    "\n",
    "M = rowdict2mat(my_transformation(rowlist))\n",
    "print(M)\n",
    "\n",
    "print(M * A)"
   ]
  },
  {
   "cell_type": "code",
   "execution_count": 78,
   "metadata": {},
   "outputs": [
    {
     "name": "stdout",
     "output_type": "stream",
     "text": [
      "\n",
      "         0   1   2   3\n",
      "     -----------------\n",
      " 0  |    0   0 one one\n",
      " 1  |  one   0 one one\n",
      " 2  |  one   0   0 one\n",
      " 3  |  one one one one\n",
      "\n",
      "\n",
      "         0   1   2   3\n",
      "     -----------------\n",
      " 0  |    0 one   0   0\n",
      " 1  |    0 one   0 one\n",
      " 2  |  one   0   0   0\n",
      " 3  |  one one one   0\n",
      "\n",
      "\n",
      "         0   1   2   3\n",
      "     -----------------\n",
      " 0  |  one   0 one one\n",
      " 1  |    0 one   0   0\n",
      " 2  |    0   0 one one\n",
      " 3  |    0   0   0 one\n",
      "\n"
     ]
    }
   ],
   "source": [
    "rowlist = list2veclist([0,0,one,one], [one,0,one,one], [one,0,0,one], [one,one,one,one])\n",
    "A = rowdict2mat(rowlist)\n",
    "print(A)\n",
    "\n",
    "M = rowdict2mat(my_transformation(rowlist, unit=one))\n",
    "print(M)\n",
    "\n",
    "print(M * A)"
   ]
  },
  {
   "cell_type": "code",
   "execution_count": 92,
   "metadata": {},
   "outputs": [
    {
     "name": "stdout",
     "output_type": "stream",
     "text": [
      "\n",
      "       0 1 2 3 4\n",
      "     -----------\n",
      " 0  |  0 2 4 2 8\n",
      " 1  |  2 1 0 5 4\n",
      " 2  |  4 1 2 4 2\n",
      " 3  |  5 0 0 2 8\n",
      "\n",
      "\n",
      "           0  1     2 3\n",
      "     ------------------\n",
      " 0  |      0  1     0 0\n",
      " 1  |      1  0     0 0\n",
      " 2  |    0.5 -2     1 0\n",
      " 3  |  0.625  0 -1.25 1\n",
      "\n",
      "\n",
      "       0 1 2     3    4\n",
      "     ------------------\n",
      " 0  |  2 1 0     5    4\n",
      " 1  |  0 2 4     2    8\n",
      " 2  |  0 0 4    -5   -2\n",
      " 3  |  0 0 0 -1.75 10.5\n",
      "\n",
      "4 4\n"
     ]
    }
   ],
   "source": [
    "rowlist = list2veclist([0,2,4,2,8], [2,1,0,5,4], [4,1,2,4,2], [5,0,0,2,8])\n",
    "A = rowdict2mat(rowlist)\n",
    "print(A)\n",
    "\n",
    "M = rowdict2mat(my_transformation(rowlist))\n",
    "print(M)\n",
    "\n",
    "print(M * A)\n",
    "\n",
    "from independence import rank\n",
    "print(rank(rowlist), rank(list(mat2rowdict(M * A).values())))"
   ]
  },
  {
   "cell_type": "code",
   "execution_count": 93,
   "metadata": {},
   "outputs": [
    {
     "name": "stdout",
     "output_type": "stream",
     "text": [
      "\n",
      "         0 1 2   3   4\n",
      "     -----------------\n",
      " 0  |    0 0 0 one   0\n",
      " 1  |    0 0 0 one one\n",
      " 2  |  one 0 0 one   0\n",
      " 3  |  one 0 0   0 one\n",
      " 4  |  one 0 0   0   0\n",
      "\n",
      "\n",
      "         0   1   2   3   4\n",
      "     ---------------------\n",
      " 0  |    0   0 one   0   0\n",
      " 1  |  one   0   0   0   0\n",
      " 2  |  one one   0   0   0\n",
      " 3  |    0 one one one   0\n",
      " 4  |  one   0 one   0 one\n",
      "\n",
      "\n",
      "         0 1 2   3   4\n",
      "     -----------------\n",
      " 0  |  one 0 0 one   0\n",
      " 1  |    0 0 0 one   0\n",
      " 2  |    0 0 0   0 one\n",
      " 3  |    0 0 0   0   0\n",
      " 4  |    0 0 0   0   0\n",
      "\n"
     ]
    }
   ],
   "source": [
    "rowlist = list2veclist([0,0,0,one,0], [0,0,0,one,one], [one,0,0,one,0], [one,0,0,0,one], [one,0,0,0,0])\n",
    "A = rowdict2mat(rowlist)\n",
    "print(A)\n",
    "\n",
    "M = rowdict2mat(my_transformation(rowlist, unit=one))\n",
    "print(M)\n",
    "\n",
    "print(M * A)"
   ]
  },
  {
   "cell_type": "code",
   "execution_count": 100,
   "metadata": {},
   "outputs": [
    {
     "name": "stdout",
     "output_type": "stream",
     "text": [
      "2460 7540 0.246\n",
      "2502 7498 0.2502\n",
      "2528 7472 0.2528\n",
      "2486 7514 0.2486\n"
     ]
    }
   ],
   "source": [
    "import random\n",
    "\n",
    "def randGF2(): return random.randint(0, 1) * one\n",
    "\n",
    "a0 = list2vec([one, one, 0, one, 0, one])\n",
    "b0 = list2vec([one, one, 0, 0, 0, one])\n",
    "\n",
    "def rand_vec():\n",
    "    return list2vec([randGF2() for i in a0.D])\n",
    "\n",
    "# u が見つかる確率の計算\n",
    "for s, t in [(0,0), (0,one), (one,0), (one,one)]:\n",
    "    hit = 0\n",
    "    missed = 0\n",
    "    for i in range(10000):\n",
    "        u = rand_vec()\n",
    "        if a0 * u == s and b0 * u == t:\n",
    "            hit += 1\n",
    "        else:\n",
    "            missed += 1\n",
    "\n",
    "    print(hit, missed, hit / (hit + missed))"
   ]
  },
  {
   "cell_type": "code",
   "execution_count": 137,
   "metadata": {},
   "outputs": [
    {
     "data": {
      "text/plain": [
       "[Vec({0, 1, 2, 3, 4, 5},{0: one, 1: one, 2: 0, 3: one, 4: 0, 5: one}),\n",
       " Vec({0, 1, 2, 3, 4, 5},{0: one, 1: one, 2: 0, 3: 0, 4: 0, 5: one}),\n",
       " Vec({0, 1, 2, 3, 4, 5},{0: 0, 1: 0, 2: 0, 3: one, 4: one, 5: 0}),\n",
       " Vec({0, 1, 2, 3, 4, 5},{0: 0, 1: 0, 2: 0, 3: one, 4: one, 5: one}),\n",
       " Vec({0, 1, 2, 3, 4, 5},{0: one, 1: 0, 2: 0, 3: 0, 4: one, 5: one}),\n",
       " Vec({0, 1, 2, 3, 4, 5},{0: one, 1: one, 2: one, 3: one, 4: 0, 5: 0}),\n",
       " Vec({0, 1, 2, 3, 4, 5},{0: 0, 1: one, 2: one, 3: one, 4: 0, 5: one}),\n",
       " Vec({0, 1, 2, 3, 4, 5},{0: 0, 1: one, 2: 0, 3: 0, 4: one, 5: one}),\n",
       " Vec({0, 1, 2, 3, 4, 5},{0: 0, 1: 0, 2: one, 3: 0, 4: one, 5: one}),\n",
       " Vec({0, 1, 2, 3, 4, 5},{0: one, 1: 0, 2: one, 3: 0, 4: one, 5: one})]"
      ]
     },
     "execution_count": 137,
     "metadata": {},
     "output_type": "execute_result"
    }
   ],
   "source": [
    "from itertools import combinations, chain\n",
    "from independence import *\n",
    "\n",
    "# p394 課題 7.6.5\n",
    "found = False\n",
    "candidates = []\n",
    "while not found:\n",
    "    candidates = [[a0, b0]] + [[rand_vec(), rand_vec()] for i in range(4)]\n",
    "\n",
    "    found = True\n",
    "    for i, j, k in combinations(range(5), 3):\n",
    "        if not is_independent(candidates[i] + candidates[j] + candidates[k]):\n",
    "            found = False\n",
    "            break\n",
    "\n",
    "secret_vectors = list(chain.from_iterable(candidates))\n",
    "secret_vectors"
   ]
  },
  {
   "cell_type": "code",
   "execution_count": 136,
   "metadata": {},
   "outputs": [
    {
     "name": "stdout",
     "output_type": "stream",
     "text": [
      "\n",
      "       0 1  10  11  12 13  14  15  16  17  18  19   2  20  21  22  23  24 25  26  27 28  29   3  30  31   4 5   6   7   8 9\n",
      "     ----------------------------------------------------------------------------------------------------------------------\n",
      " 0  |  0 0 one one one  0 one one one one one one one one one   0 one   0  0 one one  0 one one   0 one one 0   0 one one 0\n",
      " 1  |  0 0 one   0 one  0 one   0 one   0 one   0 one one one one   0 one  0 one   0  0   0   0 one   0   0 0 one   0 one 0\n",
      "\n",
      "password\n"
     ]
    }
   ],
   "source": [
    "# p394 7.6.6 文字列の共有\n",
    "\n",
    "from bitutil import *\n",
    "\n",
    "# 秘密の情報\n",
    "secret = \"password\"\n",
    "\n",
    "# GF(2) の 2*N 行列にエンコード\n",
    "M = bits2mat(str2bits(secret), 2)\n",
    "print(M)\n",
    "\n",
    "# M はまだ暗号化されていない。元の文字列にデコードできることを確認する\n",
    "print(bits2str(mat2bits(M)))"
   ]
  },
  {
   "cell_type": "code",
   "execution_count": 163,
   "metadata": {},
   "outputs": [
    {
     "name": "stdout",
     "output_type": "stream",
     "text": [
      "\n",
      "         0   1  10  11  12  13  14  15  16  17  18  19   2  20  21  22  23  24  25  26  27  28  29   3  30  31   4   5   6   7   8   9\n",
      "     ---------------------------------------------------------------------------------------------------------------------------------\n",
      " 0  |    0 one one one one one one   0 one   0 one one one one   0 one one   0   0 one one   0 one one one one one one one one   0   0\n",
      " 1  |    0 one   0   0   0 one one one one   0 one one one one   0   0   0 one one one one one one one   0   0 one   0 one   0   0   0\n",
      " 2  |    0   0 one one one   0   0 one one one one   0 one   0 one   0   0 one   0 one one one   0 one one one one   0 one one   0 one\n",
      " 3  |    0   0   0 one   0   0   0 one   0 one   0 one   0   0   0 one one one   0   0 one   0 one one one one one   0 one one   0   0\n",
      " 4  |  one one one one   0 one   0 one one one   0 one one   0 one   0 one one one one one   0 one   0 one   0 one   0   0   0   0   0\n",
      " 5  |    0   0   0 one   0   0 one one one   0 one   0 one one one   0 one   0 one one   0 one   0   0   0 one   0 one one one one   0\n",
      "\n",
      "\n",
      "         0   1  10  11  12  13  14  15  16  17  18  19   2  20  21  22  23  24  25  26  27  28  29   3  30  31   4   5   6   7   8   9\n",
      "     ---------------------------------------------------------------------------------------------------------------------------------\n",
      " 0  |    0   0 one one one   0 one one one one one one one one one   0 one   0   0 one one   0 one one   0 one one   0   0 one one   0\n",
      " 1  |    0   0 one   0 one   0 one   0 one   0 one   0 one one one one   0 one   0 one   0   0   0   0 one   0   0   0 one   0 one   0\n",
      " 2  |  one one one   0   0 one   0   0 one   0   0   0 one   0 one one   0   0 one one   0   0   0 one   0 one   0   0 one one   0   0\n",
      " 3  |  one one one one   0 one one one   0   0 one   0   0 one   0 one one   0   0   0   0 one   0 one   0   0   0 one   0   0 one   0\n",
      " 4  |  one   0   0 one one   0   0   0 one one   0   0 one   0   0 one one one   0 one   0 one   0 one   0   0   0   0   0   0 one   0\n",
      " 5  |    0   0   0 one   0   0   0 one one   0 one one one   0 one   0   0 one one one   0   0 one   0 one one   0 one   0 one   0 one\n",
      " 6  |    0 one one one one one   0   0 one   0 one   0 one   0   0 one   0 one   0 one one one   0 one   0 one one one   0 one one one\n",
      " 7  |  one   0 one   0   0   0   0 one one one   0   0 one   0   0   0   0   0 one one   0   0   0 one one one   0 one   0 one one   0\n",
      " 8  |  one one   0 one one one one one one   0   0 one one one one   0   0   0   0 one   0   0 one one   0   0   0 one   0   0 one one\n",
      " 9  |  one   0 one   0   0   0   0 one   0   0 one   0   0   0 one one one   0   0   0 one   0   0   0 one one one   0 one one one one\n",
      "\n",
      "password\n"
     ]
    }
   ],
   "source": [
    "def choose_secret_vector(s, t):\n",
    "    while True:\n",
    "        u = rand_vec()\n",
    "        if  secret_vectors[0] * u == s and secret_vectors[1] * u == t:\n",
    "            return u\n",
    "\n",
    "# M の各列ごとに u を選び、それらを列ベクトルとした行列 U をつくる\n",
    "U_cols = {}\n",
    "for col, vec in mat2coldict(M).items():\n",
    "    U_cols[col] = choose_secret_vector(vec[0], vec[1])\n",
    "U = coldict2mat(U_cols)\n",
    "print(U)\n",
    "\n",
    "# 共有するベクトルを計算する\n",
    "A = rowdict2mat(secret_vectors) # Aは公開情報である\n",
    "S = A * U\n",
    "print(S)\n",
    "\n",
    "share_vectors = mat2rowdict(S)\n",
    "\n",
    "def decode(row1, row2):\n",
    "    return bits2str(mat2bits(rowdict2mat([row1, row2])))\n",
    "\n",
    "# S の1,2行目が元の秘密情報の平文である\n",
    "print(decode(share_vectors[0], share_vectors[1]))\n",
    "\n",
    "# 3行目以降は秘密情報を複数の暗号に分割したもので、\n",
    "# 3, 4行目をＡさん\n",
    "# 5, 6行目をＢさん\n",
    "# 7, 8行目をＣさん\n",
    "# 9, 10行目をＤさんに与える。\n",
    "# 4人のうち3人が暗号を持ち寄ると元の秘密情報を復元できるが、2人以下では復元できない。"
   ]
  },
  {
   "cell_type": "code",
   "execution_count": 177,
   "metadata": {},
   "outputs": [
    {
     "name": "stdout",
     "output_type": "stream",
     "text": [
      "ßX²¬!¶\u0014B\n",
      "qÉ§X;©\n",
      "öÍw",
      "\u001b\u0010yá\n",
      "W¦oÕa­¤\n",
      "\n",
      "         0   1  10  11  12  13  14  15  16  17  18  19   2  20  21  22  23  24  25  26  27  28  29   3  30  31   4   5   6   7   8   9\n",
      "     ---------------------------------------------------------------------------------------------------------------------------------\n",
      " 0  |    0 one one one one one one   0 one   0 one one one one   0 one one   0   0 one one   0 one one one one one one one one   0   0\n",
      " 1  |    0 one   0   0   0 one one one one   0 one one one one   0   0   0 one one one one one one one   0   0 one   0 one   0   0   0\n",
      " 2  |    0   0 one one one   0   0 one one one one   0 one   0 one   0   0 one   0 one one one   0 one one one one   0 one one   0 one\n",
      " 3  |    0   0   0 one   0   0   0 one   0 one   0 one   0   0   0 one one one   0   0 one   0 one one one one one   0 one one   0   0\n",
      " 4  |  one one one one   0 one   0 one one one   0 one one   0 one   0 one one one one one   0 one   0 one   0 one   0   0   0   0   0\n",
      " 5  |    0   0   0 one   0   0 one one one   0 one   0 one one one   0 one   0 one one   0 one   0   0   0 one   0 one one one one   0\n",
      "\n",
      "True\n"
     ]
    }
   ],
   "source": [
    "# まず各々が自分の暗号を単に文字列にデコードしてみると、でたらめな結果になる\n",
    "from more_itertools import chunked\n",
    "\n",
    "for i, j in chunked(range(2, 10), 2):\n",
    "    print(decode(share_vectors[i], share_vectors[j]))\n",
    "\n",
    "# 元の文字列を得るには A*U = S を解いて U を得る必要がある\n",
    "# - 10x6行列 A は既知\n",
    "# - 10xN行列 S は自分に与えられた行のみ既知で、1,2行目が元の文字列\n",
    "# - 6xN行列 U は未知\n",
    "#\n",
    "# ここで U のj列目を u_j、S のj列目を s_j とすると、A*u_j = s_j という線形方程式を解いていけば U を得ることができる。\n",
    "# 解くのに必要な情報は何か？\n",
    "# A はどの3組6個をとっても線形独立になるよう選ばれた行列であった。\n",
    "# したがって3人が情報を出し合い、A と S から6行抽出した A~ と S~ を作れば\n",
    "# A~*u_j = s~_j を解いていくことで U を得ることができる。\n",
    "\n",
    "from solver import solve\n",
    "\n",
    "# Ｂさん以外の3人が共謀したと考えよう\n",
    "judas = [2, 3, 6, 7, 8, 9]\n",
    "A2 = rowdict2mat([secret_vectors[i] for i in judas]) # A~\n",
    "S2 = rowdict2mat([share_vectors[i] for i in judas])  # S~\n",
    "\n",
    "U2_cols = {}\n",
    "for col, s2 in mat2coldict(S2).items():\n",
    "    # 1列ずつ solve で解を求めていく\n",
    "    U2_cols[col] = solve(A2, s2)\n",
    "\n",
    "# U が得られた\n",
    "U2 = coldict2mat(U2_cols)\n",
    "print(U2)\n",
    "print(U == U2)"
   ]
  },
  {
   "cell_type": "code",
   "execution_count": 176,
   "metadata": {},
   "outputs": [
    {
     "name": "stdout",
     "output_type": "stream",
     "text": [
      "\n",
      "       0 1  10  11  12 13  14  15  16  17  18  19   2  20  21  22  23  24 25  26  27 28  29   3  30  31   4 5   6   7   8 9\n",
      "     ----------------------------------------------------------------------------------------------------------------------\n",
      " 0  |  0 0 one one one  0 one one one one one one one one one   0 one   0  0 one one  0 one one   0 one one 0   0 one one 0\n",
      " 1  |  0 0 one   0 one  0 one   0 one   0 one   0 one one one one   0 one  0 one   0  0   0   0 one   0   0 0 one   0 one 0\n",
      "\n",
      "password\n"
     ]
    }
   ],
   "source": [
    "# あとは既知である A の1, 2行目に得られた U を掛ければ、元の情報が得られる\n",
    "A_top = rowdict2mat(secret_vectors[:2])\n",
    "M2 = A_top * U2\n",
    "print(M2)\n",
    "print(bits2str(mat2bits(M2)))"
   ]
  }
 ],
 "metadata": {
  "kernelspec": {
   "display_name": "Python 3",
   "language": "python",
   "name": "python3"
  },
  "language_info": {
   "codemirror_mode": {
    "name": "ipython",
    "version": 3
   },
   "file_extension": ".py",
   "mimetype": "text/x-python",
   "name": "python",
   "nbconvert_exporter": "python",
   "pygments_lexer": "ipython3",
   "version": "3.6.8"
  }
 },
 "nbformat": 4,
 "nbformat_minor": 2
}
