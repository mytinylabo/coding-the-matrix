{
 "cells": [
  {
   "cell_type": "code",
   "execution_count": 3,
   "metadata": {},
   "outputs": [
    {
     "name": "stdout",
     "output_type": "stream",
     "text": [
      "open /mnt/d/linux/study/coding-the-matrix/notebook/tmp/tmpoili0a0x.html in browser\n",
      "Hit Enter once the image is displayed.... \n"
     ]
    }
   ],
   "source": [
    "# p251 課題 4.15.1\n",
    "from image_mat_util import file2mat, mat2display\n",
    "\n",
    "pxs, clrs = file2mat('image/yukari256.png')\n",
    "mat2display(pxs, clrs)"
   ]
  },
  {
   "cell_type": "code",
   "execution_count": 4,
   "metadata": {},
   "outputs": [
    {
     "data": {
      "text/plain": [
       "Mat(({'u', 'y', 'x'}, {'u', 'y', 'x'}), {('x', 'x'): 1, ('y', 'y'): 1, ('u', 'u'): 1})"
      ]
     },
     "execution_count": 4,
     "metadata": {},
     "output_type": "execute_result"
    }
   ],
   "source": [
    "# p252 課題 4.15.2\n",
    "from vec import Vec\n",
    "from mat import Mat\n",
    "def identity():\n",
    "    return Mat(({'x', 'y', 'u'}, {'x', 'y', 'u'}), {('x', 'x'): 1, ('y', 'y'): 1, ('u', 'u'): 1})\n",
    "\n",
    "identity()"
   ]
  },
  {
   "cell_type": "code",
   "execution_count": 8,
   "metadata": {},
   "outputs": [
    {
     "name": "stdout",
     "output_type": "stream",
     "text": [
      "open /mnt/d/linux/study/coding-the-matrix/notebook/tmp/tmpdj572jov.html in browser\n",
      "Hit Enter once the image is displayed.... \n"
     ]
    }
   ],
   "source": [
    "pxs2 = identity() * pxs\n",
    "mat2display(pxs2, clrs)"
   ]
  },
  {
   "cell_type": "code",
   "execution_count": 9,
   "metadata": {},
   "outputs": [
    {
     "name": "stdout",
     "output_type": "stream",
     "text": [
      "open /mnt/d/linux/study/coding-the-matrix/notebook/tmp/tmp2e7q49tq.html in browser\n",
      "Hit Enter once the image is displayed.... \n"
     ]
    }
   ],
   "source": [
    "# p252 課題 4.15.3\n",
    "def translation(alpha, beta):\n",
    "    return Mat(({'x', 'y', 'u'}, {'x', 'y', 'u'}), {('x', 'x'): 1, ('y', 'y'): 1, ('u', 'u'): 1, ('x', 'u'): alpha, ('y', 'u'): beta})\n",
    "\n",
    "pxs3 = translation(20, 50) * pxs\n",
    "mat2display(pxs3, clrs)"
   ]
  },
  {
   "cell_type": "code",
   "execution_count": 10,
   "metadata": {},
   "outputs": [
    {
     "name": "stdout",
     "output_type": "stream",
     "text": [
      "open /mnt/d/linux/study/coding-the-matrix/notebook/tmp/tmpvjrwgzbb.html in browser\n",
      "Hit Enter once the image is displayed.... \n"
     ]
    }
   ],
   "source": [
    "# p252 課題 4.15.4\n",
    "def scale(alpha, beta):\n",
    "    return Mat(({'x', 'y', 'u'}, {'x', 'y', 'u'}), {('x', 'x'): alpha, ('y', 'y'): beta, ('u', 'u'): 1})\n",
    "\n",
    "pxs4 = scale(3, 1.5) * pxs\n",
    "mat2display(pxs4, clrs)"
   ]
  }
 ],
 "metadata": {
  "kernelspec": {
   "display_name": "Python 3",
   "language": "python",
   "name": "python3"
  },
  "language_info": {
   "codemirror_mode": {
    "name": "ipython",
    "version": 3
   },
   "file_extension": ".py",
   "mimetype": "text/x-python",
   "name": "python",
   "nbconvert_exporter": "python",
   "pygments_lexer": "ipython3",
   "version": "3.6.8"
  }
 },
 "nbformat": 4,
 "nbformat_minor": 2
}
