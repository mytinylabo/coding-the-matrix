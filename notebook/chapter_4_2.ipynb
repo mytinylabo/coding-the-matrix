{
 "cells": [
  {
   "cell_type": "code",
   "execution_count": 1,
   "metadata": {},
   "outputs": [
    {
     "name": "stdout",
     "output_type": "stream",
     "text": [
      "open /mnt/d/linux/study/coding-the-matrix/notebook/tmp/tmpauwwyz2y.html in browser\n",
      "Hit Enter once the image is displayed.... \n"
     ]
    }
   ],
   "source": [
    "# p251 課題 4.15.1\n",
    "from image_mat_util import file2mat, mat2display\n",
    "\n",
    "pxs, clrs = file2mat('image/yukari256.png')\n",
    "mat2display(pxs, clrs)"
   ]
  },
  {
   "cell_type": "code",
   "execution_count": 2,
   "metadata": {},
   "outputs": [
    {
     "data": {
      "text/plain": [
       "Mat(({'u', 'x', 'y'}, {'u', 'x', 'y'}), {('x', 'x'): 1, ('y', 'y'): 1, ('u', 'u'): 1})"
      ]
     },
     "execution_count": 2,
     "metadata": {},
     "output_type": "execute_result"
    }
   ],
   "source": [
    "# p252 課題 4.15.2\n",
    "from vec import Vec\n",
    "from mat import Mat\n",
    "def identity():\n",
    "    return Mat(({'x', 'y', 'u'}, {'x', 'y', 'u'}), {('x', 'x'): 1, ('y', 'y'): 1, ('u', 'u'): 1})\n",
    "\n",
    "identity()"
   ]
  },
  {
   "cell_type": "code",
   "execution_count": 3,
   "metadata": {},
   "outputs": [
    {
     "name": "stdout",
     "output_type": "stream",
     "text": [
      "open /mnt/d/linux/study/coding-the-matrix/notebook/tmp/tmpil191l82.html in browser\n",
      "Hit Enter once the image is displayed.... \n"
     ]
    }
   ],
   "source": [
    "pxs2 = identity() * pxs\n",
    "mat2display(pxs2, clrs)"
   ]
  },
  {
   "cell_type": "code",
   "execution_count": 4,
   "metadata": {},
   "outputs": [
    {
     "name": "stdout",
     "output_type": "stream",
     "text": [
      "open /mnt/d/linux/study/coding-the-matrix/notebook/tmp/tmp44q_zdec.html in browser\n",
      "Hit Enter once the image is displayed.... \n"
     ]
    }
   ],
   "source": [
    "# p252 課題 4.15.3\n",
    "def translation(alpha, beta):\n",
    "    return Mat(({'x', 'y', 'u'}, {'x', 'y', 'u'}), {('x', 'x'): 1, ('y', 'y'): 1, ('u', 'u'): 1, ('x', 'u'): alpha, ('y', 'u'): beta})\n",
    "\n",
    "pxs3 = translation(20, 50) * pxs\n",
    "mat2display(pxs3, clrs)"
   ]
  },
  {
   "cell_type": "code",
   "execution_count": 5,
   "metadata": {},
   "outputs": [
    {
     "name": "stdout",
     "output_type": "stream",
     "text": [
      "open /mnt/d/linux/study/coding-the-matrix/notebook/tmp/tmpx89y19b5.html in browser\n",
      "Hit Enter once the image is displayed.... \n"
     ]
    }
   ],
   "source": [
    "# p252 課題 4.15.4\n",
    "def scale(alpha, beta):\n",
    "    return Mat(({'x', 'y', 'u'}, {'x', 'y', 'u'}), {('x', 'x'): alpha, ('y', 'y'): beta, ('u', 'u'): 1})\n",
    "\n",
    "pxs4 = scale(3, 1.5) * pxs\n",
    "mat2display(pxs4, clrs)"
   ]
  },
  {
   "cell_type": "code",
   "execution_count": 7,
   "metadata": {},
   "outputs": [
    {
     "name": "stdout",
     "output_type": "stream",
     "text": [
      "open /mnt/d/linux/study/coding-the-matrix/notebook/tmp/tmpuho8orm5.html in browser\n",
      "Hit Enter once the image is displayed.... \n"
     ]
    }
   ],
   "source": [
    "# p253 課題 4.15.5\n",
    "import math\n",
    "def rotation(theta):\n",
    "    return Mat(({'x', 'y', 'u'}, {'x', 'y', 'u'}), {\n",
    "        ('x', 'x'): math.cos(theta), ('x', 'y'): -math.sin(theta),\n",
    "        ('y', 'x'): math.sin(theta), ('y', 'y'): math.cos(theta),\n",
    "        ('u', 'u'): 1})\n",
    "\n",
    "pxs5 = rotation(math.pi / 4) * pxs\n",
    "mat2display(pxs5, clrs)"
   ]
  },
  {
   "cell_type": "code",
   "execution_count": 10,
   "metadata": {},
   "outputs": [
    {
     "name": "stdout",
     "output_type": "stream",
     "text": [
      "open /mnt/d/linux/study/coding-the-matrix/notebook/tmp/tmpwog7by7s.html in browser\n",
      "Hit Enter once the image is displayed.... \n"
     ]
    }
   ],
   "source": [
    "# p253 課題 4.15.6\n",
    "def rotate_about(theta, x, y):\n",
    "    return translation(x, y) * rotation(theta) * translation(-x, -y)\n",
    "\n",
    "pxs6 = rotate_about(math.pi / 3, 128, 64) * pxs\n",
    "mat2display(pxs6, clrs)"
   ]
  },
  {
   "cell_type": "code",
   "execution_count": 20,
   "metadata": {},
   "outputs": [
    {
     "name": "stdout",
     "output_type": "stream",
     "text": [
      "open /mnt/d/linux/study/coding-the-matrix/notebook/tmp/tmptc_sid6l.html in browser\n",
      "Hit Enter once the image is displayed.... \n"
     ]
    }
   ],
   "source": [
    "# p253 課題 4.15.7\n",
    "def reflect_y():\n",
    "    return scale(-1, 1)\n",
    "\n",
    "pxs7 = (translation(256, 0) * reflect_y()) * pxs\n",
    "mat2display(pxs7, clrs)"
   ]
  },
  {
   "cell_type": "code",
   "execution_count": 21,
   "metadata": {},
   "outputs": [
    {
     "name": "stdout",
     "output_type": "stream",
     "text": [
      "open /mnt/d/linux/study/coding-the-matrix/notebook/tmp/tmptltpe5ii.html in browser\n",
      "Hit Enter once the image is displayed.... \n"
     ]
    }
   ],
   "source": [
    "# p253 課題 4.15.8\n",
    "def reflect_x():\n",
    "    return scale(1, -1)\n",
    "\n",
    "pxs8 = (translation(0, 160) * reflect_x()) * pxs\n",
    "mat2display(pxs8, clrs)"
   ]
  },
  {
   "cell_type": "code",
   "execution_count": 15,
   "metadata": {},
   "outputs": [
    {
     "name": "stdout",
     "output_type": "stream",
     "text": [
      "open /mnt/d/linux/study/coding-the-matrix/notebook/tmp/tmp_twh9k8y.html in browser\n",
      "Hit Enter once the image is displayed.... \n"
     ]
    }
   ],
   "source": [
    "# p253 課題 4.15.9\n",
    "def scale_color(alpha, beta, gamma):\n",
    "    return Mat(({'r', 'g', 'b'}, {'r', 'g', 'b'}), {('r', 'r'): alpha, ('g', 'g'): beta, ('b', 'b'): gamma})\n",
    "\n",
    "clrs9 = scale_color(1, 0, 0) * clrs\n",
    "mat2display(pxs, clrs9)"
   ]
  },
  {
   "cell_type": "code",
   "execution_count": 19,
   "metadata": {},
   "outputs": [
    {
     "name": "stdout",
     "output_type": "stream",
     "text": [
      "open /mnt/d/linux/study/coding-the-matrix/notebook/tmp/tmpu72g1gx4.html in browser\n",
      "Hit Enter once the image is displayed.... \n"
     ]
    }
   ],
   "source": [
    "# p254 課題 4.15.10\n",
    "def grayscale():\n",
    "    return (1/256) * Mat(({'r', 'g', 'b'}, {'r', 'g', 'b'}), {\n",
    "        ('r', 'r'): 77, ('r', 'g'): 151, ('r', 'b'): 28,\n",
    "        ('g', 'r'): 77, ('g', 'g'): 151, ('g', 'b'): 28,\n",
    "        ('b', 'r'): 77, ('b', 'g'): 151, ('b', 'b'): 28})\n",
    "\n",
    "clrs10 = grayscale() * clrs\n",
    "mat2display(pxs, clrs10)"
   ]
  },
  {
   "cell_type": "code",
   "execution_count": null,
   "metadata": {},
   "outputs": [
    {
     "name": "stdout",
     "output_type": "stream",
     "text": [
      "open /mnt/d/linux/study/coding-the-matrix/notebook/tmp/tmpgfzbz2hn.html in browser\n",
      "Hit Enter once the image is displayed.... "
     ]
    }
   ],
   "source": [
    "def reflect_about(x1, y1, x2, y2):\n",
    "    theta = math.atan2(y2 - y1, x2 - x1)\n",
    "    return translation(x1, y1) * rotation(theta * 2) * reflect_x() * translation(-x1, -y1)\n",
    "\n",
    "pxs11 = reflect_about(100, 100, 200, 50) * pxs\n",
    "mat2display(pxs11, clrs)"
   ]
  }
 ],
 "metadata": {
  "kernelspec": {
   "display_name": "Python 3",
   "language": "python",
   "name": "python3"
  },
  "language_info": {
   "codemirror_mode": {
    "name": "ipython",
    "version": 3
   },
   "file_extension": ".py",
   "mimetype": "text/x-python",
   "name": "python",
   "nbconvert_exporter": "python",
   "pygments_lexer": "ipython3",
   "version": "3.6.8"
  }
 },
 "nbformat": 4,
 "nbformat_minor": 2
}
