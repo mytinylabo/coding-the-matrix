{
 "cells": [
  {
   "cell_type": "markdown",
   "metadata": {},
   "source": [
    "## Pythonで複素数を操作"
   ]
  },
  {
   "cell_type": "code",
   "execution_count": 13,
   "metadata": {},
   "outputs": [
    {
     "data": {
      "text/plain": [
       "3j"
      ]
     },
     "execution_count": 13,
     "metadata": {},
     "output_type": "execute_result"
    }
   ],
   "source": [
    "3j"
   ]
  },
  {
   "cell_type": "code",
   "execution_count": 3,
   "metadata": {},
   "outputs": [
    {
     "ename": "NameError",
     "evalue": "name 'j' is not defined",
     "output_type": "error",
     "traceback": [
      "\u001b[0;31m---------------------------------------------------------------------------\u001b[0m",
      "\u001b[0;31mNameError\u001b[0m                                 Traceback (most recent call last)",
      "\u001b[0;32m<ipython-input-3-3eedd8854d1e>\u001b[0m in \u001b[0;36m<module>\u001b[0;34m\u001b[0m\n\u001b[0;32m----> 1\u001b[0;31m \u001b[0mj\u001b[0m\u001b[0;34m\u001b[0m\u001b[0;34m\u001b[0m\u001b[0m\n\u001b[0m",
      "\u001b[0;31mNameError\u001b[0m: name 'j' is not defined"
     ]
    }
   ],
   "source": [
    "j"
   ]
  },
  {
   "cell_type": "code",
   "execution_count": 4,
   "metadata": {},
   "outputs": [
    {
     "data": {
      "text/plain": [
       "1j"
      ]
     },
     "execution_count": 4,
     "metadata": {},
     "output_type": "execute_result"
    }
   ],
   "source": [
    "1j"
   ]
  },
  {
   "cell_type": "code",
   "execution_count": 5,
   "metadata": {},
   "outputs": [
    {
     "data": {
      "text/plain": [
       "(1+3j)"
      ]
     },
     "execution_count": 5,
     "metadata": {},
     "output_type": "execute_result"
    }
   ],
   "source": [
    "1+3j"
   ]
  },
  {
   "cell_type": "code",
   "execution_count": 6,
   "metadata": {},
   "outputs": [
    {
     "data": {
      "text/plain": [
       "(11+23j)"
      ]
     },
     "execution_count": 6,
     "metadata": {},
     "output_type": "execute_result"
    }
   ],
   "source": [
    "(1+3j)+(10+20j)"
   ]
  },
  {
   "cell_type": "code",
   "execution_count": 8,
   "metadata": {},
   "outputs": [
    {
     "data": {
      "text/plain": [
       "(-9+0j)"
      ]
     },
     "execution_count": 8,
     "metadata": {},
     "output_type": "execute_result"
    }
   ],
   "source": [
    "x = 1+3j\n",
    "(x-1)**2"
   ]
  },
  {
   "cell_type": "code",
   "execution_count": 9,
   "metadata": {},
   "outputs": [
    {
     "data": {
      "text/plain": [
       "(1+6j)"
      ]
     },
     "execution_count": 9,
     "metadata": {},
     "output_type": "execute_result"
    }
   ],
   "source": [
    "1+2j*3"
   ]
  },
  {
   "cell_type": "code",
   "execution_count": 10,
   "metadata": {},
   "outputs": [
    {
     "data": {
      "text/plain": [
       "(-36+0j)"
      ]
     },
     "execution_count": 10,
     "metadata": {},
     "output_type": "execute_result"
    }
   ],
   "source": [
    "4*3j**2"
   ]
  },
  {
   "cell_type": "code",
   "execution_count": 11,
   "metadata": {},
   "outputs": [
    {
     "data": {
      "text/plain": [
       "1.0"
      ]
     },
     "execution_count": 11,
     "metadata": {},
     "output_type": "execute_result"
    }
   ],
   "source": [
    "x.real"
   ]
  },
  {
   "cell_type": "code",
   "execution_count": 12,
   "metadata": {},
   "outputs": [
    {
     "data": {
      "text/plain": [
       "3.0"
      ]
     },
     "execution_count": 12,
     "metadata": {},
     "output_type": "execute_result"
    }
   ],
   "source": [
    "x.imag"
   ]
  },
  {
   "cell_type": "code",
   "execution_count": 15,
   "metadata": {},
   "outputs": [],
   "source": [
    "import matplotlib.pyplot as plt"
   ]
  },
  {
   "cell_type": "code",
   "execution_count": 79,
   "metadata": {},
   "outputs": [
    {
     "data": {
      "image/png": "[encoded data removed]",
      "text/plain": [
       "<Figure size 432x288 with 1 Axes>"
      ]
     },
     "metadata": {
      "needs_background": "light"
     },
     "output_type": "display_data"
    }
   ],
   "source": [
    "%matplotlib inline\n",
    "def plot_cs(cmps, r=(0,0)):\n",
    "    xs = [c.real for c in cmps]\n",
    "    ys = [c.imag for c in cmps]\n",
    "\n",
    "    plt.axes(aspect='equal')\n",
    "    plt.scatter(xs, ys)\n",
    "\n",
    "    if r != (0,0):\n",
    "        plt.xlim([r[0], r[1]])\n",
    "        plt.ylim([r[0], r[1]])\n",
    "    \n",
    "    plt.xlabel('real')\n",
    "    plt.ylabel('imag')\n",
    "    plt.grid(True)\n",
    "\n",
    "    \n",
    "s={2+2j,3+2j,1.75+1j,2+1j,2.25+1j,2.5+1j,2.75+1j,3+1j,3.25+1j}\n",
    "plot_cs(s, (0,4.5))"
   ]
  },
  {
   "cell_type": "code",
   "execution_count": 80,
   "metadata": {},
   "outputs": [
    {
     "data": {
      "image/png": "[encoded data removed]",
      "text/plain": [
       "<Figure size 432x288 with 1 Axes>"
      ]
     },
     "metadata": {
      "needs_background": "light"
     },
     "output_type": "display_data"
    }
   ],
   "source": [
    "# p54 課題 1.4.3\n",
    "plot_cs([c + 1+2j for c in s], (0,4.5))"
   ]
  },
  {
   "cell_type": "code",
   "execution_count": 81,
   "metadata": {},
   "outputs": [
    {
     "data": {
      "image/png": "[encoded data removed]",
      "text/plain": [
       "<Figure size 432x288 with 1 Axes>"
      ]
     },
     "metadata": {
      "needs_background": "light"
     },
     "output_type": "display_data"
    }
   ],
   "source": [
    "# p54 クイズ 1.4.4\n",
    "plot_cs([c - (2+2j) for c in s], (-2,2))"
   ]
  },
  {
   "cell_type": "code",
   "execution_count": 82,
   "metadata": {},
   "outputs": [
    {
     "data": {
      "image/png": "[encoded data removed]",
      "text/plain": [
       "<Figure size 432x288 with 1 Axes>"
      ]
     },
     "metadata": {
      "needs_background": "light"
     },
     "output_type": "display_data"
    }
   ],
   "source": [
    "# p57 課題 1.4.8\n",
    "plot_cs([c * 0.5j for c in s], (-4.5, 4.5))"
   ]
  },
  {
   "cell_type": "code",
   "execution_count": 83,
   "metadata": {},
   "outputs": [
    {
     "data": {
      "image/png": "[encoded data removed]",
      "text/plain": [
       "<Figure size 432x288 with 1 Axes>"
      ]
     },
     "metadata": {
      "needs_background": "light"
     },
     "output_type": "display_data"
    }
   ],
   "source": [
    "# p58 課題 1.4.9\n",
    "plot_cs([c * 0.5j + 2-1j for c in s], (-4.5, 4.5))"
   ]
  },
  {
   "cell_type": "code",
   "execution_count": 109,
   "metadata": {},
   "outputs": [
    {
     "data": {
      "image/png": "[encoded data removed]",
      "text/plain": [
       "<Figure size 432x288 with 1 Axes>"
      ]
     },
     "metadata": {
      "needs_background": "light"
     },
     "output_type": "display_data"
    }
   ],
   "source": [
    "# p58 課題 1.4.9\n",
    "import math\n",
    "n = 20\n",
    "w = math.e**(2*math.pi*1j/n)\n",
    "ws = [w**i for i in range(0, n)]\n",
    "plot_cs(ws)"
   ]
  },
  {
   "cell_type": "code",
   "execution_count": 85,
   "metadata": {},
   "outputs": [
    {
     "data": {
      "image/png": "[encoded data removed]",
      "text/plain": [
       "<Figure size 432x288 with 1 Axes>"
      ]
     },
     "metadata": {
      "needs_background": "light"
     },
     "output_type": "display_data"
    }
   ],
   "source": [
    "# p64 課題 1.4.18\n",
    "plot_cs(s, [0,4.5])\n",
    "plot_cs([c * (math.e**(1j*math.pi/4)) for c in s])"
   ]
  },
  {
   "cell_type": "code",
   "execution_count": 90,
   "metadata": {
    "scrolled": true
   },
   "outputs": [
    {
     "data": {
      "image/png": "[encoded data removed]",
      "text/plain": [
       "<Figure size 432x288 with 1 Axes>"
      ]
     },
     "metadata": {
      "needs_background": "light"
     },
     "output_type": "display_data"
    }
   ],
   "source": [
    "# p65 課題 1.4.20（画像じゃなくてSで）\n",
    "plot_cs([(c -2.5-1.5j) * (math.e**(1j*math.pi/4)) for c in s], [-2, 2])"
   ]
  },
  {
   "cell_type": "markdown",
   "metadata": {},
   "source": [
    "## GF(2)による暗号化"
   ]
  },
  {
   "cell_type": "code",
   "execution_count": 110,
   "metadata": {},
   "outputs": [
    {
     "data": {
      "text/plain": [
       "[('00000', 'VEVLZDLVEZ '),\n",
       " ('00001', 'UFUKYCKUFY*'),\n",
       " ('00010', 'XGXJ*BJXG*Y'),\n",
       " ('00011', 'WHWI AIWH Z'),\n",
       " ('00100', 'RARP*HPRA**'),\n",
       " ('00101', 'QBQO*GOQB**'),\n",
       " ('00110', 'TCTN*FNTC**'),\n",
       " ('00111', 'SDSM*EMSD**'),\n",
       " ('01000', '*M*DRLD*MRS'),\n",
       " ('01001', '*N*CQKC*NQT'),\n",
       " ('01010', '*O*BTJB*OTQ'),\n",
       " ('01011', '*P*ASIA*PSR'),\n",
       " ('01100', 'ZIZHVPHZIVW'),\n",
       " ('01101', 'YJYGUOGYJUX'),\n",
       " ('01110', '*K*FXNF*KXU'),\n",
       " ('01111', ' L EWME LWV'),\n",
       " ('10000', 'FUF*JT*FUJK'),\n",
       " ('10001', 'EVE IS EVIL'),\n",
       " ('10010', 'HWHZLRZHWLI'),\n",
       " ('10011', 'GXGYKQYGXKJ'),\n",
       " ('10100', 'BQB*NX*BQNO'),\n",
       " ('10101', 'ARA*MW*ARMP'),\n",
       " ('10110', 'DSD*PV*DSPM'),\n",
       " ('10111', 'CTC*OU*CTON'),\n",
       " ('11000', 'N*NTB*TN*BC'),\n",
       " ('11001', 'M*MSA SM*AD'),\n",
       " ('11010', 'P*PRDZRP*DA'),\n",
       " ('11011', 'O*OQCYQO*CB'),\n",
       " ('11100', 'JYJXF*XJYFG'),\n",
       " ('11101', 'IZIWE*WIZEH'),\n",
       " ('11110', 'L LVH*VL HE'),\n",
       " ('11111', 'K*KUG*UK*GF')]"
      ]
     },
     "execution_count": 110,
     "metadata": {},
     "output_type": "execute_result"
    }
   ],
   "source": [
    "# p68 課題 1.5.1\n",
    "table = {code: char for code, char in enumerate('ABCDEFGHIJKLMNOPQRSTUVWXYZ ')}\n",
    "\n",
    "cipher = [ 0b10101, 0b00100, 0b10101, 0b01011, 0b11001, 0b00011, 0b01011, 0b10101, 0b00100, 0b11001, 0b11010 ]\n",
    "\n",
    "# それぞれに同一の5bitとxorを取ると復号できる。5bitが取り得る値の全てを試してみる\n",
    "[(format(k, 'b').zfill(5), ''.join([table[k ^ c] if k ^ c in table else '*' for c in cipher])) for k in range(0, 0b100000)]"
   ]
  },
  {
   "cell_type": "code",
   "execution_count": 111,
   "metadata": {},
   "outputs": [],
   "source": [
    "# 文章として成立しているのは ('10001', 'EVE IS EVIL')"
   ]
  },
  {
   "cell_type": "markdown",
   "metadata": {},
   "source": [
    "## Python課題"
   ]
  },
  {
   "cell_type": "code",
   "execution_count": 114,
   "metadata": {},
   "outputs": [
    {
     "data": {
      "text/plain": [
       "[1, 5, 7]"
      ]
     },
     "execution_count": 114,
     "metadata": {},
     "output_type": "execute_result"
    }
   ],
   "source": [
    "# p70 課題 1.7.1\n",
    "def my_filter(l, num):\n",
    "    return list(filter(lambda n: n % num != 0, l))\n",
    "\n",
    "my_filter([1,2,4,5,7], 2)"
   ]
  },
  {
   "cell_type": "code",
   "execution_count": 116,
   "metadata": {},
   "outputs": [
    {
     "data": {
      "text/plain": [
       "[[1], [1, 2], [1, 2, 3, 4]]"
      ]
     },
     "execution_count": 116,
     "metadata": {},
     "output_type": "execute_result"
    }
   ],
   "source": [
    "# p71 課題 1.7.2\n",
    "def my_lists(l):\n",
    "    return [list(range(1, n+1)) for n in l]\n",
    "\n",
    "my_lists([1,2,4])"
   ]
  },
  {
   "cell_type": "code",
   "execution_count": 121,
   "metadata": {},
   "outputs": [
    {
     "data": {
      "text/plain": [
       "[[]]"
      ]
     },
     "execution_count": 121,
     "metadata": {},
     "output_type": "execute_result"
    }
   ],
   "source": [
    "my_lists([0])"
   ]
  },
  {
   "cell_type": "code",
   "execution_count": 124,
   "metadata": {},
   "outputs": [
    {
     "data": {
      "text/plain": [
       "{0: 'apple', 1: 'banana'}"
      ]
     },
     "execution_count": 124,
     "metadata": {},
     "output_type": "execute_result"
    }
   ],
   "source": [
    "# p71 課題 1.7.3\n",
    "def my_function_composition(f, g):\n",
    "    return {k: g[v] for k, v in f.items()}\n",
    "\n",
    "f = {0:'a', 1:'b'}\n",
    "g = {'a':'apple', 'b':'banana'}\n",
    "my_function_composition(f, g)"
   ]
  },
  {
   "cell_type": "code",
   "execution_count": 126,
   "metadata": {},
   "outputs": [
    {
     "data": {
      "text/plain": [
       "55"
      ]
     },
     "execution_count": 126,
     "metadata": {},
     "output_type": "execute_result"
    }
   ],
   "source": [
    "# p71 課題 1.7.4\n",
    "def my_sum(l):\n",
    "    current = 0\n",
    "    for x in l:\n",
    "        current = current + x\n",
    "    return current\n",
    "\n",
    "my_sum([1,2,3,4,5,6,7,8,9,10])"
   ]
  },
  {
   "cell_type": "code",
   "execution_count": 130,
   "metadata": {},
   "outputs": [
    {
     "data": {
      "text/plain": [
       "24"
      ]
     },
     "execution_count": 130,
     "metadata": {},
     "output_type": "execute_result"
    }
   ],
   "source": [
    "# p71 課題 1.7.5\n",
    "def my_product(l):\n",
    "    current = 1\n",
    "    for x in l:\n",
    "        current = current * x\n",
    "    return current\n",
    "\n",
    "my_product([1,2,3,4])"
   ]
  },
  {
   "cell_type": "code",
   "execution_count": 144,
   "metadata": {},
   "outputs": [
    {
     "data": {
      "text/plain": [
       "1"
      ]
     },
     "execution_count": 144,
     "metadata": {},
     "output_type": "execute_result"
    }
   ],
   "source": [
    "# p72 課題 1.7.6\n",
    "def my_min(l):\n",
    "    current = float(\"inf\")\n",
    "    for x in l:\n",
    "        current = x if x < current else current\n",
    "    return current\n",
    "\n",
    "my_min([2,3,1,4])"
   ]
  },
  {
   "cell_type": "code",
   "execution_count": 142,
   "metadata": {},
   "outputs": [
    {
     "data": {
      "text/plain": [
       "inf"
      ]
     },
     "execution_count": 142,
     "metadata": {},
     "output_type": "execute_result"
    }
   ],
   "source": [
    "my_min([])"
   ]
  },
  {
   "cell_type": "code",
   "execution_count": 137,
   "metadata": {},
   "outputs": [
    {
     "data": {
      "text/plain": [
       "'penpineappleapplepen'"
      ]
     },
     "execution_count": 137,
     "metadata": {},
     "output_type": "execute_result"
    }
   ],
   "source": [
    "# p72 課題 1.7.7\n",
    "def my_concat(l):\n",
    "    current = ''\n",
    "    for x in l:\n",
    "        current = current + x\n",
    "    return current\n",
    "\n",
    "my_concat(['pen','pineapple','apple','pen'])"
   ]
  },
  {
   "cell_type": "code",
   "execution_count": 145,
   "metadata": {},
   "outputs": [
    {
     "data": {
      "text/plain": [
       "{1, 2, 3, 4, 5, 6, 7}"
      ]
     },
     "execution_count": 145,
     "metadata": {},
     "output_type": "execute_result"
    }
   ],
   "source": [
    "# p72 課題 1.7.8\n",
    "def my_union(l):\n",
    "    current = set()\n",
    "    for x in l:\n",
    "        current = current | x\n",
    "    return current\n",
    "\n",
    "my_union([{1,2,3},{5,6,7},{3,4,5}])"
   ]
  },
  {
   "cell_type": "code",
   "execution_count": 152,
   "metadata": {},
   "outputs": [
    {
     "data": {
      "text/plain": [
       "[(4-2j), (2+0j), 0j]"
      ]
     },
     "execution_count": 152,
     "metadata": {},
     "output_type": "execute_result"
    }
   ],
   "source": [
    "# p73 課題 1.7.9\n",
    "def transform(a, b, l):\n",
    "    return [a*z + b for z in l]\n",
    "\n",
    "# a) a=-2j, b=2-2j\n",
    "#    指定は先に移動してから回転だが、(z+(1+1j))*(-2j) = -2j*z + (2-2j) なので\n",
    "#    回転してから移動の式に置き換えられる。\n",
    "transform(-2j, 2-2j, [0+1j, -1+0j, -1-1j]) "
   ]
  },
  {
   "cell_type": "code",
   "execution_count": 189,
   "metadata": {},
   "outputs": [],
   "source": [
    "# b) 0+0j を -3-2j に移すので b=-3-2j でなければならない。\n",
    "#    1+0j を移す場合、a*z == sqrt(2)+sqrt(2)j になっている必要があるので、\n",
    "#    a=sqrt(2)+sqrt(2)j でなければならない。\n",
    "#    0+1j を移す場合は a*z == -3/sqrt(2)+3/sqrt(2)j になっている必要があるので、\n",
    "#    a=3/sqrt(2)+3/sqrt(2)j でなければならない。\n",
    "#    この a の条件を同時に満たすことはできないので、任意の複素数に対応できる a は存在しない。\n",
    "#\n",
    "# WolframAlpha での検算コマンド\n",
    "# solve[{(1+0*i)*a == sqrt(2)+sqrt(2)*i,(0+i)*a == -3/sqrt(2) + (3/sqrt(2))*i},{a}]\n",
    "# solve[{((1/2)+(1/3)*i)*a == sqrt(2)*i, 1*a == sqrt(2)+sqrt(2)*i},{a}]"
   ]
  }
 ],
 "metadata": {
  "kernelspec": {
   "display_name": "Python 3",
   "language": "python",
   "name": "python3"
  },
  "language_info": {
   "codemirror_mode": {
    "name": "ipython",
    "version": 3
   },
   "file_extension": ".py",
   "mimetype": "text/x-python",
   "name": "python",
   "nbconvert_exporter": "python",
   "pygments_lexer": "ipython3",
   "version": "3.7.3"
  }
 },
 "nbformat": 4,
 "nbformat_minor": 2
}
