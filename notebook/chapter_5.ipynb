{
 "cells": [
  {
   "cell_type": "code",
   "execution_count": 1,
   "metadata": {},
   "outputs": [
    {
     "data": {
      "text/plain": [
       "[[1, 0, 0], [0, 1, 0], [0, 0, 1]]"
      ]
     },
     "execution_count": 1,
     "metadata": {},
     "output_type": "execute_result"
    }
   ],
   "source": [
    "# p288 グローアルゴリズムの実装\n",
    "import numpy as np\n",
    "\n",
    "def span_includes(A, v):\n",
    "    rank_a  = np.linalg.matrix_rank(np.array(A).transpose())\n",
    "    rank_ab = np.linalg.matrix_rank(np.array(A + [v]).transpose())\n",
    "    # 唯一解かどうかは調べなくていいだろうか？\n",
    "    return rank_a == rank_ab\n",
    "\n",
    "def grow(T):\n",
    "    B = []\n",
    "    for v in T:\n",
    "        if not span_includes(B, v):\n",
    "            B.append(v)\n",
    "    return B\n",
    "\n",
    "T = [\n",
    "    [1, 0, 0],\n",
    "    [0, 1, 0],\n",
    "    [2, 4, 0],\n",
    "    [0, 0, 1],\n",
    "    [1, 1, 0]\n",
    "]\n",
    "\n",
    "grow(T)"
   ]
  },
  {
   "cell_type": "code",
   "execution_count": 2,
   "metadata": {},
   "outputs": [
    {
     "data": {
      "text/plain": [
       "[[2, 4, 0], [0, 0, 1], [1, 1, 0]]"
      ]
     },
     "execution_count": 2,
     "metadata": {},
     "output_type": "execute_result"
    }
   ],
   "source": [
    "# p288 シュリンクアルゴリズムの実装\n",
    "from copy import copy\n",
    "\n",
    "def shrink(T):\n",
    "    Tc = np.array(T)\n",
    "    live = [True] * len(T)\n",
    "    for i, v in enumerate(T):\n",
    "        live[i] = False\n",
    "        if not span_includes(Tc[live].tolist(), v):\n",
    "            live[i] = True\n",
    "    return [v for i, v in enumerate(T) if live[i]]\n",
    "\n",
    "shrink(T)"
   ]
  },
  {
   "cell_type": "code",
   "execution_count": 3,
   "metadata": {},
   "outputs": [
    {
     "data": {
      "text/plain": [
       "[[2, 4, 0], [0, 0, 1], [1, 1, 0]]"
      ]
     },
     "execution_count": 3,
     "metadata": {},
     "output_type": "execute_result"
    }
   ],
   "source": [
    "grow(shrink(T))"
   ]
  },
  {
   "cell_type": "code",
   "execution_count": 4,
   "metadata": {},
   "outputs": [
    {
     "data": {
      "text/plain": [
       "[[1, 0, 0], [0, 1, 0], [0, 0, 1]]"
      ]
     },
     "execution_count": 4,
     "metadata": {},
     "output_type": "execute_result"
    }
   ],
   "source": [
    "shrink(grow(T))"
   ]
  },
  {
   "cell_type": "code",
   "execution_count": 5,
   "metadata": {},
   "outputs": [
    {
     "data": {
      "text/plain": [
       "[[2, 0, 0], [0, 2, 0], [1, 1, 2]]"
      ]
     },
     "execution_count": 5,
     "metadata": {},
     "output_type": "execute_result"
    }
   ],
   "source": [
    "C = [\n",
    "    [2, 0, 0],\n",
    "    [0, 2, 0],\n",
    "    [1, 1, 2]\n",
    "]\n",
    "grow(C)"
   ]
  },
  {
   "cell_type": "code",
   "execution_count": 6,
   "metadata": {},
   "outputs": [],
   "source": [
    "from GF2 import one\n",
    "from math import sqrt, pi\n",
    "from matutil import coldict2mat\n",
    "from solver import solve\n",
    "from vec import Vec\n",
    "from vecutil import list2vec\n",
    "\n",
    "def vec2rep(veclist, v):\n",
    "    A = coldict2mat({i: col for i, col in enumerate(veclist)})\n",
    "    return solve(A, v)"
   ]
  },
  {
   "cell_type": "code",
   "execution_count": 7,
   "metadata": {},
   "outputs": [
    {
     "data": {
      "text/plain": [
       "[Vec({0, 1, 2},{0: 0, 1: 0, 2: 0}),\n",
       " Vec({0, 1, 2},{0: 1, 1: 0, 2: 0}),\n",
       " Vec({0, 1, 2},{0: 0, 1: 1, 2: 0}),\n",
       " Vec({0, 1, 2},{0: 1, 1: 1, 2: 0}),\n",
       " Vec({0, 1, 2},{0: 0, 1: 0, 2: 1}),\n",
       " Vec({0, 1, 2},{0: 1, 1: 0, 2: 1}),\n",
       " Vec({0, 1, 2},{0: 0, 1: 1, 2: 1}),\n",
       " Vec({0, 1, 2},{0: 1, 1: 1, 2: 1})]"
      ]
     },
     "execution_count": 7,
     "metadata": {},
     "output_type": "execute_result"
    }
   ],
   "source": [
    "L = [\n",
    "    [0,0,0], [1,0,0], [0,1,0], [1,1,0],\n",
    "    [0,0,1], [1,0,1], [0,1,1], [1,1,1]\n",
    "]\n",
    "corners = [list2vec(v) for v in L]\n",
    "corners"
   ]
  },
  {
   "cell_type": "code",
   "execution_count": 11,
   "metadata": {},
   "outputs": [
    {
     "data": {
      "text/plain": [
       "2412"
      ]
     },
     "execution_count": 11,
     "metadata": {},
     "output_type": "execute_result"
    }
   ],
   "source": [
    "def line_segment(pt1, pt2, samples=200):\n",
    "    return [((i/samples)*pt1 + ((1-i/samples)*pt2)) for i in range(samples+1)]\n",
    "\n",
    "line_segments = [\n",
    "    line_segment(corners[i], corners[j]) for i, j in\n",
    "    [(0,1), (2,3), (0,2), (1,3), (4,5), (6,7), (4,6), (5,7), (0,4), (1,5), (2,6), (3,7)]\n",
    "]\n",
    "\n",
    "pts = sum(line_segments, [])\n",
    "len(pts)"
   ]
  },
  {
   "cell_type": "code",
   "execution_count": 20,
   "metadata": {},
   "outputs": [],
   "source": [
    "def pixel(x):\n",
    "    return (x[0], x[1])\n",
    "\n",
    "def scale_down(x):\n",
    "    return list2vec([x[0]/x[2], x[1]/x[2], 1])"
   ]
  },
  {
   "cell_type": "code",
   "execution_count": 14,
   "metadata": {},
   "outputs": [],
   "source": [
    "shifted_pts = [v + list2vec([1, 1, 8]) for v in pts]"
   ]
  },
  {
   "cell_type": "code",
   "execution_count": 15,
   "metadata": {},
   "outputs": [],
   "source": [
    "cb = [\n",
    "    list2vec([1/100, 0, 0]),\n",
    "    list2vec([0, 1/100, 0]),\n",
    "    list2vec([0, 0, 1])\n",
    "]"
   ]
  },
  {
   "cell_type": "code",
   "execution_count": 21,
   "metadata": {},
   "outputs": [],
   "source": [
    "reps = [vec2rep(cb, v) for v in shifted_pts]\n",
    "in_camera_plane = [scale_down(u) for u in reps]\n",
    "pixels = [pixel(u) for u in in_camera_plane]"
   ]
  },
  {
   "cell_type": "code",
   "execution_count": 22,
   "metadata": {},
   "outputs": [
    {
     "ename": "NameError",
     "evalue": "name 'plot' is not defined",
     "output_type": "error",
     "traceback": [
      "\u001b[0;31m----------------------------------------------------------\u001b[0m",
      "\u001b[0;31mNameError\u001b[0m                Traceback (most recent call last)",
      "\u001b[0;32m<ipython-input-22-7790f9733335>\u001b[0m in \u001b[0;36m<module>\u001b[0;34m\u001b[0m\n\u001b[0;32m----> 1\u001b[0;31m \u001b[0mplot\u001b[0m\u001b[0;34m(\u001b[0m\u001b[0mpixels\u001b[0m\u001b[0;34m,\u001b[0m \u001b[0;36m30\u001b[0m\u001b[0;34m,\u001b[0m \u001b[0;36m1\u001b[0m\u001b[0;34m)\u001b[0m\u001b[0;34m\u001b[0m\u001b[0;34m\u001b[0m\u001b[0m\n\u001b[0m",
      "\u001b[0;31mNameError\u001b[0m: name 'plot' is not defined"
     ]
    }
   ],
   "source": [
    "plot(pixels, 30, 1)"
   ]
  }
 ],
 "metadata": {
  "kernelspec": {
   "display_name": "Python 3",
   "language": "python",
   "name": "python3"
  },
  "language_info": {
   "codemirror_mode": {
    "name": "ipython",
    "version": 3
   },
   "file_extension": ".py",
   "mimetype": "text/x-python",
   "name": "python",
   "nbconvert_exporter": "python",
   "pygments_lexer": "ipython3",
   "version": "3.6.8"
  }
 },
 "nbformat": 4,
 "nbformat_minor": 2
}
