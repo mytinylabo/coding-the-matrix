{
 "cells": [
  {
   "cell_type": "code",
   "execution_count": 1,
   "metadata": {},
   "outputs": [
    {
     "data": {
      "text/plain": [
       "[[1, 0, 0], [0, 1, 0], [0, 0, 1]]"
      ]
     },
     "execution_count": 1,
     "metadata": {},
     "output_type": "execute_result"
    }
   ],
   "source": [
    "# p288 グローアルゴリズムの実装\n",
    "import numpy as np\n",
    "\n",
    "def span_includes(A, v, debug=False):\n",
    "    rank_a  = np.linalg.matrix_rank(np.array(A).transpose())\n",
    "    rank_ab = np.linalg.matrix_rank(np.array(A + [v]).transpose())\n",
    "    \n",
    "    if debug:\n",
    "        print(rank_a, rank_ab)\n",
    "    \n",
    "    # 唯一解かどうかは調べなくていいだろうか？\n",
    "    return rank_a == rank_ab\n",
    "\n",
    "def grow(T):\n",
    "    B = []\n",
    "    for v in T:\n",
    "        if not span_includes(B, v):\n",
    "            B.append(v)\n",
    "    return B\n",
    "\n",
    "T = [\n",
    "    [1, 0, 0],\n",
    "    [0, 1, 0],\n",
    "    [2, 4, 0],\n",
    "    [0, 0, 1],\n",
    "    [1, 1, 0]\n",
    "]\n",
    "\n",
    "grow(T)"
   ]
  },
  {
   "cell_type": "code",
   "execution_count": 2,
   "metadata": {},
   "outputs": [
    {
     "data": {
      "text/plain": [
       "[[1, 1, 0], [0, 0, 1], [2, 4, 0]]"
      ]
     },
     "execution_count": 2,
     "metadata": {},
     "output_type": "execute_result"
    }
   ],
   "source": [
    "grow(reversed(T))"
   ]
  },
  {
   "cell_type": "code",
   "execution_count": 3,
   "metadata": {},
   "outputs": [
    {
     "data": {
      "text/plain": [
       "[[2, 4, 0], [0, 0, 1], [1, 1, 0]]"
      ]
     },
     "execution_count": 3,
     "metadata": {},
     "output_type": "execute_result"
    }
   ],
   "source": [
    "# p288 シュリンクアルゴリズムの実装\n",
    "from copy import copy\n",
    "\n",
    "def shrink(T):\n",
    "    Tc = np.array(T)\n",
    "    live = [True] * len(T)\n",
    "    for i, v in enumerate(T):\n",
    "        live[i] = False\n",
    "        if not span_includes(Tc[live].tolist(), v):\n",
    "            live[i] = True\n",
    "    return [v for i, v in enumerate(T) if live[i]]\n",
    "\n",
    "shrink(T)"
   ]
  },
  {
   "cell_type": "code",
   "execution_count": 4,
   "metadata": {},
   "outputs": [
    {
     "data": {
      "text/plain": [
       "[[2, 4, 0], [0, 0, 1], [1, 1, 0]]"
      ]
     },
     "execution_count": 4,
     "metadata": {},
     "output_type": "execute_result"
    }
   ],
   "source": [
    "grow(shrink(T))"
   ]
  },
  {
   "cell_type": "code",
   "execution_count": 5,
   "metadata": {},
   "outputs": [
    {
     "data": {
      "text/plain": [
       "[[1, 0, 0], [0, 1, 0], [0, 0, 1]]"
      ]
     },
     "execution_count": 5,
     "metadata": {},
     "output_type": "execute_result"
    }
   ],
   "source": [
    "shrink(grow(T))"
   ]
  },
  {
   "cell_type": "code",
   "execution_count": 6,
   "metadata": {},
   "outputs": [
    {
     "data": {
      "text/plain": [
       "[[2, 0, 0], [0, 2, 0], [1, 1, 2]]"
      ]
     },
     "execution_count": 6,
     "metadata": {},
     "output_type": "execute_result"
    }
   ],
   "source": [
    "C = [\n",
    "    [2, 0, 0],\n",
    "    [0, 2, 0],\n",
    "    [1, 1, 2]\n",
    "]\n",
    "grow(C)"
   ]
  },
  {
   "cell_type": "code",
   "execution_count": 21,
   "metadata": {},
   "outputs": [],
   "source": [
    "# 5.9 遠近法によるレンダリング\n",
    "from GF2 import one\n",
    "from math import sqrt, pi\n",
    "from matutil import coldict2mat, mat2coldict\n",
    "from solver import solve\n",
    "from vec import Vec\n",
    "from vecutil import list2vec\n",
    "from plotting import plot\n",
    "from operator import itemgetter\n",
    "\n",
    "def vec2rep(veclist, v):\n",
    "    A = coldict2mat({i: col for i, col in enumerate(veclist)})\n",
    "    return solve(A, v)"
   ]
  },
  {
   "cell_type": "code",
   "execution_count": 8,
   "metadata": {},
   "outputs": [],
   "source": [
    "L = [\n",
    "    [0,0,0], [1,0,0], [0,1,0], [1,1,0],\n",
    "    [0,0,1], [1,0,1], [0,1,1], [1,1,1]\n",
    "]\n",
    "corners = [list2vec(v) for v in L]"
   ]
  },
  {
   "cell_type": "code",
   "execution_count": 9,
   "metadata": {},
   "outputs": [
    {
     "data": {
      "text/plain": [
       "2412"
      ]
     },
     "execution_count": 9,
     "metadata": {},
     "output_type": "execute_result"
    }
   ],
   "source": [
    "def line_segment(pt1, pt2, samples=200):\n",
    "    return [((i/samples)*pt1 + ((1-i/samples)*pt2)) for i in range(samples+1)]\n",
    "\n",
    "line_segments = [\n",
    "    line_segment(corners[i], corners[j]) for i, j in\n",
    "    [(0,1), (2,3), (0,2), (1,3), (4,5), (6,7), (4,6), (5,7), (0,4), (1,5), (2,6), (3,7)]\n",
    "]\n",
    "\n",
    "pts = sum(line_segments, [])\n",
    "len(pts)"
   ]
  },
  {
   "cell_type": "code",
   "execution_count": 10,
   "metadata": {},
   "outputs": [],
   "source": [
    "def pixel(x):\n",
    "    return (x[0], x[1])\n",
    "\n",
    "def scale_down(x):\n",
    "    return list2vec([x[0]/x[2], x[1]/x[2], 1])"
   ]
  },
  {
   "cell_type": "code",
   "execution_count": 11,
   "metadata": {},
   "outputs": [
    {
     "name": "stdout",
     "output_type": "stream",
     "text": [
      "open /mnt/d/linux/study/coding-the-matrix/notebook/tmp/tmpapjebn2t.html in browser\n"
     ]
    },
    {
     "data": {
      "text/plain": [
       "25.0"
      ]
     },
     "execution_count": 11,
     "metadata": {},
     "output_type": "execute_result"
    }
   ],
   "source": [
    "shifted_pts = [v + list2vec([1, 1, 8]) for v in pts]\n",
    "\n",
    "cb = [\n",
    "    list2vec([1/100, 0, 0]),\n",
    "    list2vec([0, 1/100, 0]),\n",
    "    list2vec([0, 0, 1])\n",
    "]\n",
    "\n",
    "reps = [vec2rep(cb, v) for v in shifted_pts]\n",
    "in_camera_plane = [scale_down(u) for u in reps]\n",
    "pixels = [pixel(u) for u in in_camera_plane]\n",
    "\n",
    "plot(pixels, 30, 1)\n",
    "\n",
    "max(map(itemgetter(0), pixels))"
   ]
  },
  {
   "cell_type": "code",
   "execution_count": 12,
   "metadata": {},
   "outputs": [
    {
     "name": "stdout",
     "output_type": "stream",
     "text": [
      "open /mnt/d/linux/study/coding-the-matrix/notebook/tmp/tmph_gwm3vg.html in browser\n"
     ]
    },
    {
     "data": {
      "text/plain": [
       "6.25"
      ]
     },
     "execution_count": 12,
     "metadata": {},
     "output_type": "execute_result"
    }
   ],
   "source": [
    "shifted_pts = [v + list2vec([-0.5, -0.5, 8]) for v in pts]\n",
    "\n",
    "cb = [\n",
    "    list2vec([1/100, 0, 0]),\n",
    "    list2vec([0, 1/100, 0]),\n",
    "    list2vec([0, 0, 1])\n",
    "]\n",
    "\n",
    "reps = [vec2rep(cb, v) for v in shifted_pts]\n",
    "in_camera_plane = [scale_down(u) for u in reps]\n",
    "pixels = [pixel(u) for u in in_camera_plane]\n",
    "\n",
    "plot(pixels, 30, 1)\n",
    "\n",
    "max(map(itemgetter(0), pixels))"
   ]
  },
  {
   "cell_type": "code",
   "execution_count": 13,
   "metadata": {},
   "outputs": [
    {
     "name": "stdout",
     "output_type": "stream",
     "text": [
      "2 2\n"
     ]
    },
    {
     "data": {
      "text/plain": [
       "True"
      ]
     },
     "execution_count": 13,
     "metadata": {},
     "output_type": "execute_result"
    }
   ],
   "source": [
    "span_includes([[1,-1,1],[1,2,-2]], [0,0,0], debug=True)"
   ]
  },
  {
   "cell_type": "code",
   "execution_count": 26,
   "metadata": {},
   "outputs": [
    {
     "name": "stdout",
     "output_type": "stream",
     "text": [
      "\n",
      " ('y1', 'x1') ('y1', 'x2') ('y1', 'x3') ('y2', 'x1') ('y2', 'x2') ('y2', 'x3') ('y3', 'x1') ('y3', 'x2') ('y3', 'x3')\n",
      "---------------------------------------------------------------------------------------------------------------------\n",
      "            1       0.0517         -360      -0.0763        0.148           22       -0.144     -0.00234          134\n"
     ]
    }
   ],
   "source": [
    "# 透視補正\n",
    "from vec import Vec\n",
    "from mat import Mat\n",
    "from matutil import rowdict2mat\n",
    "from solver import solve\n",
    "\n",
    "def move2board(y):\n",
    "    return Vec({'y1', 'y2', 'y3'}, {'y1': y['y1'] / y['y3'], 'y2': y['y2'] / y['y3'], 'y3': 1})\n",
    "\n",
    "D = {(r, c) for r in {'y1', 'y2', 'y3'} for c in {'x1', 'x2', 'x3'}}\n",
    "\n",
    "def make_equations(x1, x2, w1, w2):\n",
    "    u = Vec(D, {('y3', 'x1'): w1 * x1, ('y3', 'x2'): w1 * x2, ('y3', 'x3'): w1 * 1, ('y1', 'x1'): -x1, ('y1', 'x2'): -x2, ('y1', 'x3'): -1})\n",
    "    v = Vec(D, {('y3', 'x1'): w2 * x1, ('y3', 'x2'): w2 * x2, ('y3', 'x3'): w2 * 1, ('y2', 'x1'): -x1, ('y2', 'x2'): -x2, ('y2', 'x3'): -1})\n",
    "    return [u, v]\n",
    "\n",
    "b = Vec(set(range(9)), {8: 1})\n",
    "\n",
    "def make_nine_equations(corners):\n",
    "    vecs = []\n",
    "    # for x, w in zip(corners, [(0, 0), (0, 1), (1, 0), (1, 1)]):\n",
    "    for x, w in zip(corners, [(0, 0), (0, 1), (5, 0), (5, 1)]):\n",
    "        vecs.extend(make_equations(x[0], x[1], w[0], w[1]))\n",
    "    vecs.append(Vec(D, {('y1', 'x1'): 1}))\n",
    "    return vecs\n",
    "\n",
    "veclist = make_nine_equations([(358, 36), (329, 597), (592, 157), (580, 483)])\n",
    "\n",
    "L = rowdict2mat({i: v for i, v in enumerate(veclist)})\n",
    "\n",
    "hvec = solve(L, b)\n",
    "\n",
    "print(hvec)"
   ]
  },
  {
   "cell_type": "code",
   "execution_count": 20,
   "metadata": {},
   "outputs": [],
   "source": [
    "from image_mat_util import file2mat, mat2display\n",
    "\n",
    "(X_pts, colors) = file2mat('image/board.png', ('x1', 'x2', 'x3'))"
   ]
  },
  {
   "cell_type": "code",
   "execution_count": 16,
   "metadata": {},
   "outputs": [],
   "source": [
    "H = Mat(({'y1', 'y2', 'y3'}, {'x1', 'x2', 'x3'}), hvec.f)\n",
    "Y_pts = H * X_pts"
   ]
  },
  {
   "cell_type": "code",
   "execution_count": 18,
   "metadata": {},
   "outputs": [],
   "source": [
    "def mat_move2board(Y):\n",
    "    return coldict2mat({c: move2board(v) for c, v in mat2coldict(Y).items()})\n",
    "\n",
    "Y_board = mat_move2board(Y_pts)"
   ]
  },
  {
   "cell_type": "code",
   "execution_count": 22,
   "metadata": {},
   "outputs": [
    {
     "name": "stdout",
     "output_type": "stream",
     "text": [
      "open /mnt/d/linux/study/coding-the-matrix/notebook/tmp/tmpjwtr_1wz.html in browser\n",
      "Hit Enter once the image is displayed.... \n"
     ]
    }
   ],
   "source": [
    "mat2display(Y_board, colors, ('y1', 'y2', 'y3'), scale=100, xmin=None, ymin=None)"
   ]
  },
  {
   "cell_type": "code",
   "execution_count": 27,
   "metadata": {},
   "outputs": [
    {
     "name": "stdout",
     "output_type": "stream",
     "text": [
      "\n",
      " ('y1', 'x1') ('y1', 'x2') ('y1', 'x3') ('y2', 'x1') ('y2', 'x2') ('y2', 'x3') ('y3', 'x1') ('y3', 'x2') ('y3', 'x3')\n",
      "---------------------------------------------------------------------------------------------------------------------\n",
      "            1     1.73E-16         -135       -0.175       -0.954         82.8      -0.0874      -0.0213        -22.3\n"
     ]
    }
   ],
   "source": [
    "# p313 課題 5.12.9\n",
    "# cit.png\n",
    "\n",
    "veclist = make_nine_equations([(135, 62), (135, 100), (10, 85), (8, 112)])\n",
    "L = rowdict2mat({i: v for i, v in enumerate(veclist)})\n",
    "hvec = solve(L, b)\n",
    "\n",
    "print(hvec)"
   ]
  },
  {
   "cell_type": "code",
   "execution_count": 28,
   "metadata": {},
   "outputs": [
    {
     "name": "stdout",
     "output_type": "stream",
     "text": [
      "open /mnt/d/linux/study/coding-the-matrix/notebook/tmp/tmpmdsx5sl1.html in browser\n",
      "Hit Enter once the image is displayed.... \n"
     ]
    }
   ],
   "source": [
    "(X_pts, colors) = file2mat('image/cit.png', ('x1', 'x2', 'x3'))\n",
    "H = Mat(({'y1', 'y2', 'y3'}, {'x1', 'x2', 'x3'}), hvec.f)\n",
    "Y_pts = H * X_pts\n",
    "Y_board = mat_move2board(Y_pts)\n",
    "\n",
    "mat2display(Y_board, colors, ('y1', 'y2', 'y3'), scale=100, xmin=None, ymin=None)"
   ]
  }
 ],
 "metadata": {
  "kernelspec": {
   "display_name": "Python 3",
   "language": "python",
   "name": "python3"
  },
  "language_info": {
   "codemirror_mode": {
    "name": "ipython",
    "version": 3
   },
   "file_extension": ".py",
   "mimetype": "text/x-python",
   "name": "python",
   "nbconvert_exporter": "python",
   "pygments_lexer": "ipython3",
   "version": "3.6.8"
  }
 },
 "nbformat": 4,
 "nbformat_minor": 2
}
