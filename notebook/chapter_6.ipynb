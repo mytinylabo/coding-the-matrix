{
 "cells": [
  {
   "cell_type": "code",
   "execution_count": 20,
   "metadata": {},
   "outputs": [],
   "source": [
    "# モーフィングの補題を実装してみる\n",
    "import numpy as np\n",
    "\n",
    "def span_includes(A, v, debug=False):\n",
    "    rank_a  = np.linalg.matrix_rank(np.array(A).transpose())\n",
    "    rank_ab = np.linalg.matrix_rank(np.array(A + [v]).transpose())\n",
    "    \n",
    "    if debug:\n",
    "        print(rank_a, rank_ab)\n",
    "\n",
    "    return rank_a == rank_ab\n",
    "\n",
    "def morph_S(S, B):\n",
    "    '''\n",
    "    S: 生成子の集合\n",
    "    B: Span(S) 内の線形独立なベクトル\n",
    "    '''\n",
    "    Sc = np.array(S)\n",
    "    A = []\n",
    "    for b in B:\n",
    "        A.append(b) # B から S に１個取り込む（その後取り除かれないよう、S の部分集合 A として区別する）\n",
    "        n = len(Sc)\n",
    "        for i in range(len(Sc)):\n",
    "            pick = [True] * n\n",
    "            pick[i] = False\n",
    "            T = Sc[pick].tolist() + A\n",
    "            w = Sc[i].tolist()\n",
    "            if span_includes(T, w):\n",
    "                # w は S から削除可能\n",
    "                Sc = Sc[pick]\n",
    "                break\n",
    "    return Sc.tolist() + A"
   ]
  },
  {
   "cell_type": "code",
   "execution_count": 17,
   "metadata": {},
   "outputs": [
    {
     "data": {
      "text/plain": [
       "[[0, 0, 1], [1, 2, 3], [4, 5, 6]]"
      ]
     },
     "execution_count": 17,
     "metadata": {},
     "output_type": "execute_result"
    }
   ],
   "source": [
    "S = [\n",
    "    [1,0,0],\n",
    "    [0,1,0],\n",
    "    [0,0,1]\n",
    "]\n",
    "B1 = [\n",
    "    [1,2,3],\n",
    "    [4,5,6]\n",
    "]\n",
    "\n",
    "morph_S(S, B1)"
   ]
  },
  {
   "cell_type": "code",
   "execution_count": 18,
   "metadata": {},
   "outputs": [
    {
     "data": {
      "text/plain": [
       "[[1, 0, 0], [0, 3, 2], [0, 4, 1]]"
      ]
     },
     "execution_count": 18,
     "metadata": {},
     "output_type": "execute_result"
    }
   ],
   "source": [
    "B2 = [\n",
    "    [0,3,2],\n",
    "    [0,4,1]\n",
    "]\n",
    "morph_S(S, B2)"
   ]
  },
  {
   "cell_type": "code",
   "execution_count": 19,
   "metadata": {},
   "outputs": [
    {
     "data": {
      "text/plain": [
       "[[3, 0, 0], [0, 5, 0], [0, 0, 8]]"
      ]
     },
     "execution_count": 19,
     "metadata": {},
     "output_type": "execute_result"
    }
   ],
   "source": [
    "B3 = [\n",
    "    [3,0,0],\n",
    "    [0,5,0],\n",
    "    [0,0,8]\n",
    "]\n",
    "morph_S(S, B3)"
   ]
  },
  {
   "cell_type": "code",
   "execution_count": 21,
   "metadata": {},
   "outputs": [
    {
     "data": {
      "text/plain": [
       "[[0, 1, 0], [0, 0, 1], [1, 0, 0]]"
      ]
     },
     "execution_count": 21,
     "metadata": {},
     "output_type": "execute_result"
    }
   ],
   "source": [
    "B4 = [\n",
    "    [0,1,0],\n",
    "    [0,0,1],\n",
    "    [1,0,0]\n",
    "]\n",
    "morph_S(S, B4)"
   ]
  },
  {
   "cell_type": "code",
   "execution_count": 1,
   "metadata": {},
   "outputs": [],
   "source": [
    "from vecutil import *\n",
    "from independence import *\n",
    "from GF2 import one"
   ]
  },
  {
   "cell_type": "code",
   "execution_count": 14,
   "metadata": {},
   "outputs": [
    {
     "name": "stdout",
     "output_type": "stream",
     "text": [
      "3\n",
      "3\n",
      "3\n",
      "3\n"
     ]
    }
   ],
   "source": [
    "# p342 問題 6.3.13, 6.3.14\n",
    "\n",
    "def check_rank(L):\n",
    "    return rank([list2vec(l) for l in L])\n",
    "\n",
    "# すべてランクが 3 であれば正解\n",
    "print(check_rank([[2,1,2], [1,1,1], [1,1,0]]))\n",
    "print(check_rank([[0,1,-1], [1,0,0], [0,1,0]]))\n",
    "\n",
    "print(check_rank([[one,one,0], [0,one,one], [0,0,one]]))\n",
    "print(check_rank([[one,one,one], [0,one,0], [0,0,one]]))"
   ]
  },
  {
   "cell_type": "code",
   "execution_count": 8,
   "metadata": {},
   "outputs": [
    {
     "data": {
      "text/plain": [
       "False"
      ]
     },
     "execution_count": 8,
     "metadata": {},
     "output_type": "execute_result"
    }
   ],
   "source": [
    "from matutil import *\n",
    "\n",
    "def is_invertible(M):\n",
    "    if len(M.D[0]) != len(M.D[1]):\n",
    "        return False\n",
    "    return is_independent(list(mat2coldict(M).values()))\n",
    "\n",
    "M = Mat(({0, 1, 2, 3}, {0, 1, 2, 3}), {(0, 1): 0, (1, 2): 1, (3, 2): 0, (0, 0): 1, (3, 3): 4, (3, 0): 0, (3, 1): 0, (1, 1): 2, (2, 1): 0, (0, 2): 1, (2, 0): 0, (1, 3): 0, (2, 3): 1, (2, 2): 3, (1, 0): 0, (0, 3): 0})\n",
    "is_invertible(M)\n",
    "\n",
    "M1 = Mat(({0,1,2},{0,1,2}),{(0,0):1,(0,2):2,(1,2):3,(2,2):4})\n",
    "is_invertible(M1)"
   ]
  },
  {
   "cell_type": "code",
   "execution_count": 12,
   "metadata": {},
   "outputs": [
    {
     "data": {
      "text/plain": [
       "True"
      ]
     },
     "execution_count": 12,
     "metadata": {},
     "output_type": "execute_result"
    }
   ],
   "source": [
    "from solver import *\n",
    "\n",
    "def find_matrix_inverse(A):\n",
    "    '''\n",
    "    Input:\n",
    "        - A: an invertible Mat over GF(2)\n",
    "    Output:\n",
    "        - A Mat that is the inverse of A\n",
    "    Examples:\n",
    "        >>> M1 = Mat(({0,1,2}, {0,1,2}), {(0, 1): one, (1, 0): one, (2, 2): one})\n",
    "        >>> find_matrix_inverse(M1) == Mat(M1.D, {(0, 1): one, (1, 0): one, (2, 2): one})\n",
    "        True\n",
    "    '''\n",
    "    x = []\n",
    "    n = len(A.D[0])\n",
    "    for i in range(n):\n",
    "        bi = list2vec([one if j == i else 0 for j in range(n)])\n",
    "        x.append(solve(A, bi))\n",
    "    return coldict2mat(x)\n",
    "\n",
    "M1 = Mat(({0,1,2}, {0,1,2}), {(0, 1): one, (1, 0): one, (2, 2): one})\n",
    "find_matrix_inverse(M1) == Mat(M1.D, {(0, 1): one, (1, 0): one, (2, 2): one})"
   ]
  },
  {
   "cell_type": "code",
   "execution_count": 28,
   "metadata": {},
   "outputs": [
    {
     "name": "stdout",
     "output_type": "stream",
     "text": [
      "\n",
      "       0   1   2   3\n",
      "     ---------------\n",
      " 0  |  1 0.5 0.2   4\n",
      " 1  |  0   1 0.3 0.9\n",
      " 2  |  0   0   1 0.1\n",
      " 3  |  0   0   0   1\n",
      "\n",
      "\n",
      "       0    1     2     3\n",
      "     --------------------\n",
      " 0  |  1 -0.5 -0.05 -3.54\n",
      " 1  |  0    1  -0.3 -0.87\n",
      " 2  |  0    0     1  -0.1\n",
      " 3  |  0    0     0     1\n",
      "\n",
      "\n",
      "       0    1     2     3\n",
      "     --------------------\n",
      " 0  |  1 -0.5 -0.05 -3.54\n",
      " 1  |  0    1  -0.3 -0.87\n",
      " 2  |  0    0     1  -0.1\n",
      " 3  |  0    0     0     1\n",
      "\n",
      "\n",
      "       0 1 2 3\n",
      "     ---------\n",
      " 0  |  1 0 0 0\n",
      " 1  |  0 1 0 0\n",
      " 2  |  0 0 1 0\n",
      " 3  |  0 0 0 1\n",
      "\n"
     ]
    }
   ],
   "source": [
    "from triangular import triangular_solve\n",
    "\n",
    "def find_triangular_matrix_inverse(A):\n",
    "    x = []\n",
    "    n = len(A.D[0])\n",
    "    for i in range(n):\n",
    "        bi = list2vec([1 if i == j else 0 for j in range(n)])\n",
    "        x.append(triangular_solve(rowlist, range(n), bi))\n",
    "    return coldict2mat(x)\n",
    "\n",
    "A = listlist2mat([[1, .5, .2, 4],[0, 1, .3, .9],[0,0,1,.1],[0,0,0,1]])\n",
    "A2 = find_triangular_matrix_inverse(A)# == Mat(({0, 1, 2, 3}, {0, 1, 2, 3}), {(0, 1): -0.5, (1, 2): -0.3, (3, 2): 0.0, (0, 0): 1.0, (3, 3): 1.0, (3, 0): 0.0, (3, 1): 0.0, (2, 1): 0.0, (0, 2): -0.05000000000000002, (2, 0): 0.0, (1, 3): -0.87, (2, 3): -0.1, (2, 2): 1.0, (1, 0): 0.0, (0, 3): -3.545, (1, 1): 1.0})\n",
    "print(A)\n",
    "print(A2)\n",
    "print(Mat(({0, 1, 2, 3}, {0, 1, 2, 3}), {(0, 1): -0.5, (1, 2): -0.3, (3, 2): 0.0, (0, 0): 1.0, (3, 3): 1.0, (3, 0): 0.0, (3, 1): 0.0, (2, 1): 0.0, (0, 2): -0.05000000000000002, (2, 0): 0.0, (1, 3): -0.87, (2, 3): -0.1, (2, 2): 1.0, (1, 0): 0.0, (0, 3): -3.545, (1, 1): 1.0}))\n",
    "print(A * A2)"
   ]
  }
 ],
 "metadata": {
  "kernelspec": {
   "display_name": "Python 3",
   "language": "python",
   "name": "python3"
  },
  "language_info": {
   "codemirror_mode": {
    "name": "ipython",
    "version": 3
   },
   "file_extension": ".py",
   "mimetype": "text/x-python",
   "name": "python",
   "nbconvert_exporter": "python",
   "pygments_lexer": "ipython3",
   "version": "3.6.8"
  }
 },
 "nbformat": 4,
 "nbformat_minor": 2
}
